{
 "cells": [
  {
   "cell_type": "markdown",
   "metadata": {},
   "source": [
    "# Cracking the Coding Interview 6th Edition Solutions Manual in Python\n",
    "\n",
    "## Part 4\n",
    "\n",
    "## Contents\n",
    "\n",
    "1. Arrays and Strings\n",
    "2. Linked Lists\n",
    "3. Stacks and Queues\n",
    "4. Trees and Graphs\n",
    "5. Bit Manipulation\n",
    "6. Math and Logic Puzzles\n",
    "7. Object-Oriented Design\n",
    "8. Recursion and Dynamic Programming\n",
    "9. System Design and Scalability\n",
    "10. Sorting and Searching\n",
    "11. Testing\n",
    "12. C and C++\n",
    "13. Java\n",
    "14. Databases\n",
    "15. Threads and Locking\n",
    "16. [Moderate](#16)\n",
    "    - 16.1 [Number Swapper](#16.1)\n",
    "    - 16.2 [Word Frequencies](#16.2)\n",
    "    - 16.3 [Intersection](#16.3)\n",
    "    - 16.4 [Tic Tac Win](#16.4)\n",
    "    - 16.5 [Factorial Zeros](#16.5)\n",
    "17. Hard"
   ]
  },
  {
   "cell_type": "code",
   "execution_count": 1,
   "metadata": {},
   "outputs": [],
   "source": [
    "import unittest"
   ]
  },
  {
   "cell_type": "markdown",
   "metadata": {},
   "source": [
    "<a id='16'></a>\n",
    "## 16. Moderate\n",
    "\n",
    "<a id='16.1'></a>\n",
    "### 16.1 Number Swapper\n",
    "Write a function to swap a number in place (that is, without temporary variables)"
   ]
  },
  {
   "cell_type": "code",
   "execution_count": 3,
   "metadata": {},
   "outputs": [
    {
     "name": "stderr",
     "output_type": "stream",
     "text": [
      "..\n",
      "----------------------------------------------------------------------\n",
      "Ran 2 tests in 0.001s\n",
      "\n",
      "OK\n"
     ]
    },
    {
     "data": {
      "text/plain": [
       "<unittest.main.TestProgram at 0x226c6c9fef0>"
      ]
     },
     "execution_count": 3,
     "metadata": {},
     "output_type": "execute_result"
    }
   ],
   "source": [
    "def number_swapper(a, b):\n",
    "    a, b = b, a\n",
    "    return (a, b)\n",
    "\n",
    "def number_swapper_bit(a, b):\n",
    "    a ^= b\n",
    "    b ^= a\n",
    "    a ^= b\n",
    "    return (a, b)\n",
    "\n",
    "class Test(unittest.TestCase):\n",
    "    def test_number_swapper(self):\n",
    "        a = 123456789\n",
    "        b = 1010101010101010\n",
    "        (a, b) = number_swapper(a, b)\n",
    "        self.assertEqual(a, 1010101010101010)\n",
    "        self.assertEqual(b, 123456789)\n",
    "    def test_number_swapper_bit(self):\n",
    "        a = 123456789\n",
    "        b = 1010101010101010\n",
    "        (a, b) = number_swapper_bit(a, b)\n",
    "        self.assertEqual(a, 1010101010101010)\n",
    "        self.assertEqual(b, 123456789)\n",
    "        \n",
    "unittest.main(argv=['first-arg-is-ignored'], exit=False)"
   ]
  },
  {
   "cell_type": "markdown",
   "metadata": {},
   "source": [
    "<a id='16.2'></a>\n",
    "### 16.2 Word Frequencies\n",
    "Design a method to find the frequency of occurences of any given word in a book. What if we were running this algorithm multiple times?"
   ]
  },
  {
   "cell_type": "code",
   "execution_count": 2,
   "metadata": {},
   "outputs": [
    {
     "name": "stderr",
     "output_type": "stream",
     "text": [
      ".\n",
      "----------------------------------------------------------------------\n",
      "Ran 1 test in 0.017s\n",
      "\n",
      "OK\n"
     ]
    },
    {
     "data": {
      "text/plain": [
       "<unittest.main.TestProgram at 0x238da41b358>"
      ]
     },
     "execution_count": 2,
     "metadata": {},
     "output_type": "execute_result"
    }
   ],
   "source": [
    "class TextStats(object):\n",
    "    def __init__(self, lines):\n",
    "        self.total_words = 0\n",
    "        self.word_counts = Counter()\n",
    "        for line in lines:\n",
    "            words = line.strip().split(\" \")\n",
    "            self.total_words += len(words)\n",
    "            for word in words:\n",
    "                self.word_counts[word] += 1\n",
    "\n",
    "    def word_frequency(self, word):\n",
    "        if self.total_words == 0:\n",
    "            return None\n",
    "        return float(self.word_counts[word]) / self.total_words\n",
    "\n",
    "class Counter(dict):\n",
    "    def __missing__(self, item):\n",
    "        return 0\n",
    "\n",
    "class Test(unittest.TestCase):\n",
    "    def test_word_frequency(self):\n",
    "        text = \"\"\"\n",
    "            When the sun shines, we'll shine together\n",
    "            Told you I'd be here forever\n",
    "            Said I'll always be a friend\n",
    "            Took an oath I'ma stick it out 'til the end\n",
    "            Now that it's raining more than ever\n",
    "            Know that we'll still have each other\n",
    "            You can stand under my umbrella\n",
    "            You can stand under my umbrella\n",
    "            (Ella ella eh eh eh)\n",
    "            Under my umbrella\n",
    "            (Ella ella eh eh eh)\n",
    "            Under my umbrella\n",
    "            (Ella ella eh eh eh)\n",
    "            Under my umbrella\n",
    "            (Ella ella eh eh eh eh eh eh)\"\"\"\n",
    "        stats = TextStats(text.strip().split(\"\\n\"))\n",
    "        self.assertEqual(stats.total_words, 87)\n",
    "        self.assertEqual(stats.word_frequency(\"umbrella\"), 5 / 87.0)\n",
    "        \n",
    "unittest.main(argv=['first-arg-is-ignored'], exit=False)"
   ]
  },
  {
   "cell_type": "markdown",
   "metadata": {},
   "source": [
    "<a id='16.3'></a>\n",
    "### 16.3 Intersection\n",
    "Given two straight line segments (represented as a start point and an end point), compute the point of intersection, if any. "
   ]
  },
  {
   "cell_type": "code",
   "execution_count": 3,
   "metadata": {},
   "outputs": [
    {
     "name": "stderr",
     "output_type": "stream",
     "text": [
      ".\n",
      "----------------------------------------------------------------------\n",
      "Ran 1 test in 0.011s\n",
      "\n",
      "OK\n"
     ]
    },
    {
     "data": {
      "text/plain": [
       "<unittest.main.TestProgram at 0x238da44d470>"
      ]
     },
     "execution_count": 3,
     "metadata": {},
     "output_type": "execute_result"
    }
   ],
   "source": [
    "import math\n",
    "\n",
    "THRESHOLD = 0.00000001\n",
    "\n",
    "def intersection(s1, s2):\n",
    "    a, b = s1.p2.y - s1.p1.y, -(s1.p2.x - s1.p1.x)\n",
    "    c, d = s2.p2.y - s2.p1.y, -(s2.p2.x - s2.p1.x)\n",
    "    det = a * d - b * c\n",
    "    if det == 0:\n",
    "        s2_len = s2.length()\n",
    "        if abs(s1.p1.dist(s2.p1) + s1.p1.dist(s2.p2) - s2_len) < THRESHOLD:\n",
    "            return s1.p1\n",
    "        if abs(s1.p2.dist(s2.p1) + s1.p2.dist(s2.p2) - s2_len) < THRESHOLD:\n",
    "            return s1.p2\n",
    "        return None\n",
    "    e, f = s1.p1.x * a + s1.p1.y * b, s2.p1.x * c + s2.p1.y * d\n",
    "    x = (d * e - b * f) / float(det)\n",
    "    y = (a * f - c * e) / float(det)\n",
    "    p = Point(x, y)\n",
    "    if s1.box_contains(p) and s2.box_contains(p):\n",
    "        return Point(x, y)\n",
    "    return None\n",
    "\n",
    "class Segment(object):\n",
    "    def __init__(self, p1, p2):\n",
    "        self.p1, self.p2 = p1, p2\n",
    "\n",
    "    def length(self):\n",
    "        return self.p1.dist(self.p2)\n",
    "\n",
    "    def box_contains(self, p):\n",
    "        minx, maxx = min(self.p1.x, self.p2.x), max(self.p1.x, self.p2.x)\n",
    "        miny, maxy = min(self.p1.y, self.p2.y), max(self.p1.y, self.p2.y)\n",
    "        return minx <= p.x and maxx >= p.x and miny <= p.y and maxy >= p.y \n",
    "\n",
    "class Point(object):\n",
    "    def __init__(self, x, y):\n",
    "        self.x, self.y = x, y\n",
    "\n",
    "    def dist(self, other):\n",
    "        if self.x == other.x and self.y == other.y:\n",
    "            return 0\n",
    "        return math.sqrt((self.x - other.x)**2 + (self.y - other.y)**2)\n",
    "\n",
    "    def coords(self):\n",
    "        return (self.x, self.y)\n",
    "\n",
    "class Test(unittest.TestCase):\n",
    "    def test_intersection(self):\n",
    "        seg1 = Segment(Point(1,1), Point(4,4))\n",
    "        seg2 = Segment(Point(3,3), Point(7,7))\n",
    "        self.assertEqual(intersection(seg1, seg2).coords(), (4,4))\n",
    "        seg1 = Segment(Point(1,1), Point(4,4))\n",
    "        seg2 = Segment(Point(5,5), Point(8,8))\n",
    "        self.assertEqual(intersection(seg1, seg2), None)\n",
    "        seg1 = Segment(Point(1,1), Point(4,4))\n",
    "        seg2 = Segment(Point(3,-3), Point(-2,2))\n",
    "        self.assertEqual(intersection(seg1, seg2), None)\n",
    "        seg1 = Segment(Point(-1,-1), Point(4,4))\n",
    "        seg2 = Segment(Point(3,-3), Point(-2,2))\n",
    "        self.assertEqual(intersection(seg1, seg2).coords(), (0,0))\n",
    "        seg1 = Segment(Point(0,-1), Point(5,4))\n",
    "        seg2 = Segment(Point(4,-3), Point(-1,2))\n",
    "        self.assertEqual(intersection(seg1, seg2).coords(), (1,0))\n",
    "        seg1 = Segment(Point(0,1), Point(5,6))\n",
    "        seg2 = Segment(Point(4,-1), Point(-1,4))\n",
    "        self.assertEqual(intersection(seg1, seg2).coords(), (1,2))\n",
    "        seg1 = Segment(Point(0,1), Point(10,31))\n",
    "        seg2 = Segment(Point(0,4.5), Point(10,28.5))\n",
    "        self.assertEqual(intersection(seg1, seg2).coords(), (35/6.0,18.5))\n",
    "\n",
    "unittest.main(argv=['first-arg-is-ignored'], exit=False)"
   ]
  },
  {
   "cell_type": "markdown",
   "metadata": {},
   "source": [
    "<a id='16.4'></a>\n",
    "### 16.4 Tic Tac Win\n",
    "Design an algorithm to figure out if someone has won a game of tic-tac-toe. "
   ]
  },
  {
   "cell_type": "code",
   "execution_count": 6,
   "metadata": {},
   "outputs": [
    {
     "name": "stderr",
     "output_type": "stream",
     "text": [
      ".\n",
      "----------------------------------------------------------------------\n",
      "Ran 1 test in 0.000s\n",
      "\n",
      "OK\n"
     ]
    },
    {
     "data": {
      "text/plain": [
       "<unittest.main.TestProgram at 0x238da449898>"
      ]
     },
     "execution_count": 6,
     "metadata": {},
     "output_type": "execute_result"
    }
   ],
   "source": [
    "def tic_tac_win(board):\n",
    "    n = len(board)\n",
    "    if n == 0:\n",
    "        return 0\n",
    "    row_results  = [0] * n\n",
    "    col_results  = [0] * n\n",
    "    diag_results = [0] * 2\n",
    "    for r in range(n):\n",
    "        for c in range(n):\n",
    "            if board[r][c] == \"o\":\n",
    "                bit_mask = 0b10\n",
    "            elif board[r][c] == \"x\":\n",
    "                bit_mask = 0b01\n",
    "            else:\n",
    "                bit_mask = 0b11\n",
    "            row_results[r] |= bit_mask\n",
    "            col_results[c] |= bit_mask\n",
    "            if r == c:\n",
    "                diag_results[0] |= bit_mask\n",
    "            if r == n - c:\n",
    "                diag_results[1] |= bit_mask\n",
    "        if row_results[r] != 0b11:\n",
    "            return row_results[r]\n",
    "    for c in range(n):\n",
    "        if col_results[c] != 0b11:\n",
    "            return col_results[c]\n",
    "    for d in range(2):\n",
    "        if diag_results[d] != 0b11:\n",
    "            return diag_results[d]\n",
    "    return 0\n",
    "\n",
    "class Test(unittest.TestCase):\n",
    "    def test_tic_tac_win(self):\n",
    "        board = [[\"o\", \"o\", \"o\"],\n",
    "                 [\"x\", \"x\", \" \"],\n",
    "                 [\" \", \"x\", \"x\"]]\n",
    "        self.assertEqual(tic_tac_win(board), 0b10)\n",
    "        board[0][0] = \"x\"\n",
    "        self.assertEqual(tic_tac_win(board), 0b01)\n",
    "        board[1][1] = \"o\"\n",
    "        self.assertEqual(tic_tac_win(board), 0b00)\n",
    "        board = [[\"o\", \"o\", \"o\", \"x\"],\n",
    "                 [\"x\", \"x\", \"o\", \"o\"],\n",
    "                 [\"x\", \" \", \"x\", \"x\"],\n",
    "                 [\"o\", \"x\", \"o\", \"x\"]]\n",
    "        self.assertEqual(tic_tac_win(board), 0b00)\n",
    "        board[0][3] = \"o\"\n",
    "        self.assertEqual(tic_tac_win(board), 0b10)\n",
    "        board[0][0] = \"x\"\n",
    "        self.assertEqual(tic_tac_win(board), 0b01)\n",
    "        board[2][2] = \"o\"\n",
    "        self.assertEqual(tic_tac_win(board), 0b10)\n",
    "\n",
    "unittest.main(argv=['first-arg-is-ignored'], exit=False)"
   ]
  },
  {
   "cell_type": "markdown",
   "metadata": {},
   "source": [
    "<a id='16.5'></a>\n",
    "### 16.5 Factorial Zeros\n",
    "Write an algorithm which computes the number of trailing zeros in n factorial. "
   ]
  },
  {
   "cell_type": "code",
   "execution_count": 8,
   "metadata": {},
   "outputs": [
    {
     "name": "stderr",
     "output_type": "stream",
     "text": [
      ".\n",
      "----------------------------------------------------------------------\n",
      "Ran 1 test in 0.000s\n",
      "\n",
      "OK\n"
     ]
    },
    {
     "data": {
      "text/plain": [
       "<unittest.main.TestProgram at 0x238da41eeb8>"
      ]
     },
     "execution_count": 8,
     "metadata": {},
     "output_type": "execute_result"
    }
   ],
   "source": [
    "def factorial_zeros(n):\n",
    "    five_factors = 0\n",
    "    while n > 4:\n",
    "        n //= 5\n",
    "        five_factors += n\n",
    "    return five_factors\n",
    "\n",
    "class Test(unittest.TestCase):\n",
    "    def test_factorial_zeros(self):\n",
    "        self.assertEqual(factorial_zeros(4), 0)\n",
    "        self.assertEqual(factorial_zeros(9), 1)\n",
    "        self.assertEqual(factorial_zeros(10), 2)\n",
    "        self.assertEqual(factorial_zeros(25), 6)\n",
    "        self.assertEqual(factorial_zeros(55), 13)\n",
    "\n",
    "unittest.main(argv=['first-arg-is-ignored'], exit=False)"
   ]
  },
  {
   "cell_type": "code",
   "execution_count": null,
   "metadata": {},
   "outputs": [],
   "source": []
  }
 ],
 "metadata": {
  "kernelspec": {
   "display_name": "Python 3",
   "language": "python",
   "name": "python3"
  },
  "language_info": {
   "codemirror_mode": {
    "name": "ipython",
    "version": 3
   },
   "file_extension": ".py",
   "mimetype": "text/x-python",
   "name": "python",
   "nbconvert_exporter": "python",
   "pygments_lexer": "ipython3",
   "version": "3.6.5"
  }
 },
 "nbformat": 4,
 "nbformat_minor": 2
}
