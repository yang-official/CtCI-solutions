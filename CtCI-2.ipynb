{
 "cells": [
  {
   "cell_type": "markdown",
   "metadata": {},
   "source": [
    "# Cracking the Coding Interview 6th Edition Solutions Manual in Python\n",
    "\n",
    "## Part 2\n",
    "\n",
    "## Contents\n",
    "\n",
    "1. Arrays and Strings\n",
    "2. Linked Lists\n",
    "3. Stacks and Queues\n",
    "4. [Trees and Graphs](#4)\n",
    "    - 4.1 [Routes Between Nodes](#4.1)\n",
    "    - 4.2 [Minimal Tree](#4.2)\n",
    "    - 4.3 [List of Depths](#4.3)\n",
    "    - 4.4 [Check Balanced](#4.4)\n",
    "    - 4.5 [Validate BST](#4.5)\n",
    "    - 4.6 [Successor](#4.6)\n",
    "    - 4.7 [Build Order](#4.7)\n",
    "    - 4.8 [First Common Ancestor](#4.8)\n",
    "    - 4.9 [BST Sequence](#4.9)\n",
    "    - 4.10 [Check Subtree](#4.10)\n",
    "    - 4.11 [Random Node](#4.11)\n",
    "    - 4.12 [Path with Sums](#4.12)\n",
    "5. [Bit Manipulation](#5)\n",
    "    - 5.1 [Insertion](#5.1)\n",
    "    - 5.2 [Binary to String](#5.2)\n",
    "    - 5.3 [Flip Bit to Win](#5.3)\n",
    "    - 5.4 [Next Number](#5.4)\n",
    "    - 5.5 [Debugger](#5.5)\n",
    "    - 5.6 [Conversion](#5.6)\n",
    "    - 5.7 [Pairwise Swap](#5.7)\n",
    "    - 5.8 [Draw Line](#5.8)\n",
    "6. [Math and Logic Puzzles](#6)\n",
    "    - 6.1 [The Heavy Pill](#6.1)\n",
    "    - 6.2 [Basketball](#6.2)\n",
    "    - 6.3 [Dominos](#6.3)\n",
    "    - 6.4 [Ants on a Triangle](#6.4)\n",
    "    - 6.5 [Jugs of Water](#6.5)\n",
    "    - 6.6 [Blue-Eyed Island](#6.6)\n",
    "    - 6.7 [The Apocalypse](#6.7)\n",
    "    - 6.8 [The Egg Drop Problem](#6.8)\n",
    "    - 6.9 [100 Lockers](#6.9)\n",
    "    - 6.10 [Poison](#6.10)\n",
    "7. Object-Oriented Design\n",
    "8. Recursion and Dynamic Programming\n",
    "9. System Design and Scalability\n",
    "10. Sorting and Searching\n",
    "11. Testing\n",
    "12. C and C++\n",
    "13. Java\n",
    "14. Databases\n",
    "15. Threads and Locking\n",
    "16. Moderate\n",
    "17. Hard"
   ]
  },
  {
   "cell_type": "code",
   "execution_count": 1,
   "metadata": {},
   "outputs": [],
   "source": [
    "import unittest"
   ]
  },
  {
   "cell_type": "markdown",
   "metadata": {},
   "source": [
    "<a id='4'></a>\n",
    "## 4. Trees and Graphs\n",
    "\n",
    "<a id='4.1'></a>\n",
    "### 4.1 Route Between Nodes\n",
    "Given a directed graph, design an algorithm to find out whether there is a route between two nodes. "
   ]
  },
  {
   "cell_type": "code",
   "execution_count": 2,
   "metadata": {},
   "outputs": [
    {
     "name": "stderr",
     "output_type": "stream",
     "text": [
      ".\n",
      "----------------------------------------------------------------------\n",
      "Ran 1 test in 0.004s\n",
      "\n",
      "OK\n"
     ]
    },
    {
     "data": {
      "text/plain": [
       "<unittest.main.TestProgram at 0x26a13508908>"
      ]
     },
     "execution_count": 2,
     "metadata": {},
     "output_type": "execute_result"
    }
   ],
   "source": [
    "# class Node:\n",
    "#     def __init__(self, data, adjacency_list=[]):\n",
    "#         self.data = data\n",
    "#         self.adjacency_list = adjacency_list\n",
    "\n",
    "def find_route(node1, node2):\n",
    "    if node1 == node2:\n",
    "        return [node1]\n",
    "    queue = [ ( node1, [] ) ]\n",
    "    visited = {node1}\n",
    "    while queue:\n",
    "        node, path = queue.pop(0)\n",
    "        for neighbor in node.adjacency_list:\n",
    "            if neighbor == node2:\n",
    "                return path + [node, neighbor]\n",
    "            if neighbor in visited:\n",
    "                continue\n",
    "            visited.add(neighbor)\n",
    "            queue.append((neighbor, path + [node]))\n",
    "    return None\n",
    "\n",
    "class Node:\n",
    "    def __init__(self, data, adjacency_list=None):\n",
    "        self.data = data\n",
    "        self.adjacency_list = adjacency_list or []\n",
    "    \n",
    "    def add_edge_to(self, node):\n",
    "        self.adjacency_list += [node]\n",
    "        \n",
    "    def __str__(self):\n",
    "        return self.data\n",
    "\n",
    "def str_for(path):\n",
    "    if not path:\n",
    "        return str(path)\n",
    "    return ''.join([str(n) for n in path])\n",
    "\n",
    "class Test(unittest.TestCase):\n",
    "    def test_find_route(self):\n",
    "        node_j = Node('J')\n",
    "        node_i = Node('I')\n",
    "        node_h = Node('H')\n",
    "        node_d = Node('D')\n",
    "        node_f = Node('F', [node_i])\n",
    "        node_b = Node('B', [node_j])\n",
    "        node_g = Node('G', [node_d, node_h])\n",
    "        node_c = Node('C', [node_g])\n",
    "        node_a = Node('A', [node_b, node_c, node_d])\n",
    "        node_e = Node('E', [node_f, node_a])\n",
    "        node_d.add_edge_to(node_a)\n",
    "        self.assertEqual(str_for(find_route(node_a, node_i)), 'None')\n",
    "        self.assertEqual(str_for(find_route(node_a, node_j)), 'ABJ')\n",
    "        node_h.add_edge_to(node_i)\n",
    "        self.assertEqual(str_for(find_route(node_a, node_i)), 'ACGHI')\n",
    "\n",
    "unittest.main(argv=['first-arg-is-ignored'], exit=False)"
   ]
  },
  {
   "cell_type": "markdown",
   "metadata": {},
   "source": [
    "<a id='4.2'></a>\n",
    "### 4.2 Minimal Tree\n",
    "Given a sorted (increasing order) array with unique integer elements, write an algorithm to create a binary search tree with minimal height."
   ]
  },
  {
   "cell_type": "code",
   "execution_count": 3,
   "metadata": {},
   "outputs": [
    {
     "name": "stderr",
     "output_type": "stream",
     "text": [
      ".\n",
      "----------------------------------------------------------------------\n",
      "Ran 1 test in 0.003s\n",
      "\n",
      "OK\n"
     ]
    },
    {
     "data": {
      "text/plain": [
       "<unittest.main.TestProgram at 0x26a13511f60>"
      ]
     },
     "execution_count": 3,
     "metadata": {},
     "output_type": "execute_result"
    }
   ],
   "source": [
    "def minimal_height_bst(sorted_array):\n",
    "    if len(sorted_array) == 0:\n",
    "        return None\n",
    "    middle = len(sorted_array) // 2\n",
    "    left = minimal_height_bst(sorted_array[:middle])\n",
    "    right = minimal_height_bst(sorted_array[middle+1:])\n",
    "    return Node(sorted_array[middle], left, right)\n",
    "\n",
    "class Node():\n",
    "    def __init__(self, data=None, left=None, right=None):\n",
    "        self.data = data\n",
    "        self.left = left\n",
    "        self.right = right\n",
    "        \n",
    "    def __str__(self):\n",
    "        string = \"(\" + str(self.data)\n",
    "        if self.left:\n",
    "            string += str(self.left)\n",
    "        else:\n",
    "            string += \".\"\n",
    "        if self.right:\n",
    "            string += str(self.right)\n",
    "        else:\n",
    "            string += \".\"\n",
    "        return string + \")\"\n",
    "    \n",
    "class Test(unittest.TestCase):\n",
    "    def test_minimal_height_bst(self):\n",
    "        sorted_array = [1, 2, 3, 4, 5, 6, 7, 8, 9]\n",
    "        bst = minimal_height_bst(sorted_array)\n",
    "        self.assertEqual(str(bst), \"(5(3(2(1..).)(4..))(8(7(6..).)(9..)))\")\n",
    "\n",
    "unittest.main(argv=['first-arg-is-ignored'], exit=False)"
   ]
  },
  {
   "cell_type": "markdown",
   "metadata": {},
   "source": [
    "<a id='4.3'></a>\n",
    "### 4.3 List of Depths\n",
    "Given a binary tree, design an algorithm which creates a linked list of all the nodes at each depth (e.g. if you have a tree with depth D you'll have D linked lists)"
   ]
  },
  {
   "cell_type": "code",
   "execution_count": 4,
   "metadata": {},
   "outputs": [
    {
     "name": "stderr",
     "output_type": "stream",
     "text": [
      ".\n",
      "----------------------------------------------------------------------\n",
      "Ran 1 test in 0.002s\n",
      "\n",
      "OK\n"
     ]
    },
    {
     "data": {
      "text/plain": [
       "<unittest.main.TestProgram at 0x26a13553240>"
      ]
     },
     "execution_count": 4,
     "metadata": {},
     "output_type": "execute_result"
    }
   ],
   "source": [
    "def list_of_depths(root):\n",
    "    if not root:\n",
    "        return []\n",
    "    d = {}\n",
    "    queue = [(root, 0)]\n",
    "    while queue:\n",
    "        node, level = queue.pop(0)\n",
    "        if level in d:\n",
    "            lnode = d[level]\n",
    "            while lnode.next:\n",
    "                lnode = lnode.next\n",
    "            lnode.next = ListNode(node.data)\n",
    "        else:\n",
    "            d[level] = ListNode(node.data)\n",
    "        if node.left:\n",
    "            queue.append((node.left, level + 1))\n",
    "        if node.right:\n",
    "            queue.append((node.right, level + 1))\n",
    "    return [d[k] for k in d]\n",
    "\n",
    "class TreeNode():\n",
    "    def __init__(self, data=None, left=None, right=None):\n",
    "        self.data, self.left, self.right = data, left, right\n",
    "        \n",
    "class ListNode():\n",
    "    def __init__(self, data=None, next=None):\n",
    "        self.data, self.next = data, next\n",
    "        \n",
    "    def __str__(self):\n",
    "        return str(self.data) + ',' + str(self.next)\n",
    "    \n",
    "class Test(unittest.TestCase):\n",
    "    def test_list_of_depths(self):\n",
    "        node_h = TreeNode('H')\n",
    "        node_g = TreeNode('G')\n",
    "        node_f = TreeNode('F')\n",
    "        node_e = TreeNode('E', node_g)\n",
    "        node_d = TreeNode('D', node_h)\n",
    "        node_c = TreeNode('C', None, node_f)\n",
    "        node_b = TreeNode('B', node_d, node_e)\n",
    "        node_a = TreeNode('A', node_b, node_c)\n",
    "        lists = list_of_depths(node_a)\n",
    "        self.assertEqual(str(lists[0]), \"A,None\")\n",
    "        self.assertEqual(str(lists[1]), \"B,C,None\")\n",
    "        self.assertEqual(str(lists[2]), \"D,E,F,None\")\n",
    "        self.assertEqual(str(lists[3]), \"H,G,None\")\n",
    "        self.assertEqual(len(lists), 4)\n",
    "\n",
    "unittest.main(argv=['first-arg-is-ignored'], exit=False)"
   ]
  },
  {
   "cell_type": "markdown",
   "metadata": {},
   "source": [
    "<a id='4.4'></a>\n",
    "### 4.4 Check Balanced\n",
    "Implement a function to check if a binary tree is balanced. For the purposes of this question, a balanced tree is defined to be a tree such that the heights of the the two subtrees of any node never differ by more than one.\n",
    "- https://leetcode.com/problems/balanced-binary-tree/"
   ]
  },
  {
   "cell_type": "code",
   "execution_count": 11,
   "metadata": {},
   "outputs": [
    {
     "name": "stderr",
     "output_type": "stream",
     "text": [
      ".\n",
      "----------------------------------------------------------------------\n",
      "Ran 1 test in 0.001s\n",
      "\n",
      "OK\n"
     ]
    },
    {
     "data": {
      "text/plain": [
       "<unittest.main.TestProgram at 0x1992afc6e80>"
      ]
     },
     "execution_count": 11,
     "metadata": {},
     "output_type": "execute_result"
    }
   ],
   "source": [
    "def is_balanced(root):\n",
    "    def balance(node):\n",
    "        if not node:\n",
    "            return (True, 0)\n",
    "        left_balance, left_h = balance(node.left)\n",
    "        if not left_balance:\n",
    "            return (False, None)\n",
    "        right_balance, right_h = balance(node.right)\n",
    "        if not right_balance:\n",
    "            return (False, None)\n",
    "        if abs(left_h - right_h) > 1:\n",
    "            return (False, None)\n",
    "        h = max(left_h, right_h) + 1\n",
    "        return (True, h)\n",
    "    return balance(root)[0]\n",
    "\n",
    "class Node():\n",
    "    def __init__(self, left=None, right=None, data=None):\n",
    "        self.left, self.right, self.data = left, right, data\n",
    "\n",
    "import unittest\n",
    "class Test(unittest.TestCase):\n",
    "    def test_is_balanced(self):\n",
    "        self.assertEqual(is_balanced(Node(Node(),Node())), True) # h = 2\n",
    "        self.assertEqual(is_balanced(Node(Node(),Node(Node()))), True) # h= 3\n",
    "        self.assertEqual(is_balanced(Node(Node(),Node(Node(Node())))), # h = None\n",
    "            False)\n",
    "        self.assertEqual(is_balanced(Node(Node(Node()),Node(Node(Node())))), # h = None\n",
    "            False)\n",
    "        self.assertEqual(is_balanced(Node(Node(Node()), # h = True\n",
    "            Node(Node(Node()),Node()))), True)\n",
    "\n",
    "unittest.main(argv=['first-arg-is-ignored'], exit=False)"
   ]
  },
  {
   "cell_type": "markdown",
   "metadata": {},
   "source": [
    "<a id='4.5'></a>\n",
    "### 4.5 Validate BST\n",
    "Implement a function to check if a binary tree is a binary search tree."
   ]
  },
  {
   "cell_type": "code",
   "execution_count": 6,
   "metadata": {},
   "outputs": [
    {
     "name": "stderr",
     "output_type": "stream",
     "text": [
      ".\n",
      "----------------------------------------------------------------------\n",
      "Ran 1 test in 0.003s\n",
      "\n",
      "OK\n"
     ]
    },
    {
     "data": {
      "text/plain": [
       "<unittest.main.TestProgram at 0x26a133f7320>"
      ]
     },
     "execution_count": 6,
     "metadata": {},
     "output_type": "execute_result"
    }
   ],
   "source": [
    "def validate_tree(root):\n",
    "    def validate_node(node, leftmax, rightmin):\n",
    "        if not node:\n",
    "            return True\n",
    "        if node.val < leftmax or node.val > rightmin:\n",
    "            return False\n",
    "        return validate_node(node.left, leftmax, node.val) and validate_node(node.right, node.val, rightmin)\n",
    "    return validate_node(root, float('-inf'), float('inf'))\n",
    "\n",
    "class Node():\n",
    "    def __init__(self, data, left=None, right=None):\n",
    "        self.val, self.left, self.right = data, left, right\n",
    "        \n",
    "class Test(unittest.TestCase):\n",
    "    def test_validate_tree(self):\n",
    "        self.assertEqual(validate_tree(Node(3,Node(1),Node(8))), True)\n",
    "        tree1 = Node(5,Node(3,Node(1),Node(4)),Node(7,Node(6),Node(8,None,Node(9))))\n",
    "        self.assertEqual(validate_tree(tree1), True)\n",
    "        tree2 = Node(7,Node(3,Node(1),Node(8)),Node(9,Node(8),Node(11)))\n",
    "        self.assertEqual(validate_tree(tree2), False)\n",
    "\n",
    "unittest.main(argv=['first-arg-is-ignored'], exit=False)"
   ]
  },
  {
   "cell_type": "markdown",
   "metadata": {},
   "source": [
    "<a id='4.6'></a>\n",
    "### 4.6 Successor\n",
    "\n",
    "Write an algorithm to find the \"next\" node (i.e. in-order successor) of a given node in a binary search tree. You may assume that each node has a link to its parent."
   ]
  },
  {
   "cell_type": "code",
   "execution_count": 7,
   "metadata": {},
   "outputs": [
    {
     "name": "stderr",
     "output_type": "stream",
     "text": [
      ".\n",
      "----------------------------------------------------------------------\n",
      "Ran 1 test in 0.000s\n",
      "\n",
      "OK\n"
     ]
    },
    {
     "data": {
      "text/plain": [
       "<unittest.main.TestProgram at 0x26a13553198>"
      ]
     },
     "execution_count": 7,
     "metadata": {},
     "output_type": "execute_result"
    }
   ],
   "source": [
    "class Node():\n",
    "    def __init__(self, data, left=None, right=None):\n",
    "        self.data, self.left, self.right = data, left, right\n",
    "        self.parent = None\n",
    "        if self.left: self.left.parent = self\n",
    "        if self.right: self.right.parent = self\n",
    "\n",
    "def successor(node):\n",
    "    if not node:\n",
    "        return None\n",
    "    child = node.right\n",
    "    if child:\n",
    "        while child.left:\n",
    "            child = child.left\n",
    "        return child\n",
    "    parent = node.parent\n",
    "    if parent:\n",
    "        while parent.data < node.data and parent.parent:\n",
    "            parent = parent.parent\n",
    "        if parent.data > node.data:\n",
    "            return parent\n",
    "    return None\n",
    "\n",
    "class Test(unittest.TestCase):\n",
    "    def test_successor(self):\n",
    "        self.assertEqual(successor(Node(22, Node(11))), None)\n",
    "        self.assertEqual(successor(Node(22, Node(11), Node(33))).data, 33)\n",
    "        self.assertEqual(successor(Node(22, Node(11), Node(33, Node(28)))).data, 28)\n",
    "        self.assertEqual(successor(Node(22, Node(11), Node(33)).left).data, 22)\n",
    "        self.assertEqual(successor(Node(22, Node(11), Node(33)).right), None)\n",
    "\n",
    "unittest.main(argv=['first-arg-is-ignored'], exit=False)"
   ]
  },
  {
   "cell_type": "markdown",
   "metadata": {},
   "source": [
    "<a id='4.7'></a>\n",
    "### 4.7 Build Order\n",
    "\n",
    "You are given a list of projects and a list of dependencies (which is a list of pairs of projects where the second project is dependent on the first project). All of a project's dependencies must be built before the project is. Find a build order that will allow the projects ot be built. If there is no valid build order, return an error.\n",
    "\n",
    "EXAMPLE:\n",
    "```\n",
    "Input:\n",
    "projects: a, b, c, d, e, f\n",
    "dependencies: (a, d), (f, b), (b, d), (f, a), (d, c)\n",
    "Output: f, e, a, b, d, c\n",
    "```\n",
    "- https://leetcode.com/problems/course-schedule-ii/"
   ]
  },
  {
   "cell_type": "code",
   "execution_count": 25,
   "metadata": {},
   "outputs": [
    {
     "name": "stderr",
     "output_type": "stream",
     "text": [
      ".\n",
      "----------------------------------------------------------------------\n",
      "Ran 1 test in 0.002s\n",
      "\n",
      "OK\n"
     ]
    },
    {
     "data": {
      "text/plain": [
       "<unittest.main.TestProgram at 0x1992b043b38>"
      ]
     },
     "execution_count": 25,
     "metadata": {},
     "output_type": "execute_result"
    }
   ],
   "source": [
    "class GraphNode():\n",
    "    def __init__(self, data):\n",
    "        self.val = data\n",
    "        self.edges = []\n",
    "        self.dependencies_left = 0\n",
    "    def add_edge(self, node):\n",
    "        self.edges.append(node)\n",
    "        node.dependencies_left += 1\n",
    "\n",
    "def build_order(projects, dependencies):\n",
    "    nodes = {}\n",
    "    for project in projects:\n",
    "        nodes[project] = GraphNode(project)\n",
    "    for dependency in dependencies:\n",
    "        nodes[dependency[0]].add_edge(nodes[dependency[1]])\n",
    "    queue = []\n",
    "    for project in projects:\n",
    "        node = nodes[project]\n",
    "        if node.dependencies_left == 0:\n",
    "            queue.append(node)\n",
    "    build_order = []\n",
    "    while queue:\n",
    "        node = queue.pop(0)\n",
    "        build_order.append(node.val)\n",
    "        for dependent in node.edges:\n",
    "            dependent.dependencies_left -= 1\n",
    "            if dependent.dependencies_left == 0:\n",
    "                queue.append(dependent)\n",
    "    if len(build_order) < len(projects):\n",
    "        return Exception()\n",
    "    return build_order\n",
    "        \n",
    "class Test(unittest.TestCase):\n",
    "    def test_build_order(self):\n",
    "        projects = [\"A\", \"B\", \"C\", \"D\", \"E\", \"F\", \"G\"]\n",
    "        dependencies1 = [(\"C\", \"A\"), (\"B\", \"A\"), (\"F\", \"A\"), (\"F\", \"B\"), (\"F\", \"C\"),\n",
    "            (\"A\", \"E\"), (\"B\", \"E\"), (\"D\", \"G\")]\n",
    "        self.assertEqual(build_order(projects, dependencies1),\n",
    "            [\"D\", \"F\", \"G\", \"B\", \"C\", \"A\", \"E\"])\n",
    "        dependencies2 = [(\"A\", \"B\"), (\"B\", \"C\"), (\"C\", \"D\"), (\"D\", \"A\")]\n",
    "        self.assertEqual(build_order(projects, dependencies2).__class__, Exception)\n",
    "        dependencies3 = [(\"A\", \"B\"), (\"A\", \"C\"), (\"E\", \"A\"), (\"E\", \"B\"), (\"A\", \"F\"),\n",
    "            (\"B\", \"F\"), (\"C\", \"F\"), (\"G\", \"D\")]\n",
    "        self.assertEqual(build_order(projects, dependencies3),\n",
    "            [\"E\", \"G\", \"A\", \"D\", \"B\", \"C\", \"F\"])\n",
    "        \n",
    "unittest.main(argv=['first-arg-is-ignored'], exit=False)"
   ]
  },
  {
   "cell_type": "markdown",
   "metadata": {},
   "source": [
    "<a id='4.8'></a>\n",
    "### 4.8 First Common Ancestor\n",
    "\n",
    "Design an algorithm and write code to find the first common ancestor of two nodes in a binary tree. Avoid storing additional nodes in a data structure. NOTE: This is not necessarily a binary search tree."
   ]
  },
  {
   "cell_type": "code",
   "execution_count": 9,
   "metadata": {},
   "outputs": [
    {
     "name": "stderr",
     "output_type": "stream",
     "text": [
      ".\n",
      "----------------------------------------------------------------------\n",
      "Ran 1 test in 0.001s\n",
      "\n",
      "OK\n"
     ]
    },
    {
     "data": {
      "text/plain": [
       "<unittest.main.TestProgram at 0x26a1352ff28>"
      ]
     },
     "execution_count": 9,
     "metadata": {},
     "output_type": "execute_result"
    }
   ],
   "source": [
    "class Node():\n",
    "    def __init__(self, x, left=None, right=None):\n",
    "        self.val = x\n",
    "        self.left = left\n",
    "        self.right = right\n",
    "\n",
    "# https://leetcode.com/problems/lowest-common-ancestor-of-a-binary-tree/\n",
    "def first_common_ancestor(root, p, q):\n",
    "    if root:\n",
    "        if root == p or root == q:\n",
    "            return root\n",
    "        left = first_common_ancestor(root.left, p, q)\n",
    "        right = first_common_ancestor(root.right, p, q)\n",
    "        if left and right:\n",
    "            return root\n",
    "        return left or right\n",
    "    return None\n",
    "\n",
    "# https://leetcode.com/problems/lowest-common-ancestor-of-a-binary-search-tree/\n",
    "# def first_common_ancestor(root, p, q):\n",
    "#     if root.val < p.val and root.val < q.val:\n",
    "#         return first_common_ancestor(root.right, p, q)\n",
    "#     if root.val > p.val and root.val > q.val:\n",
    "#         return first_common_ancestor(root.left, p, q)\n",
    "#     return root\n",
    "\n",
    "class Test(unittest.TestCase):\n",
    "      def test_first_common_ancestor(self):\n",
    "        node1 = Node(11, Node(55), Node(77, Node(44)))\n",
    "        node2 = Node(22, Node(99))\n",
    "        self.assertEqual(first_common_ancestor(None, node1, node2), None)\n",
    "        node3 = Node(33, node1, Node(88, Node(123, None, node2)))\n",
    "        node4 = Node(44, node3, Node(66))\n",
    "        self.assertEqual(first_common_ancestor(node4, node1, node2), node3)\n",
    "\n",
    "unittest.main(argv=['first-arg-is-ignored'], exit=False)"
   ]
  },
  {
   "cell_type": "markdown",
   "metadata": {},
   "source": [
    "<a id='4.9'></a>\n",
    "\n",
    "### 4.9 BST Sequences:\n",
    "A binary search tree was created by traversing through an array from left to right and inserting each element. Given a binary search tree with distinct elments, print all possible arrays that could have led to this tree."
   ]
  },
  {
   "cell_type": "code",
   "execution_count": 39,
   "metadata": {},
   "outputs": [
    {
     "name": "stderr",
     "output_type": "stream",
     "text": [
      ".\n",
      "----------------------------------------------------------------------\n",
      "Ran 1 test in 0.002s\n",
      "\n",
      "OK\n"
     ]
    },
    {
     "data": {
      "text/plain": [
       "<unittest.main.TestProgram at 0x26a135e0588>"
      ]
     },
     "execution_count": 39,
     "metadata": {},
     "output_type": "execute_result"
    }
   ],
   "source": [
    "class Node():\n",
    "    def __init__(self, data=None, left=None, right=None):\n",
    "        self.val, self.left, self.right = data, left, right\n",
    "\n",
    "def bst_sequences(root):\n",
    "    def bst_sequences_partial(arrays, subtrees):\n",
    "        if not len(subtrees):\n",
    "            return [arrays]\n",
    "        sequences = []\n",
    "        for i, node in enumerate(subtrees):\n",
    "            next_partial = partial + [node.val]\n",
    "            next_subtrees = subtrees[:i] + subtrees[i+1:]\n",
    "            if node.left:\n",
    "                next_subtrees.append(node.left)\n",
    "            if node.right:\n",
    "                next_subtrees.append(node.right)\n",
    "            sequences += bst_sequences_partial(next_partial, next_subtrees)\n",
    "        return sequences\n",
    "    return bst_sequences_partial([], [root])\n",
    "\n",
    "class Test(unittest.TestCase):\n",
    "    def test_bst_sequences(self):\n",
    "        self.assertEqual(bst_sequences(Node(7,Node(4,Node(5)),Node(9))), [\n",
    "              [7, 4, 9, 5],\n",
    "              [7, 4, 5, 9],\n",
    "              [7, 9, 4, 5]])\n",
    "        self.assertEqual(bst_sequences(Node(7,Node(4,Node(5),Node(6)),Node(9))), [\n",
    "              [7, 4, 9, 5, 6],\n",
    "              [7, 4, 9, 6, 5],\n",
    "              [7, 4, 5, 9, 6],\n",
    "              [7, 4, 5, 6, 9],\n",
    "              [7, 4, 6, 9, 5],\n",
    "              [7, 4, 6, 5, 9],\n",
    "              [7, 9, 4, 5, 6],\n",
    "              [7, 9, 4, 6, 5]])\n",
    "\n",
    "unittest.main(argv=['first-arg-is-ignored'], exit=False)"
   ]
  },
  {
   "cell_type": "markdown",
   "metadata": {},
   "source": [
    "<a id='4.10'></a>\n",
    "### 4.10 Check Subtree\n",
    "T1 and T2 are two very large binary trees, with T1 much bigger than T2. Create an algorithm to determine of T2 is a subtree of T1.\n",
    "\n",
    "A tree T2 is a subtree of T1 if there exists a node n in T1 such that the subtree of n is identical to T2. That is, if you cut off the tree at node n the two trees should be identical."
   ]
  },
  {
   "cell_type": "code",
   "execution_count": 34,
   "metadata": {},
   "outputs": [
    {
     "name": "stderr",
     "output_type": "stream",
     "text": [
      ".\n",
      "----------------------------------------------------------------------\n",
      "Ran 1 test in 0.002s\n",
      "\n",
      "OK\n"
     ]
    },
    {
     "data": {
      "text/plain": [
       "<unittest.main.TestProgram at 0x26a135d77f0>"
      ]
     },
     "execution_count": 34,
     "metadata": {},
     "output_type": "execute_result"
    }
   ],
   "source": [
    "class Node():\n",
    "    def __init__(self, data=None, left=None, right=None):\n",
    "        self.data, self.left, self.right = data, left, right\n",
    "\n",
    "def is_subtree(t1, t2):\n",
    "    def traverse(root):\n",
    "        if not root:\n",
    "            return None\n",
    "        return \"v\"+str(root.data)+\"l\"+str(traverse(root.left))+\"r\"+str(traverse(root.right))\n",
    "    return traverse(t2) in traverse(t1)\n",
    "\n",
    "class Test(unittest.TestCase):\n",
    "    def test_is_subtree(self):\n",
    "        tree1 = Node(5,Node(3,Node(2),Node(4)),Node(8,Node(7,Node(9)),Node(1)))\n",
    "        tree2 = Node(8,Node(7),Node(1))\n",
    "        self.assertEqual(is_subtree(tree1, tree2), False)\n",
    "        tree3 = Node(8,Node(7,Node(9)),Node(1))\n",
    "        self.assertEqual(is_subtree(tree1, tree3), True)\n",
    "\n",
    "unittest.main(argv=['first-arg-is-ignored'], exit=False)"
   ]
  },
  {
   "cell_type": "markdown",
   "metadata": {},
   "source": [
    "<a id='4.11'></a>\n",
    "### 4.11 Random Node\n",
    "You are implementing a binary tree class from scratch which, in addition to `insert`, `find`, and `delete`, has a method `getRandomNode()` which returns a random node from the tree. All nodes should be equally likely to be chosen. Design and implement an algorithm for `getRandomNode`, and explain how you would implement the rest of the methods."
   ]
  },
  {
   "cell_type": "code",
   "execution_count": 12,
   "metadata": {},
   "outputs": [
    {
     "name": "stderr",
     "output_type": "stream",
     "text": [
      "..\n",
      "----------------------------------------------------------------------\n",
      "Ran 2 tests in 0.002s\n",
      "\n",
      "OK\n"
     ]
    },
    {
     "data": {
      "text/plain": [
       "<unittest.main.TestProgram at 0x26a13560b38>"
      ]
     },
     "execution_count": 12,
     "metadata": {},
     "output_type": "execute_result"
    }
   ],
   "source": [
    "class Node():\n",
    "    def __init__(self, data=None, left=None, right=None):\n",
    "        self.data, self.left, self.right = data, left, right\n",
    "        self.count = 1\n",
    "        if self.left:\n",
    "            self.count += self.left.count\n",
    "        if self.right:\n",
    "            self.count += self.right.count\n",
    "            \n",
    "    def get_numbered_node(self, number):\n",
    "        if number == 0:\n",
    "            return self\n",
    "        if self.left:\n",
    "            if number - 1 < self.left.count:\n",
    "                return self.left.get_numbered_node(number - 1)\n",
    "            elif self.right:\n",
    "                return self.right.get_numbered_node(number - 1 - self.left.count)\n",
    "        if self.right:\n",
    "            return self.right.get_numbered_node(number - 1)\n",
    "        return None\n",
    "\n",
    "    def get_random_node(self):\n",
    "        return self.get_numbered_node(randint(0, self.count - 1))\n",
    "    \n",
    "import random\n",
    "mock_random_value = False\n",
    "\n",
    "def randint(lower_bound, upper_bound):\n",
    "    if not mock_random_value is False:\n",
    "        return mock_random_value\n",
    "    return random.randint(lower_bound, upper_bound)\n",
    "\n",
    "class Test(unittest.TestCase):\n",
    "    def test_mock_randint(self):\n",
    "        global mock_random_value\n",
    "        mock_random_value = 12\n",
    "        self.assertEqual(randint(0, 2000), 12)\n",
    "  \n",
    "    def test_get_random_value(self):\n",
    "        global mock_random_value\n",
    "        tree = Node(11,Node(21,Node(31),Node(32,Node(41),Node(42,None,Node(51)))),\n",
    "                       Node(22,Node(33),Node(34)))\n",
    "        mock_random_value = 0\n",
    "        self.assertEqual(tree.get_random_node().data, 11)\n",
    "        mock_random_value = 4\n",
    "        self.assertEqual(tree.get_random_node().data, 41)\n",
    "        mock_random_value = 8\n",
    "        self.assertEqual(tree.get_random_node().data, 33)\n",
    "        \n",
    "unittest.main(argv=['first-arg-is-ignored'], exit=False)"
   ]
  },
  {
   "cell_type": "markdown",
   "metadata": {},
   "source": [
    "<a id='4.12'></a>\n",
    "### 4.12 Paths with Sum\n",
    "You are given a binary tree in which each node contains an integer value (which might be positive or negative). Design an algorithm to count the number of paths that sum to a given value. The path does not need to start or end at the root or a leaf, but it must go downards (traveling only from parent nodes to child nodes)."
   ]
  },
  {
   "cell_type": "code",
   "execution_count": 2,
   "metadata": {},
   "outputs": [
    {
     "name": "stderr",
     "output_type": "stream",
     "text": [
      "E\n",
      "======================================================================\n",
      "ERROR: test_paths_with_sum (__main__.Test)\n",
      "----------------------------------------------------------------------\n",
      "Traceback (most recent call last):\n",
      "  File \"<ipython-input-2-d81699501aa5>\", line 30, in test_paths_with_sum\n",
      "    self.assertEqual(paths_with_sum(bt, 12), [[\"A\", \"C\", \"F\", \"I\"]])\n",
      "  File \"<ipython-input-2-d81699501aa5>\", line 22, in paths_with_sum\n",
      "    return paths_with_partial_sum(binary_tree, target_sum, partial_paths)\n",
      "  File \"<ipython-input-2-d81699501aa5>\", line 17, in paths_with_partial_sum\n",
      "    next_partial_paths[path_sum - node.value] += [path + [node.name]]\n",
      "KeyError: 8\n",
      "\n",
      "----------------------------------------------------------------------\n",
      "Ran 1 test in 0.004s\n",
      "\n",
      "FAILED (errors=1)\n"
     ]
    },
    {
     "data": {
      "text/plain": [
       "<unittest.main.TestProgram at 0x20072ca5ef0>"
      ]
     },
     "execution_count": 2,
     "metadata": {},
     "output_type": "execute_result"
    }
   ],
   "source": [
    "class Node():\n",
    "    def __init__(self, name, value, left=None, right=None):\n",
    "        self.name, self.value, self.left, self.right = name, value, left, right\n",
    "\n",
    "class ListDict(dict):\n",
    "    def __missing_(self, key):\n",
    "        return []\n",
    "        \n",
    "def paths_with_sum(binary_tree, target_sum):\n",
    "    partial_paths = ListDict({target_sum: [[]]})\n",
    "    def paths_with_partial_sum(node, target_sum, partial_paths):\n",
    "        if not node:\n",
    "            return []\n",
    "        next_partial_paths = ListDict({target_sum: [[]]})\n",
    "        for path_sum, paths in partial_paths.items():\n",
    "            for path in paths:\n",
    "                next_partial_paths[path_sum - node.value] += [path + [node.name]]\n",
    "        paths = next_partial_paths[0]\n",
    "        for child in [node.left, node.right]:\n",
    "            paths += paths_with_partial_sum(child, target_sum, next_partial_paths)\n",
    "        return paths\n",
    "    return paths_with_partial_sum(binary_tree, target_sum, partial_paths)\n",
    "\n",
    "import unittest\n",
    "class Test(unittest.TestCase):\n",
    "    def test_paths_with_sum(self):\n",
    "        bt=Node(\"A\",4,Node(\"B\",-2,Node(\"D\",7),Node(\"E\", 4)),\n",
    "                      Node(\"C\", 7,Node(\"F\",-1,Node(\"H\",-1),Node(\"I\",2,Node(\"K\",1))),\n",
    "                                  Node(\"G\", 0,None,        Node(\"J\", -2))))\n",
    "        self.assertEqual(paths_with_sum(bt, 12), [[\"A\", \"C\", \"F\", \"I\"]])\n",
    "        self.assertEqual(paths_with_sum(bt, 2), [[\"A\", \"B\"], [\"B\", \"E\"], [\"I\"],\n",
    "            [\"F\", \"I\", \"K\"]])\n",
    "        self.assertEqual(paths_with_sum(bt, 9), [[\"A\",\"B\",\"D\"], [\"A\",\"C\",\"F\",\"H\"],\n",
    "            [\"C\",\"F\",\"I\",\"K\"], [\"A\",\"C\",\"G\",\"J\"]])\n",
    "\n",
    "unittest.main(argv=['first-arg-is-ignored'], exit=False)"
   ]
  },
  {
   "cell_type": "markdown",
   "metadata": {},
   "source": [
    "<a id='5'></a>\n",
    "## 5. Bit Manipulation\n",
    "\n",
    "<a id='5.1'></a>\n",
    "### 5.1 Insertion\n",
    "You are given two 32-bit numbers `N` and `M` and two bit positions `i` and `j`. Write a method to insert `M` into `N` such that `M` starts at bit `j` and ends at bit `i`. You can assume that the bits `j` through `i` have enough space to fit all of `M`. That is, if `M=10011` you can assume that there at least 5 bits between `j` and `i`. You would not, for example, have `j=3` and `i=2` because `M` could not fully fit between bit 3 and bit 2.\n",
    "\n",
    "```\n",
    "EXAMPLE\n",
    "Input:  N = 10000000000, M = 10011, i=2, j=6\n",
    "Output: N = 10001001100\n",
    "```"
   ]
  },
  {
   "cell_type": "code",
   "execution_count": 14,
   "metadata": {},
   "outputs": [
    {
     "name": "stderr",
     "output_type": "stream",
     "text": [
      ".\n",
      "----------------------------------------------------------------------\n",
      "Ran 1 test in 0.001s\n",
      "\n",
      "OK\n"
     ]
    },
    {
     "data": {
      "text/plain": [
       "<unittest.main.TestProgram at 0x26a13560048>"
      ]
     },
     "execution_count": 14,
     "metadata": {},
     "output_type": "execute_result"
    }
   ],
   "source": [
    "def insertion(n, m, i, j):\n",
    "    cleared_n = n & ~((1 << (j+1)) - (1 << i))\n",
    "    shifted_m = m << i\n",
    "    return cleared_n | shifted_m\n",
    "\n",
    "class Test(unittest.TestCase):\n",
    "    def test_insertion(self):\n",
    "        self.assertEqual(insertion(0b11111111, 0b10, 2, 5), 0b11001011)\n",
    "        self.assertEqual(insertion(0b00000000, 0b1010, 4, 7), 0b10100000)\n",
    "        \n",
    "unittest.main(argv=['first-arg-is-ignored'], exit=False)"
   ]
  },
  {
   "cell_type": "markdown",
   "metadata": {},
   "source": [
    "<a id='5.2'></a>\n",
    "### 5.2 Binary to String\n",
    "Given a real number between 0 and 1 (e.g. 0.72) that is passed in as a double, print the binary representation. If the number cannot be represented accurately in binary with at most 32 characters,, print \"ERROR\""
   ]
  },
  {
   "cell_type": "code",
   "execution_count": 15,
   "metadata": {},
   "outputs": [
    {
     "name": "stderr",
     "output_type": "stream",
     "text": [
      ".\n",
      "----------------------------------------------------------------------\n",
      "Ran 1 test in 0.001s\n",
      "\n",
      "OK\n"
     ]
    },
    {
     "data": {
      "text/plain": [
       "<unittest.main.TestProgram at 0x26a1350bb70>"
      ]
     },
     "execution_count": 15,
     "metadata": {},
     "output_type": "execute_result"
    }
   ],
   "source": [
    "import ctypes\n",
    "def bits_for(number):\n",
    "    return ctypes.c_longlong.from_buffer(ctypes.c_double(number)).value\n",
    "\n",
    "def binary_to_string(number):\n",
    "    if number == 1:\n",
    "        return \"1.0\"\n",
    "    if number == 0:\n",
    "        return \"0.0\"\n",
    "    if number < 0 or number > 1:\n",
    "        return Exception(\"out of bounds\")\n",
    "    normalized = bits_for(number + 1.0)\n",
    "    bits = normalized & ((1 << 52) - 1)\n",
    "    if normalized & ((1 << 22) - 1):\n",
    "        return \"Insufficient precision\"\n",
    "    digits = [\"0.\"]\n",
    "    bit = (1 << 51)\n",
    "    while bits:\n",
    "        if bits & bit:\n",
    "            digits.append(\"1\")\n",
    "        else:\n",
    "            digits.append(\"0\")\n",
    "        bits &= ~bit\n",
    "        bit >>= 1\n",
    "    return \"\".join(digits)\n",
    "\n",
    "class Test(unittest.TestCase):\n",
    "    def test_binary_to_string(self):\n",
    "        self.assertEqual(binary_to_string(0.75), \"0.11\")\n",
    "        self.assertEqual(binary_to_string(0.625), \"0.101\")\n",
    "        self.assertEqual(binary_to_string(0.3), \"Insufficient precision\")\n",
    "\n",
    "unittest.main(argv=['first-arg-is-ignored'], exit=False)"
   ]
  },
  {
   "cell_type": "markdown",
   "metadata": {},
   "source": [
    "<a id='5.3'></a>\n",
    "### 5.3 Flip Bit to Win\n",
    "You have an integer and you can fliip exactly one bit from a 0 to a 1. Write code to find the length of the longestsequence of 1s you could create.\n",
    "EXAMPLE\n",
    "```\n",
    "Input: 1775 (or 1101110111)\n",
    "Output: 8\n",
    "```"
   ]
  },
  {
   "cell_type": "code",
   "execution_count": 16,
   "metadata": {},
   "outputs": [
    {
     "name": "stderr",
     "output_type": "stream",
     "text": [
      ".\n",
      "----------------------------------------------------------------------\n",
      "Ran 1 test in 0.002s\n",
      "\n",
      "OK\n"
     ]
    },
    {
     "data": {
      "text/plain": [
       "<unittest.main.TestProgram at 0x26a13578828>"
      ]
     },
     "execution_count": 16,
     "metadata": {},
     "output_type": "execute_result"
    }
   ],
   "source": [
    "def longest_sequence_after_flip(bits):\n",
    "    bit = 1 << 63\n",
    "    longest = 0\n",
    "    current_without_flip = 0\n",
    "    current_with_flip = 0\n",
    "    while bit:\n",
    "        if bits & bit:\n",
    "            current_without_flip += 1\n",
    "            current_with_flip += 1\n",
    "        else:\n",
    "            current_with_flip = current_without_flip + 1\n",
    "            current_without_flip = 0\n",
    "        if current_with_flip > longest:\n",
    "            longest = current_with_flip\n",
    "        bit >>= 1\n",
    "    return longest\n",
    "\n",
    "class Test(unittest.TestCase):\n",
    "    def test_longest_sequence_after_flip(self):\n",
    "        self.assertEqual(longest_sequence_after_flip(0b1111100), 6)\n",
    "        self.assertEqual(longest_sequence_after_flip(0b0111111), 7)\n",
    "        self.assertEqual(longest_sequence_after_flip(-1), 64)\n",
    "        self.assertEqual(longest_sequence_after_flip(0b1011110111001111110), 8)\n",
    "        \n",
    "unittest.main(argv=['first-arg-is-ignored'], exit=False)"
   ]
  },
  {
   "cell_type": "markdown",
   "metadata": {},
   "source": [
    "<a id='5.4'></a>\n",
    "### 5.4 Next Number\n",
    "Given a positive integer, print the next smallest and the next largest number that have the same numbe rof 1 bits in their binary representaiton."
   ]
  },
  {
   "cell_type": "code",
   "execution_count": 17,
   "metadata": {},
   "outputs": [
    {
     "name": "stderr",
     "output_type": "stream",
     "text": [
      ".\n",
      "----------------------------------------------------------------------\n",
      "Ran 1 test in 0.002s\n",
      "\n",
      "OK\n"
     ]
    },
    {
     "data": {
      "text/plain": [
       "<unittest.main.TestProgram at 0x26a13580748>"
      ]
     },
     "execution_count": 17,
     "metadata": {},
     "output_type": "execute_result"
    }
   ],
   "source": [
    "def next_numbers(number):\n",
    "    if number % 2:\n",
    "        # Larger X011...1 --> X101...1\n",
    "        negated = ~number\n",
    "        lsz = negated & -negated\n",
    "        larger = number ^ (lsz | (lsz >> 1))\n",
    "        # Smaller X100...01...1 --> X011...10...0\n",
    "        end_ones = lsz - 1\n",
    "        cleared = number ^ end_ones\n",
    "        if cleared:\n",
    "            next_bit = cleared & -cleared\n",
    "            flip_bits1 = next_bit | (next_bit >> 1)\n",
    "            extra_zeros = ((next_bit >> 1) - 1) ^ end_ones\n",
    "            flip_bits2 = extra_zeros | (extra_zeros >> end_ones.bit_length())\n",
    "            smaller = number ^ flip_bits1 ^ flip_bits2\n",
    "        else:\n",
    "            smaller = None\n",
    "    else:\n",
    "        # Smaller X100...0 --> X010...0\n",
    "        lsb = number & -number\n",
    "        smaller = number ^ (lsb | (lsb >> 1))\n",
    "        # Larger X011...10...0 --> X100...01...1\n",
    "        end_zeros = lsb - 1\n",
    "        cleared_negated = ~number ^ end_zeros\n",
    "        next_zero = cleared_negated & -cleared_negated\n",
    "        flip_bits1 = next_zero | (next_zero >> 1)\n",
    "        extra_ones = ((next_zero >> 1) - 1) ^ end_zeros\n",
    "        flip_bits2 = extra_ones | (extra_ones >> end_zeros.bit_length())\n",
    "        larger = number ^ flip_bits1 ^ flip_bits2\n",
    "    return (smaller, larger)\n",
    "\n",
    "\n",
    "class Test(unittest.TestCase):\n",
    "    def test_next_numbers(self):\n",
    "        self.assertEqual(next_numbers(8), (4, 16))\n",
    "        self.assertEqual(next_numbers(12), (10, 17))\n",
    "        self.assertEqual(next_numbers(15), (None, 23))\n",
    "        self.assertEqual(next_numbers(143), (124, 151))\n",
    "        self.assertEqual(next_numbers(159), (126, 175))\n",
    "\n",
    "unittest.main(argv=['first-arg-is-ignored'], exit=False)"
   ]
  },
  {
   "cell_type": "markdown",
   "metadata": {},
   "source": [
    "<a id='5.5'></a>\n",
    "### 5.5 Debugger:\n",
    "Explain what the following code does: `((n & (n-1)) == 0)`"
   ]
  },
  {
   "cell_type": "code",
   "execution_count": 18,
   "metadata": {},
   "outputs": [
    {
     "name": "stderr",
     "output_type": "stream",
     "text": [
      ".\n",
      "----------------------------------------------------------------------\n",
      "Ran 1 test in 0.002s\n",
      "\n",
      "OK\n"
     ]
    },
    {
     "data": {
      "text/plain": [
       "<unittest.main.TestProgram at 0x26a1355edd8>"
      ]
     },
     "execution_count": 18,
     "metadata": {},
     "output_type": "execute_result"
    }
   ],
   "source": [
    "def is_power_of_two_or_zero(n):\n",
    "    return (n & (n-1)) == 0\n",
    "\n",
    "class Test(unittest.TestCase):\n",
    "    def test_is_power_of_two(self):\n",
    "        self.assertTrue( is_power_of_two_or_zero(0))\n",
    "        self.assertTrue( is_power_of_two_or_zero(1))\n",
    "        self.assertTrue( is_power_of_two_or_zero(2))\n",
    "        self.assertFalse(is_power_of_two_or_zero(3))\n",
    "        self.assertTrue( is_power_of_two_or_zero(4))\n",
    "        self.assertFalse(is_power_of_two_or_zero(5))\n",
    "        self.assertFalse(is_power_of_two_or_zero(6))\n",
    "        self.assertFalse(is_power_of_two_or_zero(1000))\n",
    "        self.assertTrue( is_power_of_two_or_zero(1024))\n",
    "\n",
    "unittest.main(argv=['first-arg-is-ignored'], exit=False)"
   ]
  },
  {
   "cell_type": "markdown",
   "metadata": {},
   "source": [
    "<a id='5.6'></a>\n",
    "### 5.6 Conversion\n",
    "Write a function to determine the number of bits you would need to flip to convert integer A to integer B.\n",
    "```\n",
    "EXAMPLE\n",
    "Input: 29 (or 11101), 15 (or 01111)\n",
    "Output: 2\n",
    "```"
   ]
  },
  {
   "cell_type": "code",
   "execution_count": 19,
   "metadata": {},
   "outputs": [
    {
     "name": "stderr",
     "output_type": "stream",
     "text": [
      "..\n",
      "----------------------------------------------------------------------\n",
      "Ran 2 tests in 0.002s\n",
      "\n",
      "OK\n"
     ]
    },
    {
     "data": {
      "text/plain": [
       "<unittest.main.TestProgram at 0x26a135954a8>"
      ]
     },
     "execution_count": 19,
     "metadata": {},
     "output_type": "execute_result"
    }
   ],
   "source": [
    "EVEN = 0x5555555555555555\n",
    "ODD  = 0xAAAAAAAAAAAAAAAA\n",
    "\n",
    "# This is better for numbers that are nearly the same.\n",
    "def bits_different_1(a, b):\n",
    "    different = a ^ b\n",
    "    count = 0\n",
    "    while different:\n",
    "        different ^= different & -different\n",
    "        count += 1\n",
    "    return count\n",
    "\n",
    "# This is better for numbers that differ by a lot.\n",
    "def bits_different_2(a, b):\n",
    "    different = a ^ b\n",
    "    counts = (different & EVEN) + ((different & ODD) >> 1)\n",
    "    counts = (counts & 0x3333333333333333) + ((counts & 0xCCCCCCCCCCCCCCCC) >> 2)\n",
    "    counts = (counts & 0x0F0F0F0F0F0F0F0F) + ((counts & 0xF0F0F0F0F0F0F0F0) >> 4)\n",
    "    counts = (counts & 0x00FF00FF00FF00FF) + ((counts & 0xFF00FF00FF00FF00) >> 8)\n",
    "    counts = (counts & 0x0000FFFF0000FFFF) + ((counts & 0xFFFF0000FFFF0000) >> 16)\n",
    "    counts = (counts & 0x00000000FFFFFFFF) + (counts >> 32)\n",
    "    return counts\n",
    "\n",
    "class Test(unittest.TestCase):\n",
    "    def test_bits_different_1(self):\n",
    "        self.assertEqual(bits_different_1(16, 2), 2)\n",
    "        self.assertEqual(bits_different_1(17, 34), 4)\n",
    "        self.assertEqual(bits_different_1(15, 97), 5)\n",
    "  \n",
    "    def test_bits_different_2(self):\n",
    "        self.assertEqual(bits_different_2(16, 2), 2)\n",
    "        self.assertEqual(bits_different_2(17, 34), 4)\n",
    "        self.assertEqual(bits_different_2(15, 97), 5)\n",
    "\n",
    "unittest.main(argv=['first-arg-is-ignored'], exit=False)"
   ]
  },
  {
   "cell_type": "markdown",
   "metadata": {},
   "source": [
    "<a id='5.7'></a>\n",
    "### 5.7 Pairwise Swap\n",
    "Write a program to swap odd and even bits in an integer with as few instructions as possile (e.g. bit 0 and bit 1 are swapped, bit 2 and bit 3 are swapped, and so on)."
   ]
  },
  {
   "cell_type": "code",
   "execution_count": 20,
   "metadata": {},
   "outputs": [
    {
     "name": "stderr",
     "output_type": "stream",
     "text": [
      ".\n",
      "----------------------------------------------------------------------\n",
      "Ran 1 test in 0.001s\n",
      "\n",
      "OK\n"
     ]
    },
    {
     "data": {
      "text/plain": [
       "<unittest.main.TestProgram at 0x26a13580ef0>"
      ]
     },
     "execution_count": 20,
     "metadata": {},
     "output_type": "execute_result"
    }
   ],
   "source": [
    "EVEN = 0x5555555555555555\n",
    "ODD  = 0xAAAAAAAAAAAAAAAA\n",
    "\n",
    "def swap_odd_even_bits(n):\n",
    "    return ((n & ODD) >> 1) | ((n & EVEN) << 1)\n",
    "\n",
    "class Test(unittest.TestCase):\n",
    "    def test_swap_odd_even_bits(self):\n",
    "        self.assertEqual(swap_odd_even_bits(42), 21)\n",
    "        self.assertEqual(swap_odd_even_bits(21), 42)\n",
    "        self.assertEqual(swap_odd_even_bits(43), 23)\n",
    "        self.assertEqual(swap_odd_even_bits(EVEN), ODD)\n",
    "        self.assertEqual(swap_odd_even_bits(511), 767)\n",
    "        self.assertEqual(swap_odd_even_bits(1023), 1023)\n",
    "\n",
    "unittest.main(argv=['first-arg-is-ignored'], exit=False)"
   ]
  },
  {
   "cell_type": "markdown",
   "metadata": {},
   "source": [
    "<a id='5.8'></a>\n",
    "### 5.8 Draw Line\n",
    "A monocrhome screen is stored as a single array of bytes, allowing eight ocnsecutive pixels to be stored in one byte. The screen has width w where w is divisible by 8 (that is, no byte will be split across rows). The height of the screen of course can be derived from the length of the array and the width. Implement a function that draws a horizontal line from `(x1, y)` to `(x2, y)`.\n",
    "\n",
    "The method signature should look something like:\n",
    "`drawLine(byte screen, int width, int x1, int x2, int y)`"
   ]
  },
  {
   "cell_type": "code",
   "execution_count": 21,
   "metadata": {},
   "outputs": [
    {
     "name": "stderr",
     "output_type": "stream",
     "text": [
      ".\n",
      "----------------------------------------------------------------------\n",
      "Ran 1 test in 0.001s\n",
      "\n",
      "OK\n"
     ]
    },
    {
     "data": {
      "text/plain": [
       "<unittest.main.TestProgram at 0x26a1359c550>"
      ]
     },
     "execution_count": 21,
     "metadata": {},
     "output_type": "execute_result"
    }
   ],
   "source": [
    "def draw_line(screen, width, x1, x2, y):\n",
    "    byte_width = width // 8\n",
    "    height = len(screen) // byte_width\n",
    "    if x1 < x2:\n",
    "        x_start, x_end = x1, x2\n",
    "    else:\n",
    "        x_start, x_end = x2, x1\n",
    "    if x_start < 0 or x_end > width or y > height:\n",
    "        return None\n",
    "    byte = y * byte_width + x_start // 8\n",
    "    byte_end = y * byte_width + x_end // 8\n",
    "    screen[byte] = (1 << (x_start % 8)) - 1\n",
    "    byte += 1\n",
    "    while byte < byte_end:\n",
    "        screen[byte] = 255\n",
    "        byte += 1\n",
    "    screen[byte] = 255 ^ ((1 << (x_end % 8)) - 1)\n",
    "\n",
    "class Test(unittest.TestCase):\n",
    "    def test_draw_line(self):\n",
    "        screen = [0, 0, 0, 0, 0, 0, 0, 0,\n",
    "                  0, 0, 0, 0, 0, 0, 0, 0,\n",
    "                  0, 0, 0, 0, 0, 0, 0, 0]\n",
    "        draw_line(screen, 64, 20, 42, 1)\n",
    "        self.assertEqual(screen, [0]*8 + [0, 0, 15, 255, 255, 252, 0, 0] + [0]*8)\n",
    "\n",
    "unittest.main(argv=['first-arg-is-ignored'], exit=False)"
   ]
  },
  {
   "cell_type": "markdown",
   "metadata": {},
   "source": [
    "<a id='6'></a>\n",
    "## 6 Math and Logic Puzzles\n",
    "\n",
    "<a id='6.1'></a>\n",
    "### 6.1 The Heavy Pill\n",
    "You have 20 bottles of pills. 19 bottles have 1.0 gram pills, but one has pills of weight 1.1 grams. Given a scale that provides an exact measurement, how would you find the heavy bottle? You can only use the scale once."
   ]
  },
  {
   "cell_type": "code",
   "execution_count": 22,
   "metadata": {},
   "outputs": [
    {
     "name": "stderr",
     "output_type": "stream",
     "text": [
      ".\n",
      "----------------------------------------------------------------------\n",
      "Ran 1 test in 0.015s\n",
      "\n",
      "OK\n"
     ]
    },
    {
     "data": {
      "text/plain": [
       "<unittest.main.TestProgram at 0x26a1359c780>"
      ]
     },
     "execution_count": 22,
     "metadata": {},
     "output_type": "execute_result"
    }
   ],
   "source": [
    "# Get 1 pill from bottle 1, 2 pills from bottle 2... n pills from bottle n.\n",
    "# Measure the weight. \n",
    "# If the weight is 0.1 gram more than 210, the answer is bottle 1.\n",
    "# If the weight is 0.n grams more than 210, the answer is bottle n\n",
    "def pill_bottle(bottles):\n",
    "    pills = []\n",
    "    for i, bottle in enumerate(bottles):\n",
    "        pills += [bottle.pill()] * i\n",
    "    weight = use_scale(pills)\n",
    "    index = (weight - 190) * 10\n",
    "    return int(index + 0.1)\n",
    "  \n",
    "def use_scale(pills):\n",
    "    return sum(pills)\n",
    "\n",
    "class Bottle():\n",
    "    def __init__(self, pill_weight=1.0):\n",
    "        self.pill_weight = pill_weight\n",
    "  \n",
    "    def pill(self):\n",
    "        return self.pill_weight\n",
    "\n",
    "import unittest\n",
    "\n",
    "class Test(unittest.TestCase):\n",
    "    def test_pill_bottle(self):\n",
    "        bottles = [Bottle(), Bottle(), Bottle(), Bottle(), Bottle(),\n",
    "                   Bottle(), Bottle(), Bottle(), Bottle(), Bottle(),\n",
    "                   Bottle(), Bottle(), Bottle(), Bottle(), Bottle(1.1),\n",
    "                   Bottle(), Bottle(), Bottle(), Bottle(), Bottle()]\n",
    "        self.assertEqual(pill_bottle(bottles), 14)\n",
    "\n",
    "unittest.main(argv=['first-arg-is-ignored'], exit=False)"
   ]
  },
  {
   "cell_type": "markdown",
   "metadata": {},
   "source": [
    "<a id='6.2'></a>\n",
    "### 6.2 Basketball\n",
    "You have a basketball hoop and someone says that you can play one of two games.\n",
    "- Game 1: You get one shot to make the hoop.\n",
    "- Game 2: You get three shots and you have to make two of three shots.\n",
    "\n",
    "If p is the probability of making a particular shot, for which values of p should you pick one game or the other?"
   ]
  },
  {
   "cell_type": "code",
   "execution_count": 23,
   "metadata": {},
   "outputs": [
    {
     "name": "stderr",
     "output_type": "stream",
     "text": [
      ".\n",
      "----------------------------------------------------------------------\n",
      "Ran 1 test in 0.002s\n",
      "\n",
      "OK\n"
     ]
    },
    {
     "data": {
      "text/plain": [
       "<unittest.main.TestProgram at 0x26a13586e10>"
      ]
     },
     "execution_count": 23,
     "metadata": {},
     "output_type": "execute_result"
    }
   ],
   "source": [
    "# p = (p*p*p + 3*p*p*(1-p))\n",
    "# Therefore the cutoff is p = 0.5\n",
    "# p < (p*p*p + 3*p*p*(1-p)) when p < 0.5, p > (p*p*p + 3*p*p*(1-p)) when p > 0.5\n",
    "\n",
    "def basketball(accuracy):\n",
    "    if accuracy < 0.5:\n",
    "        return \"single shot\"\n",
    "    else:\n",
    "        return \"three shots\"\n",
    "\n",
    "class Test(unittest.TestCase):\n",
    "    def test_basketball(self):\n",
    "        accuracy = 0\n",
    "        while accuracy <= 1:\n",
    "            if accuracy >= accuracy ** 3 + 3 * accuracy ** 2 * (1 - accuracy):\n",
    "                self.assertEqual(basketball(accuracy), \"single shot\")\n",
    "            else:\n",
    "                self.assertEqual(basketball(accuracy), \"three shots\")\n",
    "            accuracy += 0.01\n",
    "\n",
    "unittest.main(argv=['first-arg-is-ignored'], exit=False)"
   ]
  },
  {
   "cell_type": "markdown",
   "metadata": {},
   "source": [
    "<a id='6.3'></a>\n",
    "### 6.3 Dominos\n",
    "There is an 8x8 chessboard in which two diagonally opposite corners have been cut off. You are given 31 dominos, and a single domino can cover exactly two squares. Can you use the 31 dominos to cover the entire board? Prove your answer (by providing an example or showing why it's impossible). "
   ]
  },
  {
   "cell_type": "code",
   "execution_count": 24,
   "metadata": {},
   "outputs": [],
   "source": [
    "# Each domino must cover one black square and one white square.\n",
    "# But there are different numbers of black and white squares.\n",
    "def dominoes():\n",
    "    return False"
   ]
  },
  {
   "cell_type": "markdown",
   "metadata": {},
   "source": [
    "<a id='6.4'></a>\n",
    "### 6.4 Ants on a Triangle\n",
    "There are three ants on different vertices of a triangle. What is the probability of collision (between any two or all of them) if they start walking on the sides of the triangle? Assume that each ant randomly picks a direction, with either direction being equally likely to be chosen, and that they walk at the same speed. Similarly, find the probability of collision with n ants on an n-vertex polygon. "
   ]
  },
  {
   "cell_type": "code",
   "execution_count": 25,
   "metadata": {},
   "outputs": [
    {
     "name": "stderr",
     "output_type": "stream",
     "text": [
      ".\n",
      "----------------------------------------------------------------------\n",
      "Ran 1 test in 0.001s\n",
      "\n",
      "OK\n"
     ]
    },
    {
     "data": {
      "text/plain": [
       "<unittest.main.TestProgram at 0x26a13508a58>"
      ]
     },
     "execution_count": 25,
     "metadata": {},
     "output_type": "execute_result"
    }
   ],
   "source": [
    "# The probability of all ants choosing the same direction (clockwise vs counterclockwise)\n",
    "def ants_on_a_polygon(n):\n",
    "    return 1 - 0.5 ** (n - 1)\n",
    "\n",
    "class Test(unittest.TestCase):\n",
    "    def test_ants_on_a_polygon(self):\n",
    "        self.assertEqual(ants_on_a_polygon(3), 0.75)\n",
    "        self.assertEqual(ants_on_a_polygon(4), 0.875)\n",
    "\n",
    "unittest.main(argv=['first-arg-is-ignored'], exit=False)"
   ]
  },
  {
   "cell_type": "markdown",
   "metadata": {},
   "source": [
    "<a id='6.5'></a>\n",
    "### 6.5 Jugs of Water\n",
    "You have a five-quart jug, a three-quart jug, and an unlimited supply of water (but no measuring cups). How would you come up with exactly four quarts of water? Note that the jugs are oddly shaped, such that filling up exactly \"half\" of the jug would be impossible."
   ]
  },
  {
   "cell_type": "code",
   "execution_count": 26,
   "metadata": {},
   "outputs": [
    {
     "name": "stderr",
     "output_type": "stream",
     "text": [
      ".\n",
      "----------------------------------------------------------------------\n",
      "Ran 1 test in 0.002s\n",
      "\n",
      "OK\n"
     ]
    },
    {
     "data": {
      "text/plain": [
       "<unittest.main.TestProgram at 0x26a135bc940>"
      ]
     },
     "execution_count": 26,
     "metadata": {},
     "output_type": "execute_result"
    }
   ],
   "source": [
    "# (3) []\n",
    "# (0) [3]\n",
    "# (3) [3]\n",
    "# (1) [5]\n",
    "# (1) [0]\n",
    "# (0) [1]\n",
    "# (3) [1]\n",
    "# (0) [4]\n",
    "def measure_four():\n",
    "    jug3 = Jug(3)\n",
    "    jug5 = Jug(5)\n",
    "    jug3.fill()\n",
    "    jug3.pour(jug5)\n",
    "    jug3.fill()\n",
    "    jug3.pour(jug5)\n",
    "    jug5.dump()\n",
    "    jug3.pour(jug5)\n",
    "    jug3.fill()\n",
    "    jug3.pour(jug5)\n",
    "    return jug5.water\n",
    "\n",
    "class Jug():\n",
    "    def __init__(self, capacity):\n",
    "        self.capacity = capacity\n",
    "        self.water = 0\n",
    "    def fill(self):\n",
    "        self.water = self.capacity\n",
    "    def pour(self, jug):\n",
    "        total = self.water + jug.water\n",
    "        jug.water = min(jug.capacity, total)\n",
    "        self.water = total - jug.water\n",
    "    def dump(self):\n",
    "        self.water = 0\n",
    "\n",
    "class Test(unittest.TestCase):\n",
    "    def test_measure_four(self):\n",
    "        self.assertEqual(measure_four(), 4)\n",
    "\n",
    "unittest.main(argv=['first-arg-is-ignored'], exit=False)"
   ]
  },
  {
   "cell_type": "markdown",
   "metadata": {},
   "source": [
    "<a id='6.6'></a>\n",
    "### 6.6 Blue-Eyed Island\n",
    "\n",
    "A bunch of people are living on an island, when a visitor comes with a strange order: all blue-eyed people must leave the island as soon as possible. There will be a flight out at 8:00 pm every evening. Each person can see everyone else's eye color, but they do not know their own (nor is anyone allowed to tell them). Additionally, they do not know how many people have blue eyes, although they do know that at least one person does. How many days will it take the blue-eyed people to leave?"
   ]
  },
  {
   "cell_type": "code",
   "execution_count": 27,
   "metadata": {},
   "outputs": [],
   "source": [
    "# If there is one blue eyed person, they will know immediately upon seeing everyone else's eyes and leave immediately\n",
    "# If there are two blue eyed people, each sees one blue eyed person that did not leave immediately\n",
    "# realize that they are a second blue eyed person, and both leave on the second day.\n",
    "# If there are three blue eyed people, each sees two blue eyed people and expects them to leave on the second day\n",
    "# on the third day they realize they are a third blue eyed person, and all leave on the third day.\n",
    "# By induction:\n",
    "# If there is n > 1 blue eyed people, each blue eyed person sees n-1 blue eyed people that would leave on the n-1 day\n",
    "# and on the nth day, all n blue eyed people will leave\n",
    "\n",
    "def days_to_leave(n):\n",
    "    if n == 1:\n",
    "        return 0\n",
    "    return n"
   ]
  },
  {
   "cell_type": "markdown",
   "metadata": {},
   "source": [
    "<a id='6.7'></a>\n",
    "### 6.7 The Apocalypse\n",
    "In the new post-apocalyptic world, the world queen is desperately concerned about the birth rate. Therefore, she decrees that all families should ensure that they have one girl or else they face massive fines.  If all families abide by this policy-that is, they have continue to have children until they have one girl, at which point they immediately stop-what will the gender ratio of the new generation be? (Assume that the odds of someone having a boy or a girl on any given pregnancy is equal.) Solve this out logically and then write a computer simulation of it. "
   ]
  },
  {
   "cell_type": "code",
   "execution_count": 28,
   "metadata": {},
   "outputs": [],
   "source": [
    "# Gender ratio will be exactly 1/2\n",
    "# Probability of girl on first birth (1,0) is 1/2, on second (1,1) is 1/4, on third (2,1) is 1/8\n",
    "# Convergence of infinite sum is (0.5, 0.5)\n",
    "\n",
    "def birth_ratio():\n",
    "    return 1"
   ]
  },
  {
   "cell_type": "markdown",
   "metadata": {},
   "source": [
    "<a id='6.8'></a>\n",
    "### 6.8 The Egg Drop Problem\n",
    "There is a building of 100 floors. If an egg drops from the Nth floor or above, it will break. If it's dropped from any floor below, it will not break. You're given two eggs. Find N, while minimizing the number of drops for the worst case. "
   ]
  },
  {
   "cell_type": "code",
   "execution_count": 29,
   "metadata": {},
   "outputs": [
    {
     "name": "stderr",
     "output_type": "stream",
     "text": [
      ".\n",
      "----------------------------------------------------------------------\n",
      "Ran 1 test in 0.151s\n",
      "\n",
      "OK\n"
     ]
    },
    {
     "data": {
      "text/plain": [
       "<unittest.main.TestProgram at 0x26a135dcc50>"
      ]
     },
     "execution_count": 29,
     "metadata": {},
     "output_type": "execute_result"
    }
   ],
   "source": [
    "# Simple way is to use 1st egg to find the 1st digit, the 2nd egg to find the 2nd digit, worst case is 19 drops\n",
    "# To optimize further, change the base system:\n",
    "# x + (x-1) + (x-2) + (x-3) + ... + 1 = x(x + 1)/2\n",
    "# x(x + 1)/2 = 100 -> x = 13.651\n",
    "# Optimum is to drop every thirteen floors for first egg, then every floor for second egg\n",
    "# Worst case scenario is 14 drops\n",
    "\n",
    "def egg_drop_floor(n, k):\n",
    "    if k == 0:\n",
    "        return (None, None)\n",
    "    if k == 1:\n",
    "        return (1, float(n+1)/2.0)\n",
    "    # Allocate a table to store the average drops given a number of floors and a number of eggs.\n",
    "    table = [[0.0 for i in range(k+1)] for j in range(n+1)]\n",
    "    # If we only have one egg left, we need drop from one level higher each time.\n",
    "    for floor in range(1, n+1):\n",
    "        table[floor][1] = float(floor+1)/2.0\n",
    "    # Given a number of floors and a number of eggs, consider what happens if the egg breaks and if it does not break.\n",
    "    best_floor = n + 1\n",
    "    for eggs_left in range(2, k+1):\n",
    "        table[1][eggs_left] = 1.0\n",
    "        for floor in range(2, n+1):\n",
    "            minimum_average_drops = n + 1\n",
    "            for drop_floor in range(1, floor+1):\n",
    "                egg_breaks = float(drop_floor)/float(floor)\n",
    "                average_drops = 1.0\n",
    "                average_drops += egg_breaks*table[drop_floor][eggs_left - 1]\n",
    "                average_drops += (1 - egg_breaks)*table[floor - drop_floor][eggs_left]\n",
    "                if average_drops < minimum_average_drops:\n",
    "                    minimum_average_drops = average_drops\n",
    "                    best_floor = drop_floor\n",
    "            table[floor][eggs_left] = minimum_average_drops\n",
    "    return (best_floor, table[n][k])\n",
    "\n",
    "import unittest\n",
    "\n",
    "class Test(unittest.TestCase):\n",
    "    def test_egg_drop_floor(self):\n",
    "        (start_floor, best_average_drops) = egg_drop_floor(100, 1)\n",
    "        self.assertEqual(start_floor, 1)\n",
    "        self.assertEqual(best_average_drops, 50.5)\n",
    "        (start_floor, best_average_drops) = egg_drop_floor(128, 8)\n",
    "        self.assertEqual(start_floor, 64)\n",
    "        self.assertAlmostEqual(best_average_drops, 8.0, 1)\n",
    "        # The assertions below were not verified as correct.\n",
    "        (start_floor, best_average_drops) = egg_drop_floor(100, 2)\n",
    "        self.assertEqual(start_floor, 13)\n",
    "        self.assertAlmostEqual(best_average_drops, 10.4, 1)\n",
    "        (start_floor, best_average_drops) = egg_drop_floor(100, 3)\n",
    "        self.assertEqual(start_floor, 28)\n",
    "        self.assertAlmostEqual(best_average_drops, 7.8, 1)\n",
    "    \n",
    "unittest.main(argv=['first-arg-is-ignored'], exit=False)"
   ]
  },
  {
   "cell_type": "markdown",
   "metadata": {},
   "source": [
    "<a id='6.9'></a>\n",
    "### 6.9 100 Lockers\n",
    "There are 100 closed lockers in a hallway. A man begins by opening all 100 lockers. Next, he closes every second locker. Then, on his third pass, he toggles every third locker (closes it if it is open or opens it if it is closed). This process continues for 100 passes, such that on each pass i, the man toggles every ith locker. After his 100th pass in the hallway, in which he toggles only locker #100, how many lockers are open? "
   ]
  },
  {
   "cell_type": "code",
   "execution_count": 30,
   "metadata": {},
   "outputs": [
    {
     "name": "stderr",
     "output_type": "stream",
     "text": [
      ".\n",
      "----------------------------------------------------------------------\n",
      "Ran 1 test in 0.002s\n",
      "\n",
      "OK\n"
     ]
    },
    {
     "data": {
      "text/plain": [
       "<unittest.main.TestProgram at 0x26a135a5b70>"
      ]
     },
     "execution_count": 30,
     "metadata": {},
     "output_type": "execute_result"
    }
   ],
   "source": [
    "import math\n",
    "\n",
    "# Lemma 1: If p^{q} is prime power, then p^{2q} has an odd number of divisors.\n",
    "# Proof:   All of the divisors of p^{2q} are {1, p, p^2, ..., p^{2q}} which \n",
    "#          has odd cardinality.\n",
    "\n",
    "# Lemma 2: Let n^2 be a square number.  Then n has an odd number of divisors.\n",
    "# Proof:   For a base case, notice that 1 has an odd number of divisors.\n",
    "#          Now, suppose that m^2 has an odd number of divisors.  Then the\n",
    "#          number of divisors of (m * p^q)^2 is the product of tow odd numbers\n",
    "#          for any power of primes p^q.  This completes the proof by induction\n",
    "#          on the prime power factors of n^2.\n",
    "\n",
    "# Theorem: The number n has an odd number of divisors if and only if n is a \n",
    "#          square number.\n",
    "# Proof:   Suppose n is not a square number.  Then n= p^q * m where q is odd\n",
    "#          and m is not divisible by p.  Then n has an even number of divisors. \n",
    "\n",
    "def lockers_left_open(n):\n",
    "    return int(math.sqrt(n-1))\n",
    "\n",
    "class Test(unittest.TestCase):\n",
    "    def test_lockers_left_open(self):\n",
    "        self.assertEqual(lockers_left_open(100), 9)\n",
    "        self.assertEqual(lockers_left_open(200), 14)\n",
    "\n",
    "unittest.main(argv=['first-arg-is-ignored'], exit=False)"
   ]
  },
  {
   "cell_type": "markdown",
   "metadata": {},
   "source": [
    "<a id='6.10'></a>\n",
    "### 6.10 Poison\n",
    "You have 1000 bottles of soda, and exactly one is poisoned. You have 10 test strips which can be used to detect poison. A single drop of poison will turn the test strip positive permanently. You can put any number of drops on a test strip at once and you can reuse a test strip as many times as you'd like (as long as the results are negative). However, you can only run tests once per day and it takes seven days to return a result. How would you figure out the poisoned bottle in as few days as possible? \n",
    "\n",
    "FOLLOW UP\n",
    "\n",
    "Write code to simulate your approach. "
   ]
  },
  {
   "cell_type": "code",
   "execution_count": 31,
   "metadata": {},
   "outputs": [
    {
     "name": "stderr",
     "output_type": "stream",
     "text": [
      ".\n",
      "----------------------------------------------------------------------\n",
      "Ran 1 test in 0.016s\n",
      "\n",
      "OK\n"
     ]
    },
    {
     "data": {
      "text/plain": [
       "<unittest.main.TestProgram at 0x26a135a5c50>"
      ]
     },
     "execution_count": 31,
     "metadata": {},
     "output_type": "execute_result"
    }
   ],
   "source": [
    "def detect_poison(bottles, strips):\n",
    "    for b, bottle in enumerate(bottles):\n",
    "        for s, strip in enumerate(strips):\n",
    "            if b & (1 << s):\n",
    "                strip.add_drop_from(bottle)\n",
    "    index = 0\n",
    "    for s, strip in enumerate(strips):\n",
    "        strip.wait()\n",
    "        if strip.detected_poison:\n",
    "            index |= (1 << s)\n",
    "    return index\n",
    "\n",
    "class Bottle():\n",
    "    def __init__(self, poison):\n",
    "        self.poison = poison\n",
    "\n",
    "class Strip():\n",
    "    def __init__(self):\n",
    "        self.detected_poison = False\n",
    "        self.drops_from = []\n",
    "    def add_drop_from(self, bottle):\n",
    "        self.drops_from.append(bottle)\n",
    "    def wait(self):\n",
    "        for drop in self.drops_from:\n",
    "            if drop.poison:\n",
    "                self.detected_poison = True\n",
    "                return\n",
    "\n",
    "import unittest\n",
    "\n",
    "class Test(unittest.TestCase):\n",
    "    def test_detect_posion(self):\n",
    "        bottles = [Bottle(ix == 367) for ix in range(1000)]\n",
    "        strips = [Strip() for i in range(10)]\n",
    "        self.assertEqual(detect_poison(bottles, strips), 367)\n",
    "\n",
    "unittest.main(argv=['first-arg-is-ignored'], exit=False)"
   ]
  },
  {
   "cell_type": "code",
   "execution_count": null,
   "metadata": {},
   "outputs": [],
   "source": []
  }
 ],
 "metadata": {
  "kernelspec": {
   "display_name": "Python 3",
   "language": "python",
   "name": "python3"
  },
  "language_info": {
   "codemirror_mode": {
    "name": "ipython",
    "version": 3
   },
   "file_extension": ".py",
   "mimetype": "text/x-python",
   "name": "python",
   "nbconvert_exporter": "python",
   "pygments_lexer": "ipython3",
   "version": "3.6.5"
  }
 },
 "nbformat": 4,
 "nbformat_minor": 2
}
