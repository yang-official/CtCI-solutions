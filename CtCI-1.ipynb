{
 "cells": [
  {
   "cell_type": "markdown",
   "metadata": {},
   "source": [
    "# Cracking the Coding Interview 6th Edition Solutions Manual in Python\n",
    "\n",
    "## Part 1\n",
    "Unofficial solutions manual in Python for McDowell's Cracking the Coding Interview, 6th Edition.\n",
    "\n",
    "Intended as a quick reference and \"cheat sheet\" to help engineers break the interview in minimum time. McDowell's book does not include solutions in Python, a recommended language for coding interviews for syntax simplicity.\n",
    "\n",
    "The official career cup github does have python solutions, but at time of writing the solutions are still incomplete.\n",
    "\n",
    "## Contents\n",
    "1. [Arrays and Strings](#1)\n",
    "    - 1.1 [Is Unique](#1.1)\n",
    "    - 1.2 [Check Permutation](#1.2)\n",
    "    - 1.3 [URLify](#1.3)\n",
    "    - 1.4 [Palindrome Permutation](#1.4)\n",
    "    - 1.5 [One Away](#1.5)\n",
    "    - 1.6 [String Compression](#1.6)\n",
    "    - 1.7 [Rotate Matrix](#1.7)\n",
    "    - 1.8 [Zero Matrix](#1.8)\n",
    "    - 1.9 [String Rotation](#1.9)\n",
    "2. [Linked Lists](#2)\n",
    "    - 2.1 [Remove Duplicates](#2.1)\n",
    "    - 2.2 [Return Kth to Last](#2.2)\n",
    "    - 2.3 [Delete Middle Node](#2.3)\n",
    "    - 2.4 [Partition](#2.4)\n",
    "    - 2.5 [Sum Lists](#2.5)\n",
    "    - 2.6 [Palindrome](#2.6)\n",
    "    - 2.7 [Intersection](#2.7)\n",
    "    - 2.8 [Loop Detection](#2.8)\n",
    "3. [Stacks and Queues](#3)\n",
    "    - 3.1 [Three in One](#3.1)\n",
    "    - 3.2 [Stack Min](#3.2)\n",
    "    - 3.3 [Stack of Plates](#3.3)\n",
    "    - 3.4 [Queue via stacks](#3.4)\n",
    "    - 3.5 [Sort Stack](#3.5)\n",
    "    - 3.6 [Animal Shelter](#3.6)\n",
    "4. Trees and Graphs\n",
    "5. Bit Manipulation\n",
    "6. Math and Logic Puzzles\n",
    "7. Object-Oriented Design\n",
    "8. Recursion and Dynamic Programming\n",
    "9. System Design and Scalability\n",
    "10. Sorting and Searching\n",
    "11. Testing\n",
    "12. C and C++\n",
    "13. Java\n",
    "14. Databases\n",
    "15. Threads and Locking\n",
    "16. Moderate\n",
    "17. Hard"
   ]
  },
  {
   "cell_type": "code",
   "execution_count": 1,
   "metadata": {},
   "outputs": [],
   "source": [
    "import unittest"
   ]
  },
  {
   "cell_type": "markdown",
   "metadata": {},
   "source": [
    "<a id='1'></a>\n",
    "## 1. Arrays and Strings\n",
    "\n",
    "<a id='1.1'></a>\n",
    "### 1.1 Is Unique\n",
    "Implement an algorithm to determine if a string has all unique characters. What if you cannot use additional data structures?\n",
    "\n",
    "#### Solution\n",
    "- Assumptions made for given solutions: capital letters distinct"
   ]
  },
  {
   "cell_type": "code",
   "execution_count": 2,
   "metadata": {},
   "outputs": [
    {
     "name": "stderr",
     "output_type": "stream",
     "text": [
      ".\n",
      "----------------------------------------------------------------------\n",
      "Ran 1 test in 0.013s\n",
      "\n",
      "OK\n"
     ]
    },
    {
     "data": {
      "text/plain": [
       "<unittest.main.TestProgram at 0x2cde7947e48>"
      ]
     },
     "execution_count": 2,
     "metadata": {},
     "output_type": "execute_result"
    }
   ],
   "source": [
    "class Test(unittest.TestCase):\n",
    "    dataT = [('abcd'), ('s4fad'), (''),('a'),('ab'),('ab '),(''),(' '),('qwerty')]\n",
    "    dataF = [('23ds2'), ('hb 627jh=j ()'),('aa'),('  '),('qwerte')]\n",
    "\n",
    "    def test_unique(self):\n",
    "        # true check\n",
    "        for test_string in self.dataT:\n",
    "            actual = isUnique(test_string)\n",
    "            self.assertTrue(actual)\n",
    "        # false check\n",
    "        for test_string in self.dataF:\n",
    "            actual = isUnique(test_string)\n",
    "            self.assertFalse(actual)\n",
    "            \n",
    "def isUnique(s):\n",
    "    letters = {}\n",
    "    for letter in s:\n",
    "        if letter in letters:\n",
    "            return False\n",
    "        letters[letter] = True\n",
    "    return True\n",
    "\n",
    "unittest.main(argv=['first_arg-is-ignored'], exit=False)"
   ]
  },
  {
   "cell_type": "code",
   "execution_count": 3,
   "metadata": {},
   "outputs": [
    {
     "name": "stderr",
     "output_type": "stream",
     "text": [
      ".\n",
      "----------------------------------------------------------------------\n",
      "Ran 1 test in 0.002s\n",
      "\n",
      "OK\n"
     ]
    },
    {
     "data": {
      "text/plain": [
       "<unittest.main.TestProgram at 0x2cde78444a8>"
      ]
     },
     "execution_count": 3,
     "metadata": {},
     "output_type": "execute_result"
    }
   ],
   "source": [
    "# without using additional data structures, O(n)\n",
    "def isUnique(s):\n",
    "    for l in s:\n",
    "        if s.count(l) > 1:\n",
    "            return False\n",
    "    return True\n",
    "\n",
    "unittest.main(argv=['first-arg-is-ignored'], exit=False)"
   ]
  },
  {
   "cell_type": "markdown",
   "metadata": {},
   "source": [
    "<a id='1.2'></a>\n",
    "### 1.2 Check Permutation\n",
    "Given two strings, write a method to decide if one is a permutation of the other.\n",
    "\n",
    "#### Solution"
   ]
  },
  {
   "cell_type": "code",
   "execution_count": 4,
   "metadata": {},
   "outputs": [
    {
     "name": "stderr",
     "output_type": "stream",
     "text": [
      ".\n",
      "----------------------------------------------------------------------\n",
      "Ran 1 test in 0.017s\n",
      "\n",
      "OK\n"
     ]
    },
    {
     "data": {
      "text/plain": [
       "<unittest.main.TestProgram at 0x2cde7947b70>"
      ]
     },
     "execution_count": 4,
     "metadata": {},
     "output_type": "execute_result"
    }
   ],
   "source": [
    "class Test(unittest.TestCase):\n",
    "    dataT = (\n",
    "        ('abcd', 'bacd'),\n",
    "        ('3563476', '7334566'),\n",
    "        ('wef34f', 'wffe34'),\n",
    "    )\n",
    "    dataF = (\n",
    "        ('abcd', 'd2cba'),\n",
    "        ('2354', '1234'),\n",
    "        ('dcw4f', 'dcw5f'),\n",
    "    )\n",
    "\n",
    "    def test_cp(self):\n",
    "        # true check\n",
    "        for test_strings in self.dataT:\n",
    "            result = check_permutation(*test_strings)\n",
    "            self.assertTrue(result)\n",
    "        # false check\n",
    "        for test_strings in self.dataF:\n",
    "            result = check_permutation(*test_strings)\n",
    "            self.assertFalse(result)\n",
    "            \n",
    "# O(a) + O(b) with early termination\n",
    "def check_permutation(a, b):\n",
    "    if len(a) != len(b):\n",
    "        return False\n",
    "    d = {}\n",
    "    for c in a:\n",
    "        if c in d: d[c] += 1\n",
    "        else: d[c] = 1\n",
    "    for c in b:\n",
    "        if c not in d:\n",
    "            return False\n",
    "        d[c] -= 1\n",
    "    return True\n",
    "    \n",
    "unittest.main(argv=['first-arg-is-ignored'], exit=False)"
   ]
  },
  {
   "cell_type": "markdown",
   "metadata": {},
   "source": [
    "<a id='1.3'></a>\n",
    "### 1.3 Urlify\n",
    "Write a method to replace all spaces in a string with '%20'. You may assume that the string has sufficient space at the end to hold the additional characters, and that you are given the \"true\" length of the string.\n",
    "\n",
    "#### Solution"
   ]
  },
  {
   "cell_type": "code",
   "execution_count": 5,
   "metadata": {},
   "outputs": [
    {
     "name": "stderr",
     "output_type": "stream",
     "text": [
      ".\n",
      "----------------------------------------------------------------------\n",
      "Ran 1 test in 0.000s\n",
      "\n",
      "OK\n"
     ]
    },
    {
     "data": {
      "text/plain": [
       "<unittest.main.TestProgram at 0x2cde793cbe0>"
      ]
     },
     "execution_count": 5,
     "metadata": {},
     "output_type": "execute_result"
    }
   ],
   "source": [
    "def urlify(s):\n",
    "    return s.strip().replace(' ', '%20')\n",
    "\n",
    "class Test(unittest.TestCase):\n",
    "    '''Test Cases'''\n",
    "    # Using lists because Python strings are immutable\n",
    "    data = [\n",
    "        ('much ado about nothing      ', 22,\n",
    "         'much%20ado%20about%20nothing'),\n",
    "        ('Mr John Smith    ', 13, 'Mr%20John%20Smith')]\n",
    "\n",
    "    def test_urlify(self):\n",
    "        for [test_string, length, expected] in self.data:\n",
    "            actual = urlify(test_string)\n",
    "            self.assertEqual(actual, expected)         \n",
    "\n",
    "unittest.main(argv=['first-arg-is-ignored'], exit=False)"
   ]
  },
  {
   "cell_type": "markdown",
   "metadata": {},
   "source": [
    "<a id='1.4'></a>\n",
    "### 1.4 Palindrome Permutation\n",
    "Given a string, write a function to check if it is a permutation of a palindrome. A palindrome is a word or phrase that is the same forwards and backwards. A permutation is a rearrangement of letters. The palindrome does not need to be limited to just dictionary words. "
   ]
  },
  {
   "cell_type": "code",
   "execution_count": 6,
   "metadata": {},
   "outputs": [
    {
     "name": "stderr",
     "output_type": "stream",
     "text": [
      ".\n",
      "----------------------------------------------------------------------\n",
      "Ran 1 test in 0.009s\n",
      "\n",
      "OK\n"
     ]
    },
    {
     "data": {
      "text/plain": [
       "<unittest.main.TestProgram at 0x2cde7979ba8>"
      ]
     },
     "execution_count": 6,
     "metadata": {},
     "output_type": "execute_result"
    }
   ],
   "source": [
    "# Trick: a palindrome has at most one letter that has an odd number\n",
    "def palindrome_permutation(s):\n",
    "    d = {}\n",
    "    countodds = 0\n",
    "    s = s.replace('', ' ').lower()\n",
    "    for l in s:\n",
    "        if l in d.keys():\n",
    "            d[l] += 1\n",
    "            if d[l] % 2:\n",
    "                countodds += 1\n",
    "            else:\n",
    "                countodds -= 1\n",
    "        else:\n",
    "            d[l] = 1\n",
    "            countodds += 1\n",
    "    return countodds <= 1\n",
    "\n",
    "class Test(unittest.TestCase):\n",
    "    '''Test Cases'''\n",
    "    data = [\n",
    "        ('Tact Coa', True),\n",
    "        ('jhsabckuj ahjsbckj', True),\n",
    "        ('Able was I ere I saw Elba', True),\n",
    "        ('So patient a nurse to nurse a patient so', False),\n",
    "        ('Random Words', False),\n",
    "        ('Not a Palindrome', False),\n",
    "        ('no x in nixon', True),\n",
    "        ('azAZ', True)]\n",
    "\n",
    "    def test_pal_perm(self):\n",
    "        for [test_string, expected] in self.data:\n",
    "            actual = palindrome_permutation(test_string)\n",
    "            self.assertEqual(actual, expected)\n",
    "            \n",
    "unittest.main(argv=['first-arg-is-ignored'], exit=False)"
   ]
  },
  {
   "cell_type": "markdown",
   "metadata": {},
   "source": [
    "<a id='1.5'></a>\n",
    "### 1.5 One Away\n",
    "There are three types of edits that can be performed on strings: insert a character, remove a character, or replace a character. Given two strings, write a function to check if they are one edit (or zero edits) away."
   ]
  },
  {
   "cell_type": "code",
   "execution_count": 7,
   "metadata": {},
   "outputs": [
    {
     "name": "stderr",
     "output_type": "stream",
     "text": [
      ".\n",
      "----------------------------------------------------------------------\n",
      "Ran 1 test in 0.008s\n",
      "\n",
      "OK\n"
     ]
    },
    {
     "data": {
      "text/plain": [
       "<unittest.main.TestProgram at 0x2cde7973e80>"
      ]
     },
     "execution_count": 7,
     "metadata": {},
     "output_type": "execute_result"
    }
   ],
   "source": [
    "def one_away(a, b):\n",
    "    if len(a) == len(b):\n",
    "        return one_replace(a, b)\n",
    "    elif len(a) + 1 == len(b):\n",
    "        return one_insert(a, b)\n",
    "    elif len(a) - 1 == len(b):\n",
    "        return one_insert(b, a)\n",
    "    return False\n",
    "\n",
    "def one_replace(a, b):\n",
    "    edited = False\n",
    "    for x, y in zip(a, b):\n",
    "        if x != y:\n",
    "            if edited:\n",
    "                return False\n",
    "            edited = True\n",
    "    return True\n",
    "\n",
    "def one_insert(a, b):\n",
    "    edited = False\n",
    "    i, j = 0, 0\n",
    "    while i < len(a) and j < len(b):\n",
    "        if a[i] != b[j]:\n",
    "            if edited:\n",
    "                return False\n",
    "            edited = True\n",
    "            j += 1\n",
    "        else:\n",
    "            i += 1\n",
    "            j += 1\n",
    "    return True\n",
    "\n",
    "class Test(unittest.TestCase):\n",
    "    '''Test Cases'''\n",
    "    data = [\n",
    "        ('pale', 'ple', True),\n",
    "        ('pales', 'pale', True),\n",
    "        ('pale', 'bale', True),\n",
    "        ('paleabc', 'pleabc', True),\n",
    "        ('pale', 'ble', False),\n",
    "        ('a', 'b', True),\n",
    "        ('', 'd', True),\n",
    "        ('d', 'de', True),\n",
    "        ('pale', 'pale', True),\n",
    "        ('pale', 'ple', True),\n",
    "        ('ple', 'pale', True),\n",
    "        ('pale', 'bale', True),\n",
    "        ('pale', 'bake', False),\n",
    "        ('pale', 'pse', False),\n",
    "        ('ples', 'pales', True),\n",
    "        ('pale', 'pas', False),\n",
    "        ('pas', 'pale', False),\n",
    "        ('pale', 'pkle', True),\n",
    "        ('pkle', 'pable', False),\n",
    "        ('pal', 'palks', False),\n",
    "        ('palks', 'pal', False)\n",
    "    ]\n",
    "\n",
    "    def test_one_away(self):\n",
    "        for [test_s1, test_s2, expected] in self.data:\n",
    "            actual = one_away(test_s1, test_s2)\n",
    "            self.assertEqual(actual, expected)\n",
    "            \n",
    "unittest.main(argv=['first-arg-is-ignored'], exit=False)"
   ]
  },
  {
   "cell_type": "markdown",
   "metadata": {},
   "source": [
    "<a id='1.6'></a>\n",
    "### 1.6 String Compression\n",
    "Implement a method to perform basic string compression using the counts of repeated characters. For example, the string aabcccccaaa would become a2blc5a3. If the \"compressed\" string would not become smaller than the original string, your method should return the original string. You can assume the string has only uppercase and lowercase letters (a -z). "
   ]
  },
  {
   "cell_type": "code",
   "execution_count": 8,
   "metadata": {},
   "outputs": [
    {
     "name": "stderr",
     "output_type": "stream",
     "text": [
      ".\n",
      "----------------------------------------------------------------------\n",
      "Ran 1 test in 0.016s\n",
      "\n",
      "OK\n"
     ]
    },
    {
     "data": {
      "text/plain": [
       "<unittest.main.TestProgram at 0x2cde79820b8>"
      ]
     },
     "execution_count": 8,
     "metadata": {},
     "output_type": "execute_result"
    }
   ],
   "source": [
    "def string_compression(s):\n",
    "    output = ''\n",
    "    current = s[0]\n",
    "    count = 1\n",
    "    for i in range(1, len(s)):\n",
    "        if s[i] == current:\n",
    "            count += 1\n",
    "        else:\n",
    "            output += current + str(count)\n",
    "            current = s[i]\n",
    "            count = 1\n",
    "    output += current + str(count)\n",
    "    if len(s) < len(output):\n",
    "        return s\n",
    "    return output\n",
    "\n",
    "class Test(unittest.TestCase):\n",
    "    '''Test Cases'''\n",
    "    data = [\n",
    "        ('aabcccccaaa', 'a2b1c5a3'),\n",
    "        ('abcdef', 'abcdef')\n",
    "    ]\n",
    "\n",
    "    def test_string_compression(self):\n",
    "        for [test_string, expected] in self.data:\n",
    "            actual = string_compression(test_string)\n",
    "            self.assertEqual(actual, expected)\n",
    "            \n",
    "unittest.main(argv=['first-arg-is-ignored'], exit=False)"
   ]
  },
  {
   "cell_type": "markdown",
   "metadata": {},
   "source": [
    "<a id=#1.7></a>\n",
    "### 1.7 Rotate Matrix\n",
    "Given an image represented by an NxN matrix, where each pixel in the image is 4 bytes, write a method to rotate the image by 90 degrees. Can you do this in place? "
   ]
  },
  {
   "cell_type": "code",
   "execution_count": 9,
   "metadata": {},
   "outputs": [
    {
     "name": "stderr",
     "output_type": "stream",
     "text": [
      ".\n",
      "----------------------------------------------------------------------\n",
      "Ran 1 test in 0.011s\n",
      "\n",
      "OK\n"
     ]
    },
    {
     "data": {
      "text/plain": [
       "<unittest.main.TestProgram at 0x2cde7985e48>"
      ]
     },
     "execution_count": 9,
     "metadata": {},
     "output_type": "execute_result"
    }
   ],
   "source": [
    "class Test(unittest.TestCase):\n",
    "    '''Test Cases'''\n",
    "    data = [\n",
    "        ([\n",
    "            [1, 2, 3, 4, 5],\n",
    "            [6, 7, 8, 9, 10],\n",
    "            [11, 12, 13, 14, 15],\n",
    "            [16, 17, 18, 19, 20],\n",
    "            [21, 22, 23, 24, 25]\n",
    "        ], [\n",
    "            [21, 16, 11, 6, 1],\n",
    "            [22, 17, 12, 7, 2],\n",
    "            [23, 18, 13, 8, 3],\n",
    "            [24, 19, 14, 9, 4],\n",
    "            [25, 20, 15, 10, 5]\n",
    "        ])\n",
    "    ]\n",
    "\n",
    "    def test_rotate_matrix(self):\n",
    "        for [test_matrix, expected] in self.data:\n",
    "            actual = rotate_matrix(test_matrix)\n",
    "            self.assertEqual(actual, expected)\n",
    "            \n",
    "def rotate_matrix(matrix):\n",
    "    '''rotates a matrix 90 degrees clockwise'''\n",
    "    n = len(matrix)\n",
    "    for layer in range(n // 2):\n",
    "        first, last = layer, n - layer - 1\n",
    "        for i in range(first, last):\n",
    "            # save top\n",
    "            top = matrix[layer][i]\n",
    "\n",
    "            # left -> top\n",
    "            matrix[layer][i] = matrix[-i - 1][layer]\n",
    "\n",
    "            # bottom -> left\n",
    "            matrix[-i - 1][layer] = matrix[-layer - 1][-i - 1]\n",
    "\n",
    "            # right -> bottom\n",
    "            matrix[-layer - 1][-i - 1] = matrix[i][- layer - 1]\n",
    "\n",
    "            # top -> right\n",
    "            matrix[i][- layer - 1] = top\n",
    "    return matrix\n",
    "\n",
    "unittest.main(argv=['first-arg-is-ignored'], exit=False)"
   ]
  },
  {
   "cell_type": "code",
   "execution_count": 10,
   "metadata": {},
   "outputs": [
    {
     "name": "stderr",
     "output_type": "stream",
     "text": [
      "..\n",
      "----------------------------------------------------------------------\n",
      "Ran 2 tests in 0.013s\n",
      "\n",
      "OK\n"
     ]
    },
    {
     "data": {
      "text/plain": [
       "<unittest.main.TestProgram at 0x2cde7991198>"
      ]
     },
     "execution_count": 10,
     "metadata": {},
     "output_type": "execute_result"
    }
   ],
   "source": [
    "def rotate_matrix(m):\n",
    "    n = len(m)\n",
    "    rotm = [None] * n\n",
    "    for row in range(n):\n",
    "        rotm[row] = [None] * n\n",
    "    for row in range(n):\n",
    "        for col in range(n):\n",
    "            rotm[n - col - 1][row] = m[row][col]\n",
    "    return rotm\n",
    "\n",
    "def rotate_matrix_in_place(m):\n",
    "    n = len(m)\n",
    "    for col in range(n//2):\n",
    "        for row in range(col, n - col - 1):\n",
    "            temp1 = m[n - col - 1][row]\n",
    "            m[n - col - 1][row] = m[row][col]\n",
    "            temp2 = m[n - row - 1][n - col - 1]\n",
    "            m[n - row - 1][n - col - 1] = temp1\n",
    "            temp1 = m[col][n - row - 1]\n",
    "            m[col][n - row - 1] = temp2\n",
    "            m[row][col] = temp1\n",
    "\n",
    "class Test(unittest.TestCase):\n",
    "    def test_rotate_matrix(self):\n",
    "        mat1 = [[1,2],[3,4]]\n",
    "        mat2 = [[2,4],[1,3]]\n",
    "        self.assertEqual(rotate_matrix(mat1), mat2)\n",
    "        mat3 = [[1,2,3],[4,5,6],[7,8,9]]\n",
    "        mat4 = [[3,6,9],[2,5,8],[1,4,7]]\n",
    "        self.assertEqual(rotate_matrix(mat3), mat4)\n",
    "        mat5 = [[1,2,3,4],[5,6,7,8],[9,10,11,12],[13,14,15,16]]\n",
    "        mat6 = [[4,8,12,16],[3,7,11,15],[2,6,10,14],[1,5,9,13]]\n",
    "        self.assertEqual(rotate_matrix(mat5), mat6)\n",
    "\n",
    "    def test_rotate_matrix_in_place(self):\n",
    "        mat1 = [[1,2],[3,4]]\n",
    "        mat2 = [[2,4],[1,3]]\n",
    "        rotate_matrix_in_place(mat1)\n",
    "        self.assertEqual(mat1, mat2)\n",
    "        mat3 = [[1,2,3],[4,5,6],[7,8,9]]\n",
    "        mat4 = [[3,6,9],[2,5,8],[1,4,7]]\n",
    "        rotate_matrix_in_place(mat3)\n",
    "        self.assertEqual(mat3, mat4)\n",
    "        mat5 = [[1,2,3,4],[5,6,7,8],[9,10,11,12],[13,14,15,16]]\n",
    "        mat6 = [[4,8,12,16],[3,7,11,15],[2,6,10,14],[1,5,9,13]]\n",
    "        rotate_matrix_in_place(mat5)\n",
    "        self.assertEqual(mat5, mat6)\n",
    "        \n",
    "unittest.main(argv=['first-arg-is-ignored'], exit=False)"
   ]
  },
  {
   "cell_type": "markdown",
   "metadata": {},
   "source": [
    "### 1.8 Zero Matrix\n",
    "Write an algorithm such that if an element in an MxN matrix is 0, its entire row and column are set to 0. "
   ]
  },
  {
   "cell_type": "code",
   "execution_count": 11,
   "metadata": {},
   "outputs": [
    {
     "name": "stderr",
     "output_type": "stream",
     "text": [
      ".\n",
      "----------------------------------------------------------------------\n",
      "Ran 1 test in 0.003s\n",
      "\n",
      "OK\n"
     ]
    },
    {
     "data": {
      "text/plain": [
       "<unittest.main.TestProgram at 0x2cde7982d68>"
      ]
     },
     "execution_count": 11,
     "metadata": {},
     "output_type": "execute_result"
    }
   ],
   "source": [
    "def nul_row(a, r):\n",
    "    for i in range(len(a[0])):\n",
    "        a[r][i] = 0\n",
    "        \n",
    "def nul_col(a, c):\n",
    "    for i in range(len(a)):\n",
    "        a[i][c] = 0\n",
    "\n",
    "def zero_matrix(a):\n",
    "    rows = []\n",
    "    cols = []\n",
    "    for i in range(len(a)):\n",
    "        for j in range(len(a[0])):\n",
    "            if a[i][j] == 0:\n",
    "                rows.append(i)\n",
    "                cols.append(j)\n",
    "    for r in rows:\n",
    "        nul_row(a, r)\n",
    "    for c in cols:\n",
    "        nul_col(a, c)\n",
    "    return a\n",
    "\n",
    "class Test(unittest.TestCase):\n",
    "    '''Test Cases'''\n",
    "    data = [\n",
    "        ([\n",
    "            [1, 2, 3, 4, 0],\n",
    "            [6, 0, 8, 9, 10],\n",
    "            [11, 12, 13, 14, 15],\n",
    "            [16, 0, 18, 19, 20],\n",
    "            [21, 22, 23, 24, 25]\n",
    "        ], [\n",
    "            [0, 0, 0, 0, 0],\n",
    "            [0, 0, 0, 0, 0],\n",
    "            [11, 0, 13, 14, 0],\n",
    "            [0, 0, 0, 0, 0],\n",
    "            [21, 0, 23, 24, 0]\n",
    "        ])\n",
    "    ]\n",
    "\n",
    "    def test_zero_matrix(self):\n",
    "        for [test_matrix, expected] in self.data:\n",
    "            actual = zero_matrix(test_matrix)\n",
    "            self.assertEqual(actual, expected)\n",
    "\n",
    "unittest.main(argv=['first-arg-is-ignored'], exit=False)"
   ]
  },
  {
   "cell_type": "markdown",
   "metadata": {},
   "source": [
    "<a id='1.9'></a>\n",
    "### 1.9 String Rotation\n",
    "Assume you have a method isSubstringwhich checks ifoneword isa substring of another. Given two strings, sl and s2, write code to check if s2 is a rotation of sl using only one call to isSubstring (e.g., \"waterbottle\" is a rotation of\"erbottlewat\"). "
   ]
  },
  {
   "cell_type": "code",
   "execution_count": 12,
   "metadata": {},
   "outputs": [
    {
     "name": "stderr",
     "output_type": "stream",
     "text": [
      ".\n",
      "----------------------------------------------------------------------\n",
      "Ran 1 test in 0.012s\n",
      "\n",
      "OK\n"
     ]
    },
    {
     "data": {
      "text/plain": [
       "<unittest.main.TestProgram at 0x2cde7973278>"
      ]
     },
     "execution_count": 12,
     "metadata": {},
     "output_type": "execute_result"
    }
   ],
   "source": [
    "def isSubstring(s, sub):\n",
    "    return s.find(sub) != -1\n",
    "\n",
    "def string_rotation(s1, s2):\n",
    "    if len(s1) == len(s2) != 0:\n",
    "        return isSubstring(s1 + s1, s2)\n",
    "    return False\n",
    "\n",
    "class Test(unittest.TestCase):\n",
    "    '''Test Cases'''\n",
    "    data = [\n",
    "        ('waterbottle', 'erbottlewat', True),\n",
    "        ('foo', 'bar', False),\n",
    "        ('foo', 'foofoo', False)\n",
    "    ]\n",
    "\n",
    "    def test_string_rotation(self):\n",
    "        for [s1, s2, expected] in self.data:\n",
    "            actual = string_rotation(s1, s2)\n",
    "            self.assertEqual(actual, expected)\n",
    "\n",
    "\n",
    "unittest.main(argv=['first-arg-is-ignored'], exit=False)"
   ]
  },
  {
   "cell_type": "markdown",
   "metadata": {},
   "source": [
    "<a id='2'></a>\n",
    "## 2. Linked Lists\n",
    "\n",
    "<a id='2.1'></a>\n",
    "### 2.1 Remove Duplicates\n",
    "\n",
    "Write code to remove duplicates from an unsorted linked list.\n",
    "\n",
    "FOLLOW UP\n",
    "\n",
    "How would you solve this problem if a temporary buffer is not allowed?"
   ]
  },
  {
   "cell_type": "code",
   "execution_count": 13,
   "metadata": {},
   "outputs": [
    {
     "name": "stderr",
     "output_type": "stream",
     "text": [
      ".\n",
      "----------------------------------------------------------------------\n",
      "Ran 1 test in 0.000s\n",
      "\n",
      "OK\n"
     ]
    },
    {
     "data": {
      "text/plain": [
       "<unittest.main.TestProgram at 0x2cde7982ac8>"
      ]
     },
     "execution_count": 13,
     "metadata": {},
     "output_type": "execute_result"
    }
   ],
   "source": [
    "class Node():\n",
    "    def __init__(self, data, next):\n",
    "        self.data = data\n",
    "        self.next = next\n",
    "        \n",
    "def remove_duplicates(head):\n",
    "    node = head\n",
    "    if node:\n",
    "        values = {node.data: True}\n",
    "        while node.next:\n",
    "            if node.next.data in values:\n",
    "                node.next = node.next.next\n",
    "            else:\n",
    "                values[node.next.data] = True\n",
    "                node = node.next\n",
    "    return head\n",
    "\n",
    "class Test(unittest.TestCase):\n",
    "    def test_remove_duplicates(self):\n",
    "        head = Node(1,Node(3,Node(3,Node(1,Node(5,None)))))\n",
    "        remove_duplicates(head)\n",
    "        self.assertEqual(head.data, 1)\n",
    "        self.assertEqual(head.next.data, 3)\n",
    "        self.assertEqual(head.next.next.data, 5)\n",
    "        self.assertEqual(head.next.next.next, None)\n",
    "        \n",
    "unittest.main(argv=['first-arg-is-ignored'], exit=False)"
   ]
  },
  {
   "cell_type": "code",
   "execution_count": 14,
   "metadata": {},
   "outputs": [
    {
     "name": "stderr",
     "output_type": "stream",
     "text": [
      ".\n",
      "----------------------------------------------------------------------\n",
      "Ran 1 test in 0.004s\n",
      "\n",
      "OK\n"
     ]
    },
    {
     "data": {
      "text/plain": [
       "<unittest.main.TestProgram at 0x2cde7982828>"
      ]
     },
     "execution_count": 14,
     "metadata": {},
     "output_type": "execute_result"
    }
   ],
   "source": [
    "class Node():\n",
    "    def __init__(self, data, next):\n",
    "        self.data = data\n",
    "        self.next = next\n",
    "        \n",
    "def remove_duplicates(head): # follow up\n",
    "    curr = head\n",
    "    if curr is None: return\n",
    "    while curr:\n",
    "        runner = curr\n",
    "        while runner.next:\n",
    "            if runner.next.data == curr.data:\n",
    "                runner.next = runner.next.next\n",
    "            else:\n",
    "                runner = runner.next\n",
    "        curr = curr.next\n",
    "    return head\n",
    "\n",
    "class Test(unittest.TestCase):\n",
    "    def test_remove_duplicates(self):\n",
    "        head = Node(1,Node(3,Node(3,Node(1,Node(5,None)))))\n",
    "        remove_duplicates(head)\n",
    "        self.assertEqual(head.data, 1)\n",
    "        self.assertEqual(head.next.data, 3)\n",
    "        self.assertEqual(head.next.next.data, 5)\n",
    "        self.assertEqual(head.next.next.next, None)\n",
    "        \n",
    "unittest.main(argv=['first-arg-is-ignored'], exit=False)"
   ]
  },
  {
   "cell_type": "markdown",
   "metadata": {},
   "source": [
    "<a id='2.2'></a>\n",
    "### 2.2 Return Kth to Last\n",
    "\n",
    "Implement an algorithm to find the kth to last element of a singly linked list. "
   ]
  },
  {
   "cell_type": "code",
   "execution_count": 15,
   "metadata": {},
   "outputs": [
    {
     "name": "stderr",
     "output_type": "stream",
     "text": [
      ".\n",
      "----------------------------------------------------------------------\n",
      "Ran 1 test in 0.002s\n",
      "\n",
      "OK\n"
     ]
    },
    {
     "data": {
      "text/plain": [
       "<unittest.main.TestProgram at 0x2cde7991390>"
      ]
     },
     "execution_count": 15,
     "metadata": {},
     "output_type": "execute_result"
    }
   ],
   "source": [
    "def kth_to_last(head, k):\n",
    "    runner = current = head\n",
    "    for i in range(k):\n",
    "        if runner is None:\n",
    "            return None\n",
    "        runner = runner.next\n",
    "    while runner:\n",
    "        current = current.next\n",
    "        runner = runner.next\n",
    "    return current\n",
    "\n",
    "class Node():\n",
    "    def __init__(self, data, next=None):\n",
    "        self.data, self.next = data, next\n",
    "\n",
    "class Test(unittest.TestCase):\n",
    "    def test_kth_to_last(self):\n",
    "        head = Node(1,Node(2,Node(3,Node(4,Node(5,Node(6,Node(7)))))))\n",
    "        self.assertEqual(None, kth_to_last(head, 0));\n",
    "        self.assertEqual(7, kth_to_last(head, 1).data);\n",
    "        self.assertEqual(4, kth_to_last(head, 4).data);\n",
    "        self.assertEqual(2, kth_to_last(head, 6).data);\n",
    "        self.assertEqual(1, kth_to_last(head, 7).data);\n",
    "        self.assertEqual(None, kth_to_last(head, 8));\n",
    "        \n",
    "unittest.main(argv=['first-arg-is-ignored'], exit=False)"
   ]
  },
  {
   "cell_type": "markdown",
   "metadata": {},
   "source": [
    "<a id='2.3'></a>\n",
    "### 2.3 Delete Middle Node\n",
    "\n",
    "Implement an algorithm to delete a node in the middle (i.e., any node but the first and last node, not necessarily the exact middle) of a singly linked list, given only access to that node. EXAMPLE lnput:the node c from the linked lista->b->c->d->e->f Result: nothing is returned, but the new linked list looks like a->b->d->e->f "
   ]
  },
  {
   "cell_type": "code",
   "execution_count": 16,
   "metadata": {},
   "outputs": [
    {
     "name": "stderr",
     "output_type": "stream",
     "text": [
      ".\n",
      "----------------------------------------------------------------------\n",
      "Ran 1 test in 0.003s\n",
      "\n",
      "OK\n"
     ]
    },
    {
     "data": {
      "text/plain": [
       "<unittest.main.TestProgram at 0x2cde79a9dd8>"
      ]
     },
     "execution_count": 16,
     "metadata": {},
     "output_type": "execute_result"
    }
   ],
   "source": [
    "def delete_middle(node):\n",
    "    node.data = node.next.data\n",
    "    node.next = node.next.next\n",
    "    \n",
    "class Node():\n",
    "    def __init__(self, data, next=None):\n",
    "        self.data, self.next = data, next\n",
    "\n",
    "class Test(unittest.TestCase):\n",
    "    def test_delete_middle(self):\n",
    "        head = Node(1,Node(2,Node(3,Node(4))))\n",
    "        delete_middle(head.next.next)\n",
    "        self.assertEqual(head.data, 1)\n",
    "        self.assertEqual(head.next.data, 2)\n",
    "        self.assertEqual(head.next.next.data, 4)\n",
    "\n",
    "unittest.main(argv=['first-arg-is-ignored'], exit=False)"
   ]
  },
  {
   "cell_type": "markdown",
   "metadata": {},
   "source": [
    "<a id='2.4'></a>\n",
    "### 2.4 Partition\n",
    "\n",
    "Write code to partition a linked list around a value x, such that all nodes less than x come before all nodes greater than or equal to x. If x is contained within the list, the values of x only need to be after the elements less than x (see below). The partition element x can appear anywhere in the \"right partition\"; it does not need to appear between the left and right partitions.\n",
    "\n",
    "EXAMPLE\n",
    "\n",
    "Input: 3 -> 5 -> 8 -> 5 -> 10 -> 2 -> 1 [partition= 5]\n",
    "\n",
    "Output: 3 -> 1 -> 2 -> 10 -> 5 -> 5 -> 8"
   ]
  },
  {
   "cell_type": "code",
   "execution_count": 17,
   "metadata": {},
   "outputs": [
    {
     "name": "stderr",
     "output_type": "stream",
     "text": [
      ".\n",
      "----------------------------------------------------------------------\n",
      "Ran 1 test in 0.002s\n",
      "\n",
      "OK\n"
     ]
    },
    {
     "data": {
      "text/plain": [
       "<unittest.main.TestProgram at 0x2cde79cdc88>"
      ]
     },
     "execution_count": 17,
     "metadata": {},
     "output_type": "execute_result"
    }
   ],
   "source": [
    "def partition(head, pivot):\n",
    "    a_head, a_tail = None, None\n",
    "    b_head, b_tail = None, None\n",
    "    node = head\n",
    "    while node:\n",
    "        if node.data < pivot:\n",
    "            if a_head:\n",
    "                a_tail.next, a_tail = node, node\n",
    "            else:\n",
    "                a_head, a_tail = node, node\n",
    "        else:\n",
    "            if b_head:\n",
    "                b_tail.next, b_tail = node, node\n",
    "            else:\n",
    "                b_head, b_tail = node, node\n",
    "        node = node.next\n",
    "    a_tail.next = b_head\n",
    "    return a_head\n",
    "            \n",
    "        \n",
    "class Node():\n",
    "    def __init__(self, data, next=None):\n",
    "        self.data, self.next = data, next\n",
    "  \n",
    "    def __str__(self):\n",
    "        string = str(self.data)\n",
    "        if self.next:\n",
    "            string += ',' + str(self.next)\n",
    "        return string\n",
    "\n",
    "class Test(unittest.TestCase):\n",
    "    def test_partition(self):\n",
    "        head1 = Node(7,Node(2,Node(9,Node(1,Node(6,Node(3,Node(8)))))))\n",
    "        head2 = partition(head1, 6)\n",
    "        self.assertEqual(str(head2), \"2,1,3,7,9,6,8\")\n",
    "        head3 = partition(head2, 7)\n",
    "        self.assertEqual(str(head3), \"2,1,3,6,7,9,8\")\n",
    "\n",
    "unittest.main(argv=['first-arg-is-ignored'], exit=False)"
   ]
  },
  {
   "cell_type": "markdown",
   "metadata": {},
   "source": [
    "<a id='2.5'></a>\n",
    "### 2.5 Sum Lists\n",
    "\n",
    "You have two numbers represented by a linked list, where each node contains a single digit. The digits are stored in reverse order, such that the 1 's digit is at the head of the list. Write a function that adds the two numbers and returns the sum as a linked list.\n",
    " \n",
    "EXAMPLE\n",
    "\n",
    "Input: (7-> 1 -> 6) + (5 -> 9 -> 2).That is, 617 + 295.\n",
    "\n",
    "Output: 2 -> 1 -> 9. That is, 912.\n",
    "\n",
    "FOLLOW UP\n",
    "\n",
    "Suppose the digits are stored in forward order. Repeat the above problem.\n",
    "\n",
    "EXAMPLE\n",
    "\n",
    "lnput:(6 -> 1 -> 7) + (2 -> 9 -> 5).That is, 617 + 295.\n",
    "\n",
    "Output: 9 -> 1 -> 2. That is, 912. "
   ]
  },
  {
   "cell_type": "code",
   "execution_count": 18,
   "metadata": {},
   "outputs": [
    {
     "name": "stderr",
     "output_type": "stream",
     "text": [
      "..\n",
      "----------------------------------------------------------------------\n",
      "Ran 2 tests in 0.008s\n",
      "\n",
      "OK\n"
     ]
    },
    {
     "data": {
      "text/plain": [
       "<unittest.main.TestProgram at 0x2cde79f89e8>"
      ]
     },
     "execution_count": 18,
     "metadata": {},
     "output_type": "execute_result"
    }
   ],
   "source": [
    "def sum_lists(n1, n2):\n",
    "    node1, node2 = n1, n2\n",
    "    carry = 0\n",
    "    result_head, result_node = None, None\n",
    "    while node1 or node2 or carry:\n",
    "        value = carry\n",
    "        if node1:\n",
    "            value += node1.data\n",
    "            node1 = node1.next\n",
    "        if node2:\n",
    "            value += node2.data\n",
    "            node2 = node2.next\n",
    "        if result_node:\n",
    "            result_node.next = Node(value % 10)\n",
    "            result_node = result_node.next\n",
    "        else:\n",
    "            result_node = Node(value % 10)\n",
    "            result_head = result_node\n",
    "        carry = value // 10\n",
    "    return result_head\n",
    "\n",
    "def sum_lists_forward(l1, l2):\n",
    "    n1 = n2 = ''\n",
    "    while l1:\n",
    "        n1 += str(l1.data)\n",
    "        l1 = l1.next\n",
    "    while l2:\n",
    "        n2 += str(l2.data)\n",
    "        l2 = l2.next\n",
    "    n3 = str(int(n1) + int(n2))\n",
    "    head = Node(int(n3[0]))\n",
    "    res = head\n",
    "    for i in range(1,len(n3)):\n",
    "        head.next = Node(int(n3[i]))\n",
    "        head = head.next\n",
    "    return res\n",
    "\n",
    "class Node():\n",
    "    def __init__(self, data, next=None):\n",
    "        self.data, self.next = data, next\n",
    "  \n",
    "    def __str__(self):\n",
    "        string = str(self.data)\n",
    "        if self.next:\n",
    "            string += ',' + str(self.next)\n",
    "        return string\n",
    "\n",
    "class Test(unittest.TestCase):\n",
    "    def test_sum_lists(self):\n",
    "        num1 = Node(1,Node(2,Node(3)))\n",
    "        num2 = Node(4,Node(9,Node(5)))\n",
    "        self.assertEqual(str(sum_lists(num1, num2)), \"5,1,9\")\n",
    "        num1 = Node(9,Node(2,Node(3,Node(4,Node(1)))))\n",
    "        num2 = Node(4,Node(9,Node(8)))\n",
    "        self.assertEqual(str(sum_lists(num1, num2)), \"3,2,2,5,1\")\n",
    "    def test_sum_lists_reverse(self):\n",
    "        num1 = Node(1,Node(2,Node(3)))\n",
    "        num2 = Node(4,Node(9,Node(5)))\n",
    "        self.assertEqual(str(sum_lists_forward(num1, num2)), \"6,1,8\")\n",
    "        num1 = Node(9,Node(2,Node(3,Node(4,Node(1)))))\n",
    "        num2 = Node(4,Node(9,Node(8)))\n",
    "        self.assertEqual(str(sum_lists_forward(num1, num2)), \"9,2,8,3,9\")\n",
    "    \n",
    "unittest.main(argv=['first-arg-is-ignored'], exit=False)"
   ]
  },
  {
   "cell_type": "markdown",
   "metadata": {},
   "source": [
    "<a id='2.6'></a>\n",
    "### 2.6 Palindrome\n",
    "\n",
    "Implement a function to check if a linked list is a palindrome."
   ]
  },
  {
   "cell_type": "code",
   "execution_count": 19,
   "metadata": {},
   "outputs": [
    {
     "name": "stderr",
     "output_type": "stream",
     "text": [
      ".\n",
      "----------------------------------------------------------------------\n",
      "Ran 1 test in 0.011s\n",
      "\n",
      "OK\n"
     ]
    },
    {
     "data": {
      "text/plain": [
       "<unittest.main.TestProgram at 0x2cde7991898>"
      ]
     },
     "execution_count": 19,
     "metadata": {},
     "output_type": "execute_result"
    }
   ],
   "source": [
    "def is_palindrome(head):\n",
    "    fast = slow = head\n",
    "    stack = []\n",
    "    while fast and fast.next:\n",
    "        stack.append(slow.value)\n",
    "        slow = slow.next\n",
    "        fast = fast.next.next\n",
    "    if fast:\n",
    "        slow = slow.next\n",
    "    while slow:\n",
    "        top = stack.pop()\n",
    "        if top != slow.value:\n",
    "            return False\n",
    "        slow = slow.next\n",
    "    return True\n",
    "\n",
    "class Node():\n",
    "    def __init__(self, data, next=None):\n",
    "        self.value, self.next = data, next\n",
    "\n",
    "    def __str__(self):\n",
    "        string = str(self.data)\n",
    "        if self.next:\n",
    "            string += ',' + str(self.next)\n",
    "        return string\n",
    "\n",
    "class Test(unittest.TestCase):\n",
    "    def test_palindrome(self):\n",
    "        list1 = Node(10)\n",
    "        self.assertTrue(is_palindrome(list1))\n",
    "        list2 = Node(10,Node(10))\n",
    "        self.assertTrue(is_palindrome(list2))\n",
    "        list3 = Node(10,Node(20))\n",
    "        self.assertFalse(is_palindrome(list3))\n",
    "        list4 = Node(10,Node(70,Node(30,Node(70,Node(10)))))\n",
    "        self.assertTrue(is_palindrome(list4))\n",
    "\n",
    "unittest.main(argv=['first-arg-is-ignored'], exit=False)"
   ]
  },
  {
   "cell_type": "markdown",
   "metadata": {},
   "source": [
    "<a id='2.7'></a>\n",
    "### 2.7 Intersection\n",
    "\n",
    "Given two (singly) linked lists, determine if the two lists intersect. Return the intersecting node. Note that the intersection is defined based on reference, not value. That is, if the kth node of the first linked list is the exact same node (by reference) as the jth node of the second linked list, then they are intersecting."
   ]
  },
  {
   "cell_type": "code",
   "execution_count": 20,
   "metadata": {},
   "outputs": [
    {
     "name": "stderr",
     "output_type": "stream",
     "text": [
      ".\n",
      "----------------------------------------------------------------------\n",
      "Ran 1 test in 0.003s\n",
      "\n",
      "OK\n"
     ]
    },
    {
     "data": {
      "text/plain": [
       "<unittest.main.TestProgram at 0x2cde79aaf28>"
      ]
     },
     "execution_count": 20,
     "metadata": {},
     "output_type": "execute_result"
    }
   ],
   "source": [
    "def intersection(head1, head2):\n",
    "    nodes = {}\n",
    "    node = head1\n",
    "    while node:\n",
    "        nodes[node] = True\n",
    "        node = node.next\n",
    "    node = head2\n",
    "    while node:\n",
    "        if node in nodes:\n",
    "            return node\n",
    "        node = node.next\n",
    "    return None\n",
    "\n",
    "class Node():\n",
    "    def __init__(self, data, next=None):\n",
    "        self.value, self.next = data, next\n",
    "\n",
    "    def __str__(self):\n",
    "        string = str(self.data)\n",
    "        if self.next:\n",
    "            string += ',' + str(self.next)\n",
    "        return string\n",
    "    \n",
    "class Test(unittest.TestCase):\n",
    "    def test_intersection(self):\n",
    "        head1 = Node(10,Node(20,Node(30)))\n",
    "        head2 = Node(20,Node(30,Node(40)))\n",
    "        self.assertEqual(intersection(head1, head2), None)\n",
    "        node = Node(70,Node(80))\n",
    "        head3 = Node(50,Node(20,node))\n",
    "        head4 = Node(60,Node(90,Node(10,node)))\n",
    "        self.assertEqual(intersection(head3, head4), node)\n",
    "        \n",
    "unittest.main(argv=['first-arg-is-ignored'], exit=False)"
   ]
  },
  {
   "cell_type": "markdown",
   "metadata": {},
   "source": [
    "<a id='2.8'></a>\n",
    "### 2.8 Loop Detection\n",
    "\n",
    "Given a circular linked list, implement an algorithm that returns the node at the beginning of the loop\n",
    "\n",
    "DEFINITION\n",
    "\n",
    "Circular linked list: A (corrupt) linked list in which a node's next pointer points to an earlier node, so as to make a loop in the linked list.\n",
    "\n",
    "EXAMPLE\n",
    "\n",
    "Input: A -> B -> C -> D -> E -> C [the same C as earlier]\n",
    "\n",
    "Output: C"
   ]
  },
  {
   "cell_type": "code",
   "execution_count": 21,
   "metadata": {},
   "outputs": [
    {
     "name": "stderr",
     "output_type": "stream",
     "text": [
      ".\n",
      "----------------------------------------------------------------------\n",
      "Ran 1 test in 0.010s\n",
      "\n",
      "OK\n"
     ]
    },
    {
     "data": {
      "text/plain": [
       "<unittest.main.TestProgram at 0x2cde79cd908>"
      ]
     },
     "execution_count": 21,
     "metadata": {},
     "output_type": "execute_result"
    }
   ],
   "source": [
    "def detect_cycle(head):\n",
    "    fast = slow = head\n",
    "\n",
    "    while fast and fast.next:\n",
    "        fast = fast.next.next\n",
    "        slow = slow.next\n",
    "        if fast is slow:\n",
    "            break\n",
    "\n",
    "    if fast is None or fast.next is None:\n",
    "        return None\n",
    "\n",
    "    slow = head\n",
    "    while fast is not slow:\n",
    "        fast = fast.next\n",
    "        slow = slow.next\n",
    "\n",
    "    return fast\n",
    "\n",
    "class Test(unittest.TestCase):\n",
    "    def test_detect_cycle(self):\n",
    "        head1 = Node(100,Node(200,Node(300)))\n",
    "        self.assertEqual(detect_cycle(head1), None)\n",
    "        node1 = Node(600)\n",
    "        node2 = Node(700,Node(800,Node(900,node1)))\n",
    "        node1.next = node2\n",
    "        head2 = Node(500,node1)\n",
    "        self.assertEqual(detect_cycle(head2), node1)\n",
    "        \n",
    "unittest.main(argv=['first-arg-is-ignored'], exit=False)"
   ]
  },
  {
   "cell_type": "markdown",
   "metadata": {},
   "source": [
    "<a id='3'></a>\n",
    "## 3. Stacks and Queues\n",
    "\n",
    "<a id='3.1'></a>\n",
    "### 3.1 Three in One\n",
    " Describe how you could use a single array to implement three stacks. "
   ]
  },
  {
   "cell_type": "code",
   "execution_count": 22,
   "metadata": {},
   "outputs": [
    {
     "name": "stderr",
     "output_type": "stream",
     "text": [
      ".\n",
      "----------------------------------------------------------------------\n",
      "Ran 1 test in 0.016s\n",
      "\n",
      "OK\n"
     ]
    },
    {
     "data": {
      "text/plain": [
       "<unittest.main.TestProgram at 0x2cde79f57b8>"
      ]
     },
     "execution_count": 22,
     "metadata": {},
     "output_type": "execute_result"
    }
   ],
   "source": [
    "class ThreeStacks():\n",
    "    def __init__(self):\n",
    "        self.array = [None, None, None]\n",
    "        self.current = [0, 1, 2]\n",
    "        \n",
    "    def push(self, item, stack_number):\n",
    "        if stack_number not in [0, 1, 2]:\n",
    "            raise Exception(\"Bad stack number\")\n",
    "        while len(self.array) <= self.current[stack_number]:\n",
    "            self.array += [None] * len(self.array)\n",
    "        self.array[self.current[stack_number]] = item\n",
    "        self.current[stack_number] += 3\n",
    "        \n",
    "    def pop(self, stack_number):\n",
    "        if stack_number not in [0, 1, 2]:\n",
    "            raise Exception(\"Bad stack number\")\n",
    "        if self.current[stack_number] > 3:\n",
    "            self.current[stack_number] -= 3\n",
    "        item = self.array[self.current[stack_number]]\n",
    "        self.array[self.current[stack_number]] = None\n",
    "        return item\n",
    "    \n",
    "class Test(unittest.TestCase):\n",
    "    def test_three_stacks(self):\n",
    "        three_stacks = ThreeStacks()\n",
    "        three_stacks = ThreeStacks()\n",
    "        three_stacks = ThreeStacks()\n",
    "        three_stacks.push(101, 0)\n",
    "        three_stacks.push(102, 0)\n",
    "        three_stacks.push(103, 0)\n",
    "        three_stacks.push(201, 1)\n",
    "        self.assertEqual(three_stacks.pop(0), 103)\n",
    "        self.assertEqual(three_stacks.pop(1), 201)\n",
    "        self.assertEqual(three_stacks.pop(1), None)\n",
    "        self.assertEqual(three_stacks.pop(2), None)\n",
    "        three_stacks.push(301, 2)\n",
    "        three_stacks.push(302, 2)\n",
    "        self.assertEqual(three_stacks.pop(2), 302)\n",
    "        self.assertEqual(three_stacks.pop(2), 301)\n",
    "        self.assertEqual(three_stacks.pop(2), None)\n",
    "\n",
    "unittest.main(argv=['first-arg-is-ignored'], exit=False)"
   ]
  },
  {
   "cell_type": "markdown",
   "metadata": {},
   "source": [
    "<a id='3.2'></a>\n",
    "### 3.2 Stack Min\n",
    "How would you design a stack which, in addition to push and pop, has a function min which returns the minimum element? Push, pop and min should all operate in 0(1) time. "
   ]
  },
  {
   "cell_type": "code",
   "execution_count": 23,
   "metadata": {},
   "outputs": [
    {
     "name": "stderr",
     "output_type": "stream",
     "text": [
      ".\n",
      "----------------------------------------------------------------------\n",
      "Ran 1 test in 0.006s\n",
      "\n",
      "OK\n"
     ]
    },
    {
     "data": {
      "text/plain": [
       "<unittest.main.TestProgram at 0x2cde79f5278>"
      ]
     },
     "execution_count": 23,
     "metadata": {},
     "output_type": "execute_result"
    }
   ],
   "source": [
    "class MinStack():\n",
    "    def __init__(self):\n",
    "        self.stack = []\n",
    "        self.mins = []\n",
    "        \n",
    "    def push(self, item):\n",
    "        if len(self.mins) > 0 and self.mins[-1] < item:\n",
    "            self.mins.append(self.mins[-1])\n",
    "        else:\n",
    "            self.mins.append(item)\n",
    "        self.stack.append(item)\n",
    "        \n",
    "    def pop(self):\n",
    "        if len(self.stack) == 0:\n",
    "            return None\n",
    "        self.mins.pop()\n",
    "        return self.stack.pop()\n",
    "    \n",
    "    def min(self):\n",
    "        if len(self.mins) == 0:\n",
    "            return None\n",
    "        return self.mins[-1]\n",
    "    \n",
    "class Test(unittest.TestCase):\n",
    "    def test_min_stack(self):\n",
    "        min_stack = MinStack()\n",
    "        self.assertEqual(min_stack.min(), None)\n",
    "        min_stack.push(7)\n",
    "        self.assertEqual(min_stack.min(), 7)\n",
    "        min_stack.push(6)\n",
    "        min_stack.push(5)\n",
    "        self.assertEqual(min_stack.min(), 5)\n",
    "        min_stack.push(10)\n",
    "        self.assertEqual(min_stack.min(), 5)\n",
    "        self.assertEqual(min_stack.pop(), 10)\n",
    "        self.assertEqual(min_stack.pop(), 5)\n",
    "        self.assertEqual(min_stack.min(), 6)\n",
    "        self.assertEqual(min_stack.pop(), 6)\n",
    "        self.assertEqual(min_stack.pop(), 7)\n",
    "        self.assertEqual(min_stack.min(), None)\n",
    "        \n",
    "unittest.main(argv=['first-arg-is-ignored'], exit=False)"
   ]
  },
  {
   "cell_type": "markdown",
   "metadata": {},
   "source": [
    "<a id=3.3></a>\n",
    "### 3.3 Stack of Plates\n",
    "Imagine a (literal) stack of plates. If the stack gets too high, it might topple. Therefore, in real life, we would likely start a new stack when the previous stack exceeds some threshold. Implement a data structure `SetOfStacks` that mimics this. `SetOfStacks` should be composed of several stacks and should create a new stack once the previous one exceeds capacity. `SetOfStacks.push()` and `SetOfStacks.pop()` should behave identically to a single stack (that is, `pop()` should return the same values as it would if there were just a single stack).\n",
    "\n",
    "FOLLOW UP Implement a function `popAt( int index)` which performs a pop operation on a specific sub-stack. "
   ]
  },
  {
   "cell_type": "code",
   "execution_count": 24,
   "metadata": {},
   "outputs": [
    {
     "name": "stderr",
     "output_type": "stream",
     "text": [
      ".\n",
      "----------------------------------------------------------------------\n",
      "Ran 1 test in 0.000s\n",
      "\n",
      "OK\n"
     ]
    },
    {
     "data": {
      "text/plain": [
       "<unittest.main.TestProgram at 0x2cde7a09828>"
      ]
     },
     "execution_count": 24,
     "metadata": {},
     "output_type": "execute_result"
    }
   ],
   "source": [
    "class MultiStack():\n",
    "    def __init__(self, capacity):\n",
    "        self.capacity = capacity\n",
    "        self.stacks = []\n",
    "        \n",
    "    def push(self, item):\n",
    "        if len(self.stacks) and len(self.stacks[-1]) < self.capacity:\n",
    "            self.stacks[-1].append(item)\n",
    "        else:\n",
    "            self.stacks.append([item])\n",
    "            \n",
    "    def pop(self):\n",
    "        while len(self.stacks) and len(self.stacks[-1]) == 0:\n",
    "            self.stacks.pop()\n",
    "        if len(self.stacks) == 0:\n",
    "            return None\n",
    "        item = self.stacks[-1].pop()\n",
    "        if len(self.stacks[-1]) == 0:\n",
    "            self.stacks.pop()\n",
    "        return item\n",
    "    \n",
    "    def pop_at(self, stack_number):\n",
    "        if stack_number < 0 or len(self.stacks) <= stack_number:\n",
    "            return None\n",
    "        if len(self.stacks[stack_number]) == 0:\n",
    "            return None\n",
    "        return self.stacks[stack_number].pop()\n",
    "    \n",
    "class Test(unittest.TestCase):\n",
    "    def test_multi_stack(self):\n",
    "        stack = MultiStack(3)\n",
    "        stack.push(11)\n",
    "        stack.push(22)\n",
    "        stack.push(33)\n",
    "        stack.push(44)\n",
    "        stack.push(55)\n",
    "        stack.push(66)\n",
    "        stack.push(77)\n",
    "        stack.push(88)\n",
    "        self.assertEqual(stack.pop(), 88)\n",
    "        self.assertEqual(stack.pop_at(1), 66)\n",
    "        self.assertEqual(stack.pop_at(0), 33)\n",
    "        self.assertEqual(stack.pop_at(1), 55)\n",
    "        self.assertEqual(stack.pop_at(1), 44)\n",
    "        self.assertEqual(stack.pop_at(1), None)\n",
    "        stack.push(99)\n",
    "        self.assertEqual(stack.pop(), 99)\n",
    "        self.assertEqual(stack.pop(), 77)\n",
    "        self.assertEqual(stack.pop(), 22)\n",
    "        self.assertEqual(stack.pop(), 11)\n",
    "        self.assertEqual(stack.pop(), None)\n",
    "        \n",
    "unittest.main(argv=['first-arg-is-ignored'], exit=False)"
   ]
  },
  {
   "cell_type": "markdown",
   "metadata": {},
   "source": [
    "<a id=3.4></a>\n",
    "### 3.4 Queue via stacks\n",
    "\n",
    "Queue via Stacks: Implement a MyQueue class which implements a queue using two stacks."
   ]
  },
  {
   "cell_type": "code",
   "execution_count": 25,
   "metadata": {},
   "outputs": [
    {
     "name": "stderr",
     "output_type": "stream",
     "text": [
      ".\n",
      "----------------------------------------------------------------------\n",
      "Ran 1 test in 0.004s\n",
      "\n",
      "OK\n"
     ]
    },
    {
     "data": {
      "text/plain": [
       "<unittest.main.TestProgram at 0x2cde79eb160>"
      ]
     },
     "execution_count": 25,
     "metadata": {},
     "output_type": "execute_result"
    }
   ],
   "source": [
    "class QueueViaStacks():\n",
    "    def __init__(self):\n",
    "        self.in_stack = []\n",
    "        self.out_stack = []\n",
    "        \n",
    "    def add(self, item):\n",
    "        self.in_stack.append(item)\n",
    "        \n",
    "    def remove(self):\n",
    "        if len(self.out_stack) == 0 and len(self.in_stack) == 0:\n",
    "            return None\n",
    "        if len(self.out_stack) == 0:\n",
    "            while len(self.in_stack) > 0:\n",
    "                self.out_stack.append(self.in_stack.pop())\n",
    "        return self.out_stack.pop()\n",
    "    \n",
    "class Test(unittest.TestCase):\n",
    "    def test_queue_via_stacks(self):\n",
    "        queue = QueueViaStacks()\n",
    "        queue.add(11)\n",
    "        queue.add(22)\n",
    "        queue.add(33)\n",
    "        self.assertEqual(queue.remove(), 11)\n",
    "        queue.add(44)\n",
    "        queue.add(55)\n",
    "        queue.add(66)\n",
    "        self.assertEqual(queue.remove(), 22)\n",
    "        self.assertEqual(queue.remove(), 33)\n",
    "        self.assertEqual(queue.remove(), 44)\n",
    "        self.assertEqual(queue.remove(), 55)\n",
    "        queue.add(77)\n",
    "        self.assertEqual(queue.remove(), 66)\n",
    "        self.assertEqual(queue.remove(), 77)\n",
    "        self.assertEqual(queue.remove(), None)\n",
    "\n",
    "unittest.main(argv=['first-arg-is-ignored'], exit=False)"
   ]
  },
  {
   "cell_type": "markdown",
   "metadata": {},
   "source": [
    "<a id=3.5></a>\n",
    "### 3.5 Sort Stack\n",
    "\n",
    "Write a program to sort a stack such that the smallest items are on the top. You can use an additional temporary stack, but you may not copy the elements into any other data structure (such as an array). The stack supports the following operations: push, pop, peek, and is Empty. "
   ]
  },
  {
   "cell_type": "code",
   "execution_count": 26,
   "metadata": {},
   "outputs": [
    {
     "name": "stderr",
     "output_type": "stream",
     "text": [
      ".\n",
      "----------------------------------------------------------------------\n",
      "Ran 1 test in 0.025s\n",
      "\n",
      "OK\n"
     ]
    },
    {
     "data": {
      "text/plain": [
       "<unittest.main.TestProgram at 0x2cde7a070f0>"
      ]
     },
     "execution_count": 26,
     "metadata": {},
     "output_type": "execute_result"
    }
   ],
   "source": [
    "def sort_stack(stack):\n",
    "    temp = Stack()\n",
    "    previous = stack.pop()\n",
    "    current = stack.pop()\n",
    "    while current:\n",
    "        if current < previous:\n",
    "            temp.push(current)\n",
    "        else:\n",
    "            temp.push(previous)\n",
    "            previous = current\n",
    "        current = stack.pop()\n",
    "    is_sorted = True\n",
    "    current = temp.pop()\n",
    "    while current:\n",
    "        if current > previous:\n",
    "            is_sorted = False\n",
    "            stack.push(current)\n",
    "        else:\n",
    "            stack.push(previous)\n",
    "            previous = current\n",
    "        current = temp.pop()\n",
    "    stack.push(previous)\n",
    "    if is_sorted:\n",
    "        return stack\n",
    "    return sort_stack(stack)\n",
    "\n",
    "class Stack():\n",
    "    def __init__(self):\n",
    "        self.top = None\n",
    "  \n",
    "    def __str__(self):\n",
    "        return str(self.top)\n",
    "  \n",
    "    def push(self, item):\n",
    "        self.top = current(item, self.top)\n",
    "  \n",
    "    def pop(self):\n",
    "        if not self.top:\n",
    "            return None\n",
    "        item = self.top\n",
    "        self.top = self.top.next\n",
    "        return item.data\n",
    "\n",
    "class current():\n",
    "    def __init__(self, data=None, next=None):\n",
    "        self.data, self.next = data, next\n",
    "  \n",
    "    def __str__(self):\n",
    "        return str(self and self.data) + ',' + str(self and self.next)\n",
    "    \n",
    "class Test(unittest.TestCase):\n",
    "    def test_sort_stack(self):\n",
    "        self.assertEqual(str(sort_stack(Stack())), \"None,None\")\n",
    "        stack = Stack()\n",
    "        stack.push(10)\n",
    "        stack.push(30)\n",
    "        stack.push(70)\n",
    "        stack.push(40)\n",
    "        stack.push(80)\n",
    "        stack.push(20)\n",
    "        stack.push(90)\n",
    "        stack.push(50)\n",
    "        stack.push(60)\n",
    "        self.assertEqual(str(stack), \"60,50,90,20,80,40,70,30,10,None\")\n",
    "        self.assertEqual(str(sort_stack(stack)), \"10,20,30,40,50,60,70,80,90,None\")\n",
    "\n",
    "unittest.main(argv=['first-arg-is-ignored'], exit=False)"
   ]
  },
  {
   "cell_type": "markdown",
   "metadata": {},
   "source": [
    "<a id=3.6></a>\n",
    "### 3.6 Animal Shelter\n",
    "An animal shelter, which holds only dogs and cats, operates on a strictly\"first in, first out\" basis. People must adopt either the \"oldest\" (based on arrival time) of all animals at the shelter, or they can select whether they would prefer a dog or a cat (and will receive the oldest animal of that type). They cannot select which specific animal they would like. Create the data structures to maintain this system and implement operations such as enqueue, dequeueAny, dequeueDog, and dequeueCat. You may use the built-in Linked list data structure. "
   ]
  },
  {
   "cell_type": "code",
   "execution_count": 27,
   "metadata": {},
   "outputs": [
    {
     "name": "stderr",
     "output_type": "stream",
     "text": [
      ".\n",
      "----------------------------------------------------------------------\n",
      "Ran 1 test in 0.002s\n",
      "\n",
      "OK\n"
     ]
    },
    {
     "data": {
      "text/plain": [
       "<unittest.main.TestProgram at 0x2cde79eb080>"
      ]
     },
     "execution_count": 27,
     "metadata": {},
     "output_type": "execute_result"
    }
   ],
   "source": [
    "class AnimalShelter():\n",
    "    def __init__(self):\n",
    "        self.cats = []\n",
    "        self.dogs = []\n",
    "  \n",
    "    def enqueue(self, animal):\n",
    "        if animal.__class__ == Cat:\n",
    "            self.cats.append(animal)\n",
    "        else:\n",
    "            self.dogs.append(animal)\n",
    "  \n",
    "    def dequeueAny(self):\n",
    "        if len(self.cats):\n",
    "            return self.dequeueCat()\n",
    "        return self.dequeueDog()\n",
    "  \n",
    "    def dequeueCat(self):\n",
    "        if len(self.cats) == 0:\n",
    "            return None\n",
    "        cat = self.cats[0]\n",
    "        self.cats = self.cats[1:]\n",
    "        return cat\n",
    "    \n",
    "    def dequeueDog(self):\n",
    "        if len(self.dogs) == 0:\n",
    "            return None\n",
    "        dog = self.dogs[0]\n",
    "        self.dogs = self.dogs[1:]\n",
    "        return dog\n",
    "\n",
    "class Animal():\n",
    "    def __init__(self, name):\n",
    "        self.name = name\n",
    "    def __str__(self):\n",
    "        return self.name\n",
    "    \n",
    "class Cat(Animal): pass\n",
    "class Dog(Animal): pass\n",
    "\n",
    "class Test(unittest.TestCase):\n",
    "    def test_animal_shelter(self):\n",
    "        shelter = AnimalShelter()\n",
    "        shelter.enqueue(Cat(\"Hanzack\"))\n",
    "        shelter.enqueue(Dog(\"Pluto\"))\n",
    "        shelter.enqueue(Cat(\"Garfield\"))\n",
    "        shelter.enqueue(Cat(\"Tony\"))\n",
    "        shelter.enqueue(Dog(\"Clifford\"))\n",
    "        shelter.enqueue(Dog(\"Blue\"))\n",
    "        self.assertEqual(str(shelter.dequeueAny()), \"Hanzack\")\n",
    "        self.assertEqual(str(shelter.dequeueAny()), \"Garfield\")\n",
    "        self.assertEqual(str(shelter.dequeueDog()), \"Pluto\")\n",
    "        self.assertEqual(str(shelter.dequeueDog()), \"Clifford\")\n",
    "        self.assertEqual(str(shelter.dequeueCat()), \"Tony\")\n",
    "        self.assertEqual(str(shelter.dequeueCat()), \"None\")\n",
    "        self.assertEqual(str(shelter.dequeueAny()), \"Blue\")\n",
    "        self.assertEqual(str(shelter.dequeueAny()), \"None\")\n",
    "\n",
    "unittest.main(argv=['first-arg-is-ignored'], exit=False)"
   ]
  }
 ],
 "metadata": {
  "kernelspec": {
   "display_name": "Python 3",
   "language": "python",
   "name": "python3"
  },
  "language_info": {
   "codemirror_mode": {
    "name": "ipython",
    "version": 3
   },
   "file_extension": ".py",
   "mimetype": "text/x-python",
   "name": "python",
   "nbconvert_exporter": "python",
   "pygments_lexer": "ipython3",
   "version": "3.6.4"
  }
 },
 "nbformat": 4,
 "nbformat_minor": 2
}
