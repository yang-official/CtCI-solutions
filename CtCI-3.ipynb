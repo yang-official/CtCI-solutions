{
 "cells": [
  {
   "cell_type": "markdown",
   "metadata": {},
   "source": [
    "# Cracking the Coding Interview 6th Edition Solutions Manual in Python\n",
    "\n",
    "## Part 3\n",
    "\n",
    "## Contents\n",
    "\n",
    "1. Arrays and Strings\n",
    "2. Linked Lists\n",
    "3. Stacks and Queues\n",
    "4. Trees and Graphs\n",
    "5. Bit Manipulation\n",
    "6. Math and Logic Puzzles\n",
    "7. [Object-Oriented Design](#7)\n",
    "    - 7.1 [Deck of Cards](#7.1)\n",
    "    - 7.2 [Call Center](#7.2)\n",
    "    - 7.3 [Jukebox](#7.3)\n",
    "    - 7.4 [Parking Lot](#7.4)\n",
    "    - 7.5 [Online Book Reader](#7.5)\n",
    "    - 7.6 [Jigsaw](#7.6)\n",
    "    - 7.7 [Chat Server](#7.7)\n",
    "    - 7.8 [Othello](#7.8)\n",
    "    - 7.9 [Circular Array](#7.9)\n",
    "    - 7.10 [Minesweeper](#7.10)\n",
    "    - 7.11 [File System](#7.11)\n",
    "    - 7.12 [Hash Table](#7.12)\n",
    "8. [Recursion and Dynamic Programming](#8)\n",
    "    - 8.1 [Triple Step](#8.1)\n",
    "    - 8.2 [Robot in a Grid](#8.2)\n",
    "    - 8.3 [Magic Index](#8.3)\n",
    "    - 8.4 [Power Set](#8.4)\n",
    "    - 8.5 [Recursive Multiply](#8.5)\n",
    "    - 8.6 [Towers of Hanoi](#8.6)\n",
    "    - 8.7 [Permutations without Dups](#8.7)\n",
    "    - 8.8 [Permutations with Dups](#8.8)\n",
    "    - 8.9 [Parens](#8.9)\n",
    "    - 8.10 [Paint Fill](#8.10)\n",
    "    - 8.11 [Coins](#8.11)\n",
    "    - 8.12 [Eight Queens](#8.12)\n",
    "    - 8.13 [Stack of Boxes](#8.13)\n",
    "    - 8.14 [Boolean Evaluation](#8.14)\n",
    "9. [System Design and Scalability](#9)\n",
    "    - 9.1 [Stock Data](#9.1)\n",
    "    - 9.2 [Social Network](#9.2)\n",
    "    - 9.3 [Web Crawler](#9.3)\n",
    "    - 9.4 [Duplicate URLs](#9.4)\n",
    "    - 9.5 [Cache](#9.5)\n",
    "    - 9.6 [Sales Rank](#9.6)\n",
    "    - 9.7 [Personal Financial Manager](#9.7)\n",
    "    - 9.8 [Pasatebin](#9.8)\n",
    "10. [Sorting and Searching](#10)\n",
    "    - 10.1 [Sorted Merge](#10.1)\n",
    "    - 10.2 [Group Anagrams](#10.2)\n",
    "    - 10.3 [Search in Rotated Array](#10.3)\n",
    "    - 10.4 [Sorted Search, No Size](#10.4)\n",
    "    - 10.5 [Sparse Search](#10.5)\n",
    "    - 10.6 [Sort Big File](#10.6)\n",
    "    - 10.7 [Missing Int](#10.7)\n",
    "    - 10.8 [Find Duplicates](#10.8)\n",
    "    - 10.9 [Sorted Matrix Search](#10.9)\n",
    "    - 10.10 [Rank from Stream](#10.10)\n",
    "    - 10.11 [Peaks and Valleys](#10.11)\n",
    "11. [Testing](#11)\n",
    "    - 11.1 [Mistake](#11.1)\n",
    "    - 11.2 [Random Crashes](#11.2)\n",
    "    - 11.3 [Chess Test](#11.3)\n",
    "    - 11.4 [No Test Tools](#11.4)\n",
    "    - 11.5 [Test a Pen](#11.5)\n",
    "    - 11.6 [Test an ATM](#11.6)\n",
    "12. C and C++\n",
    "13. Java\n",
    "14. Databases\n",
    "15. Threads and Locking\n",
    "16. Moderate\n",
    "17. Hard"
   ]
  },
  {
   "cell_type": "code",
   "execution_count": 1,
   "metadata": {},
   "outputs": [],
   "source": [
    "import unittest"
   ]
  },
  {
   "cell_type": "markdown",
   "metadata": {},
   "source": [
    "<a id='7'></a>\n",
    "## 7. Object Oriented Design\n",
    "\n",
    "<a id='7.1'></a>\n",
    "### 7.1 Deck of Cards\n",
    "\n",
    "Design the data structures for a generic deck of cards. Explain how you would subclass the data structures to implement blackjack."
   ]
  },
  {
   "cell_type": "code",
   "execution_count": 2,
   "metadata": {},
   "outputs": [
    {
     "name": "stderr",
     "output_type": "stream",
     "text": [
      "..\n",
      "----------------------------------------------------------------------\n",
      "Ran 2 tests in 0.006s\n",
      "\n",
      "OK\n"
     ]
    },
    {
     "data": {
      "text/plain": [
       "<unittest.main.TestProgram at 0x2154267fac8>"
      ]
     },
     "execution_count": 2,
     "metadata": {},
     "output_type": "execute_result"
    }
   ],
   "source": [
    "class Card():\n",
    "    def __init__(self, number, suit):\n",
    "        self.number = number\n",
    "        self.suit = suit\n",
    "\n",
    "class CardDeck():\n",
    "    def __init__(self, cards):\n",
    "        if cards:\n",
    "            self.cards = cards\n",
    "        else:\n",
    "            self.cards = []\n",
    "\n",
    "    def shuffle(self):\n",
    "        for i in range(len(self.cards)):\n",
    "            o = random.randint(i)\n",
    "            self.cards[i], self.cards[o] = self.cards[o], self.cards[i]\n",
    "  \n",
    "    def draw_card(self):\n",
    "        return self.cards.pop()\n",
    "\n",
    "class BlackjackHand(CardDeck):\n",
    "    def value(self):\n",
    "        value, aces = 0, 0\n",
    "        for card in self.cards:\n",
    "            value += min(card.number, 10)\n",
    "            aces += 1\n",
    "        while value <= 11:\n",
    "            if aces:\n",
    "                value += 10\n",
    "                aces -= 1\n",
    "        return value\n",
    "\n",
    "class Test(unittest.TestCase):\n",
    "    def test_card_deck(self):\n",
    "        deck = CardDeck([Card(2, \"Hearts\"), Card(4, \"Clubs\")])\n",
    "        self.assertEqual(deck.draw_card().suit, \"Clubs\")\n",
    "\n",
    "    def test_blackjack_hand(self):\n",
    "        hand = BlackjackHand([Card(5,\"Diamonds\"), Card(7,\"Clubs\")])\n",
    "        self.assertEqual(hand.value(), 12)\n",
    "        hand = BlackjackHand([Card(5,\"Diamonds\"), Card(1,\"Clubs\")])\n",
    "        self.assertEqual(hand.value(), 16)\n",
    "        hand = BlackjackHand([Card(12,\"Diamonds\"),Card(1,\"Clubs\")])\n",
    "        self.assertEqual(hand.value(), 21)\n",
    "        hand = BlackjackHand([Card(12,\"Diamonds\"),Card(1,\"Clubs\"),Card(1,\"Hearts\")])\n",
    "        self.assertEqual(hand.value(), 12)\n",
    "\n",
    "unittest.main(argv=['first-arg-is-ignored'], exit=False)"
   ]
  },
  {
   "cell_type": "markdown",
   "metadata": {},
   "source": [
    "<a id='7.2'></a>\n",
    "### 7.2 Call Center\n",
    "Imagine you have a call center with three levels of employees: respondent, manager, and director. An incoming telephone call must be first allocated to a respondent who is free. If the respondent can't handle the call, he or she must escalate the call to a manager. If the manager is not free or not able to handle it, then the call should be escalated to a director. Design the classes and data structures for this problem. Implement a method `dispatchCall()` which assigns a call to the first available employee."
   ]
  },
  {
   "cell_type": "code",
   "execution_count": 3,
   "metadata": {},
   "outputs": [
    {
     "name": "stderr",
     "output_type": "stream",
     "text": [
      ".\n",
      "----------------------------------------------------------------------\n",
      "Ran 1 test in 0.000s\n",
      "\n",
      "OK\n"
     ]
    },
    {
     "data": {
      "text/plain": [
       "<unittest.main.TestProgram at 0x215426b6b70>"
      ]
     },
     "execution_count": 3,
     "metadata": {},
     "output_type": "execute_result"
    }
   ],
   "source": [
    "class CallCenter():\n",
    "    def __init__(self, respondents, managers, director):\n",
    "        self.respondents = respondents\n",
    "        self.managers = managers\n",
    "        self.director = director\n",
    "        self.respondent_queue = []\n",
    "        self.call_queue = []\n",
    "        for respondent in respondents:\n",
    "            respondent.callcenter = self\n",
    "            if not respondent.call:\n",
    "                self.respondent_queue.append(respondent)\n",
    "  \n",
    "    def route_respondent(self, respondent):\n",
    "        if len(self.call_queue):\n",
    "            respondent.take_call(self.call_queue.pop(0))\n",
    "        else:\n",
    "            self.respondent_queue.append(respondent)\n",
    "  \n",
    "    def route_call(self, call):\n",
    "        if len(self.respondent_queue):\n",
    "            self.respondent_queue.pop(0).take_call(call)\n",
    "        else:\n",
    "            self.call_queue.append(call)\n",
    "\n",
    "class Call():\n",
    "    def __init__(self, issue):\n",
    "        self.issue = issue\n",
    "        self.employee = None\n",
    "\n",
    "    def resolve(self, handled):\n",
    "        if handled:\n",
    "            self.issue = None\n",
    "        self.employee.finish_call(handled)\n",
    "    \n",
    "    def apologize_and_hangup(self):\n",
    "        self.employee = None\n",
    "\n",
    "class Employee(object):\n",
    "    def __init__(self, name, manager):\n",
    "        self.name, self.manager = name, manager\n",
    "        self.call = None\n",
    "\n",
    "    def take_call(self, call):\n",
    "        if self.call:\n",
    "            self.escalate(call)\n",
    "        else:\n",
    "            self.call = call\n",
    "            self.call.employee = self\n",
    "  \n",
    "    def escalate(self, call):\n",
    "        if self.manager:\n",
    "            self.manager.take_call(call)\n",
    "        else:\n",
    "            call.apologize_and_hangup()\n",
    "  \n",
    "    def finish_call(self, handled=True):\n",
    "        if not handled:\n",
    "            if self.manager:\n",
    "                self.manager.take_call(self.call)\n",
    "            else:\n",
    "                call.apologize_and_hangup()\n",
    "        self.call = None\n",
    "\n",
    "class Respondent(Employee):\n",
    "    def finish_call(self, handled=True):\n",
    "        super(Respondent, self).finish_call(handled)\n",
    "        self.callcenter.route_respondent(self)\n",
    "\n",
    "class Manager(Employee):\n",
    "    pass\n",
    "\n",
    "class Director(Employee):\n",
    "    def __init__(self, name):\n",
    "        super(Director, self).__init__(name, None)\n",
    "\n",
    "class Test(unittest.TestCase):\n",
    "    def test_call_center(self):\n",
    "        lashaun = Director(\"Lashaun\")\n",
    "        juan = Manager(\"Juan\", lashaun)\n",
    "        sally = Manager(\"Sally\", lashaun)\n",
    "        boris = Respondent(\"Boris\", juan)\n",
    "        sam = Respondent(\"Sam\", juan)\n",
    "        jordan = Respondent(\"Jordan\", sally)\n",
    "        casey = Respondent(\"Casey\", sally)\n",
    "        center = CallCenter([boris, sam, jordan, casey], [juan, lashaun], sally)\n",
    "        call1 = Call(\"The toilet\")\n",
    "        call2 = Call(\"The webpage\")\n",
    "        call3 = Call(\"The email\")\n",
    "        call4 = Call(\"The lizard\")\n",
    "        call5 = Call(\"The cloudy weather\")\n",
    "        call6 = Call(\"The noise\")\n",
    "        self.assertEqual(len(center.respondent_queue), 4)\n",
    "        center.route_call(call1)\n",
    "        center.route_call(call2)\n",
    "        self.assertEqual(len(center.respondent_queue), 2)\n",
    "        center.route_call(call3)\n",
    "        center.route_call(call4)\n",
    "        center.route_call(call5)\n",
    "        center.route_call(call6)\n",
    "        self.assertEqual(center.call_queue, [call5, call6])\n",
    "        call1.resolve(True)\n",
    "        self.assertEqual(call1.issue, None)\n",
    "        self.assertEqual(center.call_queue, [call6])\n",
    "        self.assertEqual(sally.call, None)\n",
    "        self.assertEqual(lashaun.call, None)\n",
    "        call4.resolve(False)\n",
    "        self.assertEqual(sally.call, call4)\n",
    "        call4.resolve(False)\n",
    "        self.assertEqual(sally.call, None)\n",
    "        self.assertEqual(lashaun.call, call4)\n",
    "        call4.resolve(True)\n",
    "        self.assertEqual(lashaun.call, None)\n",
    "        call6.resolve(True)\n",
    "        self.assertEqual(center.respondent_queue, [casey])\n",
    "\n",
    "unittest.main(argv=['first-arg-is-ignored'], exit=False)"
   ]
  },
  {
   "cell_type": "markdown",
   "metadata": {},
   "source": [
    "<a id='7.3'></a>\n",
    "### 7.3 Jukebox\n",
    "\n",
    "Design a musical jukebox using object-oriented principles"
   ]
  },
  {
   "cell_type": "code",
   "execution_count": 4,
   "metadata": {},
   "outputs": [
    {
     "name": "stderr",
     "output_type": "stream",
     "text": [
      ".\n",
      "----------------------------------------------------------------------\n",
      "Ran 1 test in 0.000s\n",
      "\n",
      "OK\n"
     ]
    },
    {
     "data": {
      "text/plain": [
       "<unittest.main.TestProgram at 0x215426cd7f0>"
      ]
     },
     "execution_count": 4,
     "metadata": {},
     "output_type": "execute_result"
    }
   ],
   "source": [
    "class Jukebox(object):\n",
    "    def __init__(self, songs):\n",
    "        self.songs = {}\n",
    "        for song in songs:\n",
    "            self.songs[song.title] = song\n",
    "        self.playing = None\n",
    "    \n",
    "    def play_song(self, title):\n",
    "        if self.playing:\n",
    "            self.stop_song()\n",
    "        self.playing = self.songs[title]\n",
    "        self.playing.play()\n",
    "  \n",
    "    def stop_song(self):\n",
    "        if self.playing:\n",
    "            self.playing.stop()\n",
    "\n",
    "class Song(object):\n",
    "    def __init__(self, title, data):\n",
    "        self.title, self.data = title, data\n",
    "        self.play_count = 0\n",
    "\n",
    "    def play(self):\n",
    "        self.is_playing = True\n",
    "        self.play_count += 1\n",
    "\n",
    "    def stop(self):\n",
    "        self.is_playing = False\n",
    "\n",
    "class Test(unittest.TestCase):\n",
    "    def test_jukebox(self):\n",
    "        song1 = Song(\"Just Dance\", \"8598742398723498\")\n",
    "        song2 = Song(\"When You Wish Upon a Beard\", \"9879834759827209384\")\n",
    "        jukebox = Jukebox([song1, song2])\n",
    "        jukebox.play_song(\"When You Wish Upon a Beard\")\n",
    "        self.assertEqual(song2.play_count, 1)\n",
    "        \n",
    "unittest.main(argv=['first-arg-is-ignored'], exit=False)"
   ]
  },
  {
   "cell_type": "markdown",
   "metadata": {},
   "source": [
    "<a id='7.4'></a>\n",
    "### 7.4 Parking Lot\n",
    "Design a parking lot using object-oriented principles."
   ]
  },
  {
   "cell_type": "code",
   "execution_count": 5,
   "metadata": {},
   "outputs": [
    {
     "name": "stderr",
     "output_type": "stream",
     "text": [
      ".\n",
      "----------------------------------------------------------------------\n",
      "Ran 1 test in 0.000s\n",
      "\n",
      "OK\n"
     ]
    },
    {
     "data": {
      "text/plain": [
       "<unittest.main.TestProgram at 0x215426b6748>"
      ]
     },
     "execution_count": 5,
     "metadata": {},
     "output_type": "execute_result"
    }
   ],
   "source": [
    "class ParkingLot(object):\n",
    "    def __init__(self):\n",
    "        self.cars = {}\n",
    "  \n",
    "    def park_car(self, car):\n",
    "        self.cars[car] = True\n",
    "  \n",
    "    def unpark_car(self, car):\n",
    "        del self.cars[car]\n",
    "\n",
    "class Car(object):\n",
    "    pass\n",
    "\n",
    "class Test(unittest.TestCase):\n",
    "    def test_parking_lot(self):\n",
    "        lot = ParkingLot()\n",
    "        car1 = Car()\n",
    "        car2 = Car()\n",
    "        lot.park_car(car1)\n",
    "        lot.park_car(car2)\n",
    "        lot.unpark_car(car1)\n",
    "        self.assertEqual(len(lot.cars), 1)\n",
    "\n",
    "unittest.main(argv=['first-arg-is-ignored'], exit=False)"
   ]
  },
  {
   "cell_type": "markdown",
   "metadata": {},
   "source": [
    "<a id='7.5'></a>\n",
    "### 7.5 Online Book Reader\n",
    "Design the data structures for an online book reader system. "
   ]
  },
  {
   "cell_type": "code",
   "execution_count": 6,
   "metadata": {},
   "outputs": [
    {
     "name": "stderr",
     "output_type": "stream",
     "text": [
      ".\n",
      "----------------------------------------------------------------------\n",
      "Ran 1 test in 0.000s\n",
      "\n",
      "OK\n"
     ]
    },
    {
     "data": {
      "text/plain": [
       "<unittest.main.TestProgram at 0x215426b6978>"
      ]
     },
     "execution_count": 6,
     "metadata": {},
     "output_type": "execute_result"
    }
   ],
   "source": [
    "class BookReader(object):\n",
    "    def __init__(self, books):\n",
    "        self.books = books\n",
    "  \n",
    "    def read_next_book(self):\n",
    "        if len(self.books):\n",
    "            return self.books.pop(0).text\n",
    "        else:\n",
    "            return None\n",
    "\n",
    "class Book(object):\n",
    "    def __init__(self, text):\n",
    "        self.text = text\n",
    "\n",
    "class Test(unittest.TestCase):\n",
    "    def test_book_reader(self):\n",
    "        reader = BookReader([Book(\"The start.\"), Book(\"The end.\")])\n",
    "        self.assertEqual(reader.read_next_book(), \"The start.\")\n",
    "        self.assertEqual(reader.read_next_book(), \"The end.\")\n",
    "        self.assertEqual(reader.read_next_book(), None)\n",
    "\n",
    "unittest.main(argv=['first-arg-is-ignored'], exit=False)"
   ]
  },
  {
   "cell_type": "markdown",
   "metadata": {},
   "source": [
    "<a id='7.6'></a>\n",
    "### 7.6 Jigsaw\n",
    "Implement an NxN jigsaw puzzle. Design the data structures and explain an algorithm to solve the puzzle. You can assume that you have a `fitsWith` method which, when passed two puzzle edges, returns true if the two edges belong together. "
   ]
  },
  {
   "cell_type": "code",
   "execution_count": 7,
   "metadata": {},
   "outputs": [
    {
     "name": "stderr",
     "output_type": "stream",
     "text": [
      ".\n",
      "----------------------------------------------------------------------\n",
      "Ran 1 test in 0.020s\n",
      "\n",
      "OK\n"
     ]
    },
    {
     "data": {
      "text/plain": [
       "<unittest.main.TestProgram at 0x215426abf60>"
      ]
     },
     "execution_count": 7,
     "metadata": {},
     "output_type": "execute_result"
    }
   ],
   "source": [
    "import random\n",
    "\n",
    "class Puzzle(object):\n",
    "    def __init__(self, n):\n",
    "        pieces = [[Piece() for r in range(n)] for c in range(n)]\n",
    "        for r in range(n):\n",
    "            for c in range(n):\n",
    "                if r:\n",
    "                    pieces[r][c].fit_with(pieces[r-1][c])\n",
    "                if c:\n",
    "                    pieces[r][c].fit_with(pieces[r][c-1])\n",
    "        self.pieces = sum(pieces, [])\n",
    "        for i, _ in enumerate(self.pieces):\n",
    "            j = random.randint(0, len(pieces)-1)\n",
    "            self.pieces[i], self.pieces[j] = self.pieces[j], self.pieces[i]\n",
    "\n",
    "    def is_solved(self):\n",
    "        for piece in self.pieces:\n",
    "            if piece.connected != piece.fits:\n",
    "                return False\n",
    "        return True\n",
    "\n",
    "def solve(puzzle):\n",
    "    for piece in puzzle.pieces:\n",
    "        for other in puzzle.pieces:\n",
    "            if other in piece.fits:\n",
    "                piece.connect(other)\n",
    "\n",
    "class Piece(object):\n",
    "    def __init__(self):\n",
    "        self.fits = set()\n",
    "        self.connected = set()\n",
    "\n",
    "    def fit_with(self, other):\n",
    "        self.fits.add(other)\n",
    "        other.fits.add(self)\n",
    "\n",
    "    def connect(self, other):\n",
    "        self.connected.add(other)\n",
    "        other.connected.add(self)\n",
    "\n",
    "class Test(unittest.TestCase):\n",
    "    def test_puzzle(self):\n",
    "        puzzle = Puzzle(20)\n",
    "        self.assertEqual(puzzle.is_solved(), False)\n",
    "        solve(puzzle)\n",
    "        self.assertEqual(puzzle.is_solved(), True)\n",
    "\n",
    "unittest.main(argv=['first-arg-is-ignored'], exit=False)"
   ]
  },
  {
   "cell_type": "markdown",
   "metadata": {},
   "source": [
    "<a id='7.7'></a>\n",
    "### 7.7 Chat Server\n",
    "Explain how you would design a chat server. In particular, provide details about the various backend components, classes, and methods. What would be the hardest problems to solve? "
   ]
  },
  {
   "cell_type": "code",
   "execution_count": 8,
   "metadata": {},
   "outputs": [
    {
     "name": "stderr",
     "output_type": "stream",
     "text": [
      ".\n",
      "----------------------------------------------------------------------\n",
      "Ran 1 test in 0.004s\n",
      "\n",
      "OK\n"
     ]
    },
    {
     "data": {
      "text/plain": [
       "<unittest.main.TestProgram at 0x2154271ee48>"
      ]
     },
     "execution_count": 8,
     "metadata": {},
     "output_type": "execute_result"
    }
   ],
   "source": [
    "class ChatServer(object):\n",
    "    def __init__(self):\n",
    "        self.participants = set()\n",
    "        self.messages = []\n",
    "\n",
    "    def join(self, participant):\n",
    "        self.participants.add(participant)\n",
    "        for message in self.messages[-8:]:\n",
    "            participant.send(message)\n",
    "\n",
    "    def leave(self, participant):\n",
    "        if participant in self.participants:\n",
    "            self.participants.remove(participant)\n",
    "            participant.clear_history()\n",
    "\n",
    "    def send_all(self, participant, text):\n",
    "        message = (participant.name, text)\n",
    "        self.messages.append(message)\n",
    "        for p in self.participants:\n",
    "            p.send(message)\n",
    "\n",
    "class Participant(object):\n",
    "    def __init__(self, name):\n",
    "        self.name = name\n",
    "        self.history = []\n",
    "\n",
    "    def send(self, message):\n",
    "        self.history.append(message)\n",
    "\n",
    "    def clear_history(self):\n",
    "        self.history = []\n",
    "\n",
    "import unittest\n",
    "\n",
    "class Test(unittest.TestCase):\n",
    "    def test_chat_server(self):\n",
    "        server = ChatServer()\n",
    "        albert = Participant(\"Albert\")\n",
    "        jordi = Participant(\"Jordi\")\n",
    "        martha = Participant(\"Martha\")\n",
    "        kat = Participant(\"Kat\")\n",
    "        self.assertEqual(server.participants, set())\n",
    "        server.join(albert)\n",
    "        for i in range(12):\n",
    "            server.send_all(albert, i)\n",
    "        server.join(jordi)\n",
    "        server.leave(jordi)\n",
    "        server.join(martha)\n",
    "        self.assertEqual(server.participants, {albert, martha})\n",
    "        self.assertEqual(albert.history, [('Albert', i) for i in range(12)])\n",
    "        self.assertEqual(martha.history, [('Albert', i) for i in range(4, 12)])\n",
    "        self.assertEqual(jordi.history, [])\n",
    "        server.send_all(martha, \"AlphaGo's victory was surprising!\")\n",
    "        server.join(kat)\n",
    "        server.send_all(kat, \"It's too bad Arimaa didn't outlast Go.\")\n",
    "        self.assertEqual(kat.history[-1], albert.history[-1])\n",
    "    \n",
    "unittest.main(argv=['first-arg-is-ignored'], exit=False)"
   ]
  },
  {
   "cell_type": "markdown",
   "metadata": {},
   "source": [
    "<a id='7.8'></a>\n",
    "### 7.8 Othello\n",
    "Othello is played as follows: Each Othello piece is white on one side and black on the other. When a piece is surrounded by its opponents on both the left and right sides, or both the top and bottom, it is said to be captured and its color is flipped. On your turn, you must capture at least one of your opponent's pieces. The game ends when either user has no more valid moves. The win is assigned to the person with the most pieces. Implement the object-oriented design for Othello. "
   ]
  },
  {
   "cell_type": "code",
   "execution_count": 9,
   "metadata": {},
   "outputs": [
    {
     "name": "stderr",
     "output_type": "stream",
     "text": [
      ".\n",
      "----------------------------------------------------------------------\n",
      "Ran 1 test in 0.014s\n",
      "\n",
      "OK\n"
     ]
    },
    {
     "data": {
      "text/plain": [
       "<unittest.main.TestProgram at 0x215426d9208>"
      ]
     },
     "execution_count": 9,
     "metadata": {},
     "output_type": "execute_result"
    }
   ],
   "source": [
    "import random\n",
    "\n",
    "MOVE_DOTS = True\n",
    "WHITE_SEARCH_DEPTH = 6     # None for human\n",
    "BLACK_SEARCH_DEPTH = None  # None for human\n",
    "\n",
    "DIRECTIONS = [(1, 0xFEFEFEFEFEFEFEFE), (-1, 0x7F7F7F7F7F7F7F7F),\n",
    "              (8, 0xFFFFFFFFFFFFFFFF), (-8, 0xFFFFFFFFFFFFFFFF),\n",
    "              (7, 0x7F7F7F7F7F7F7F7F), (-7, 0xFEFEFEFEFEFEFEFE),\n",
    "              (9, 0xFEFEFEFEFEFEFEFE), (-9, 0x7F7F7F7F7F7F7F7F)]\n",
    "\n",
    "EDGE   =  0x7E8181818181817E\n",
    "CORNER =  0x8100000000000081\n",
    "NOT_CN = -0x42c300000000c343\n",
    "BLACK_START = (1<<27) | (1<<36)\n",
    "WHITE_START = (1<<28) | (1<<35)\n",
    "\n",
    "class Othello(object):\n",
    "    def __init__(self, side=0, black=BLACK_START, white=WHITE_START):\n",
    "        self.side = side\n",
    "        self.bits = [black, white]\n",
    "  \n",
    "    def end_score(self):\n",
    "        score = popcount(self.bits[self.side]) - popcount(self.bits[self.side^1])\n",
    "        return score * 1024\n",
    "  \n",
    "    def evaluate(self):\n",
    "        friendly, enemy = self.bits[self.side], self.bits[self.side^1]\n",
    "        empty_n = neighbors(~(friendly | enemy))\n",
    "        value = float(popcount(friendly & NOT_CN) - popcount(enemy & NOT_CN))\n",
    "        value += 0.875 * float(count(friendly & EDGE) - count(enemy & EDGE))\n",
    "        value += 8 * float(count(friendly & CORNER) - count(enemy & CORNER))\n",
    "        value -= 1.5 * (popcount(friendly & empty_n) - popcount(enemy & empty_n))\n",
    "        return value + random.random()\n",
    "    \n",
    "    def legal_moves(self):\n",
    "        moves = []\n",
    "        friendly, enemy = self.bits[self.side], self.bits[self.side^1]\n",
    "        placement = self.bits[0] | self.bits[1]\n",
    "        potential = neighbors(enemy) & ~placement\n",
    "        while potential:\n",
    "            move = potential & -potential\n",
    "            potential ^= move\n",
    "            for step, mask in DIRECTIONS:\n",
    "                bit = shift(move, step) & mask & enemy\n",
    "                if bit == 0:\n",
    "                    continue\n",
    "                bit = shift(bit, step) & mask\n",
    "                while bit & enemy:\n",
    "                    bit = shift(bit, step) & mask\n",
    "                if bit & friendly:\n",
    "                    moves.append(move)\n",
    "                    break\n",
    "        return moves\n",
    "  \n",
    "    def winner(self):\n",
    "        if not len(self.legal_moves()):\n",
    "            black_count = popcount(self.bits[0])\n",
    "            white_count = popcount(self.bits[1])\n",
    "            if black_count == white_count:\n",
    "                return \"Tie\"\n",
    "            elif black_count > white_count:\n",
    "                return \"Black\"\n",
    "            else:\n",
    "                return \"White\"\n",
    "        return None\n",
    "  \n",
    "    def make_move(self, row, col):\n",
    "        if row < 0 or row > 7 or col < 0 or col > 7:\n",
    "            raise Exception('Invalid location.')\n",
    "        bit = 1 << (row * 8 + col)\n",
    "        if not bit in self.legal_moves():\n",
    "            raise Exception('Illegal move.')\n",
    "        self.make_bit_move(bit)\n",
    "  \n",
    "    def make_bit_move(self, move):\n",
    "        self.bits[self.side] |= move\n",
    "        friendly, enemy = self.bits[self.side], self.bits[self.side^1]\n",
    "        for step, mask in DIRECTIONS:\n",
    "            bit = shift(move, step) & mask & enemy\n",
    "            if bit == 0:\n",
    "                continue\n",
    "            bit = shift(bit, step) & mask\n",
    "            while bit & enemy:\n",
    "                bit = shift(bit, step) & mask\n",
    "            if bit & friendly == 0:\n",
    "                continue\n",
    "            bit = shift(bit, -step)\n",
    "            while bit & enemy:\n",
    "                self.bits[0] ^= bit\n",
    "                self.bits[1] ^= bit\n",
    "                bit = shift(bit, -step)\n",
    "        self.side ^= 1\n",
    "\n",
    "    def negamax(self, depth):\n",
    "        moves = self.legal_moves()\n",
    "        if not depth:\n",
    "            return moves[random.randint(0, len(moves) - 1)]\n",
    "        best_move = moves[0]\n",
    "        best_rating = float('-inf')\n",
    "        solid_best_move = moves[0]\n",
    "        solid_best_rating = float('-inf')\n",
    "        for move in moves:\n",
    "            rating = -self.ab_rate_move(move, depth, float('-inf'), -best_rating)\n",
    "            if rating > best_rating:\n",
    "                best_rating = rating\n",
    "                best_move = move\n",
    "        return best_move\n",
    "  \n",
    "    def ab_rate_move(self, move, depth, lower, upper):\n",
    "        board = Othello(self.side, self.bits[0], self.bits[1])\n",
    "        board.make_bit_move(move)\n",
    "        if depth == 1:\n",
    "            return board.evaluate()\n",
    "        moves = board.legal_moves()\n",
    "        if len(moves) == 0:\n",
    "            return board.end_score()\n",
    "        best_rating = float('-inf')\n",
    "        new_lower = lower\n",
    "        for m in moves:\n",
    "            rating = -board.ab_rate_move(m, depth-1, -upper, -new_lower)\n",
    "            if rating > best_rating:\n",
    "                best_rating = rating\n",
    "                if best_rating > new_lower:\n",
    "                    new_lower = best_rating\n",
    "                    if new_lower > upper:\n",
    "                        break\n",
    "        return best_rating\n",
    "    \n",
    "    def __str__(self):\n",
    "        moves = self.legal_moves()\n",
    "        parts = ['\\n  +-----------------+\\n']\n",
    "        for r in range(8):\n",
    "            parts.append(' ' + str(8 - r) + '| ')\n",
    "            for c in range(8):\n",
    "                bit = 1 << (r * 8 + c)\n",
    "                if bit & self.bits[0]:             parts.append('○ ')\n",
    "                elif bit & self.bits[1]:           parts.append('● ')\n",
    "                elif MOVE_DOTS and (bit in moves): parts.append('. ')\n",
    "                else:                              parts.append('  ')\n",
    "            parts.append('|\\n')\n",
    "        parts.append('  +-----------------+\\n')\n",
    "        parts.append('    a b c d e f g h\\n\\n')\n",
    "        return \"\".join(parts)\n",
    "\n",
    "def popcount(bits):\n",
    "    counts = (bits   & 0x5555555555555555) + ((bits   & 0xAAAAAAAAAAAAAAAA) >> 1)\n",
    "    counts = (counts & 0x3333333333333333) + ((counts & 0xCCCCCCCCCCCCCCCC) >> 2)\n",
    "    counts = (counts & 0x0F0F0F0F0F0F0F0F) + ((counts & 0xF0F0F0F0F0F0F0F0) >> 4)\n",
    "    counts = (counts & 0x00FF00FF00FF00FF) + ((counts & 0xFF00FF00FF00FF00) >> 8)\n",
    "    counts = (counts & 0x0000FFFF0000FFFF) + ((counts & 0xFFFF0000FFFF0000) >> 16)\n",
    "    counts = (counts & 0x00000000FFFFFFFF) + (counts >> 32)\n",
    "    return counts\n",
    "\n",
    "def count(bits):\n",
    "    count = 0\n",
    "    while bits:\n",
    "        bits &= bits - 1\n",
    "        count += 1\n",
    "    return count\n",
    "\n",
    "def neighbors(bits):\n",
    "    nbits  = (bits << 1) & 0xFEFEFEFEFEFEFEFE\n",
    "    nbits |= (bits >> 1) & 0x7F7F7F7F7F7F7F7F\n",
    "    nbits |= (bits << 9) & 0xFEFEFEFEFEFEFEFE\n",
    "    nbits |= (bits << 7) & 0x7F7F7F7F7F7F7F7F\n",
    "    nbits |= (bits >> 7) & 0xFEFEFEFEFEFEFEFE\n",
    "    nbits |= (bits >> 9) & 0x7F7F7F7F7F7F7F7F\n",
    "    nbits |= (bits << 8) & 0xFFFFFFFFFFFFFFFF\n",
    "    return nbits | (bits >> 8)\n",
    "\n",
    "def shift(bits, step):\n",
    "    if step > 0:\n",
    "        return bits << step\n",
    "    return bits >> -step\n",
    "\n",
    "def play_game():\n",
    "    board = Othello()\n",
    "    while len(board.legal_moves()):\n",
    "        if board.side:\n",
    "            if not WHITE_SEARCH_DEPTH is None:\n",
    "                print(str(board) + 'The computer is making a move for ●.')\n",
    "                board.make_bit_move(board.negamax(WHITE_SEARCH_DEPTH))\n",
    "                continue\n",
    "        elif not BLACK_SEARCH_DEPTH is None:\n",
    "            print(str(board) + 'The computer is making a move for ○.')\n",
    "            board.make_bit_move(board.negamax(BLACK_SEARCH_DEPTH))\n",
    "            continue\n",
    "        if board.side:\n",
    "            prompt = 'Choose where to place a ●. (ie \"d3\")\\n> '\n",
    "        else:\n",
    "            prompt = 'Choose where to place a ○. (ie \"d3\")\\n> '\n",
    "        line = raw_input(str(board) + prompt)\n",
    "        try:\n",
    "            row = 8 - int(line[1])\n",
    "            col = ord(line[0]) - 97\n",
    "            board.make_move(row, col)\n",
    "        except Exception as e:\n",
    "            print(e)\n",
    "    print(str(board))\n",
    "    winner = board.winner()\n",
    "    if winner == \"Tie\":\n",
    "        print(\"The game is a tie!\")\n",
    "    elif winner == \"Black\":\n",
    "        print(\"○ wins!\")\n",
    "    else:\n",
    "        print(\"● wins!\")\n",
    "    return winner\n",
    "\n",
    "class Test(unittest.TestCase):\n",
    "    def test_othello(self):\n",
    "        board = Othello()\n",
    "        self.assertEqual(board.side, 0)\n",
    "        self.assertEqual(board.end_score(), 0)\n",
    "        self.assertEqual(len(board.legal_moves()), 4)\n",
    "        board.make_bit_move(board.legal_moves()[0])\n",
    "        self.assertEqual(board.side, 1)\n",
    "        self.assertEqual(len(board.legal_moves()), 3)\n",
    "        board = Othello(1, 0x2040c08000000, 0x181010000000)\n",
    "        self.assertEqual(board.negamax(1), (1 << 56))\n",
    "        self.assertEqual(board.negamax(2), (1 << 56))\n",
    "        self.assertEqual(board.negamax(3), (1 << 56))\n",
    "\n",
    "unittest.main(argv=['first-arg-is-ignored'], exit=False)"
   ]
  },
  {
   "cell_type": "markdown",
   "metadata": {},
   "source": [
    "<a id='7.9'></a>\n",
    "### 7.9 Circular Array\n",
    "Implement a `CircularArray` class that supports an array-like data structure which can be efficiently rotated. If possible, the class should use a generic type (also called a template), and should support iteration via the standard for `(Obj o : circularArray)` notation. "
   ]
  },
  {
   "cell_type": "code",
   "execution_count": 10,
   "metadata": {},
   "outputs": [
    {
     "name": "stderr",
     "output_type": "stream",
     "text": [
      ".\n",
      "----------------------------------------------------------------------\n",
      "Ran 1 test in 0.000s\n",
      "\n",
      "OK\n"
     ]
    },
    {
     "data": {
      "text/plain": [
       "<unittest.main.TestProgram at 0x2154271e898>"
      ]
     },
     "execution_count": 10,
     "metadata": {},
     "output_type": "execute_result"
    }
   ],
   "source": [
    "class CircularArray(object):\n",
    "    def __init__(self, array):\n",
    "        self.array = array\n",
    "        self.start = 0\n",
    "\n",
    "    def rotate(self, i):\n",
    "        self.start = (self.start + i) % len(self.array)\n",
    "\n",
    "    def __iter__(self):\n",
    "        for i in range(self.start, len(self.array)):\n",
    "            yield self.array[i]\n",
    "        for i in range(0, self.start):\n",
    "            yield self.array[i]\n",
    "\n",
    "    def __getitem__(self, i):\n",
    "        return self.array[(self.start + i) % len(self.array)]\n",
    "\n",
    "    def __setitem__(self, i, item):\n",
    "        self.array[(self.start + i) % len(self.array)] = item\n",
    "\n",
    "    def __delitem__(self, i):\n",
    "        index = (self.start + i) % len(self.array)\n",
    "        del self.array[index]\n",
    "        if index < self.start:\n",
    "            self.start -= 1\n",
    "\n",
    "import unittest\n",
    "\n",
    "class Test(unittest.TestCase):\n",
    "    def test_circular_array(self):\n",
    "        ca = CircularArray([11, 22, 33, 44, 55, 66, 77])\n",
    "        ca.rotate(5)\n",
    "        self.assertEqual(ca[0], 66)\n",
    "        array = []\n",
    "        for item in ca:\n",
    "            array.append(item)\n",
    "        self.assertEqual(array, [66, 77, 11, 22, 33, 44, 55])\n",
    "        ca[3] = 999\n",
    "        del ca[4]\n",
    "        array = []\n",
    "        for item in ca:\n",
    "            array.append(item)\n",
    "        self.assertEqual(array, [66, 77, 11, 999, 44, 55])\n",
    "        ca.rotate(2)\n",
    "        array = []\n",
    "        for item in ca:\n",
    "            array.append(item)\n",
    "        self.assertEqual(array, [11, 999, 44, 55, 66, 77])\n",
    "    \n",
    "unittest.main(argv=['first-arg-is-ignored'], exit=False)"
   ]
  },
  {
   "cell_type": "markdown",
   "metadata": {},
   "source": [
    "<a id='7.10'></a>\n",
    "### 7.10 Minesweeper\n",
    "Design and implement a text-based Minesweeper game. Minesweeper is the classic single-player computer game where an NxN grid has B mines (or bombs) hidden across the grid. The remaining cells are either blank or have a number behind them. The numbers reflect the number of bombs in the surrounding eight cells. The user then uncovers a cell. If it is a bomb, the player loses. If it is a number, the number is exposed. If it is a blank cell, this cell and all adjacent blank cells (up to and including the surrounding numeric cells) are exposed. The player wins when all non-bomb cells are exposed. The player can also flag certain places as potential bombs. This doesn't affect game play, other than to block the user from accidentally clicking a cell that is thought to have a bomb. "
   ]
  },
  {
   "cell_type": "code",
   "execution_count": 11,
   "metadata": {},
   "outputs": [
    {
     "name": "stderr",
     "output_type": "stream",
     "text": [
      ".\n",
      "----------------------------------------------------------------------\n",
      "Ran 1 test in 0.000s\n",
      "\n",
      "OK\n"
     ]
    },
    {
     "data": {
      "text/plain": [
       "<unittest.main.TestProgram at 0x215426da5f8>"
      ]
     },
     "execution_count": 11,
     "metadata": {},
     "output_type": "execute_result"
    }
   ],
   "source": [
    "class Minesweeper(object):\n",
    "    def __init__(self, rows, cols, bombs_count=None):\n",
    "        self.rows, self.cols = rows, cols\n",
    "        self.game_over = False\n",
    "        self.game_won = False\n",
    "        self.bombs_found = 0\n",
    "        self.bombs_count = bombs_count\n",
    "        if not self.bombs_count:\n",
    "            self.bombs_count = (rows * cols + 10) // 10\n",
    "        self.bombs    = [[0 for r in range(rows+2)] for c in range(cols+2)]\n",
    "        self.counts   = [[0 for r in range(rows+2)] for c in range(cols+2)]\n",
    "        self.revealed = [[0 for r in range(rows+2)] for c in range(cols+2)]\n",
    "        for i in range(self.bombs_count):\n",
    "            bomb_row = random.randint(1, rows)\n",
    "            bomb_col = random.randint(1, cols)\n",
    "            if not self.bombs[bomb_row][bomb_col]:\n",
    "                self.bombs[bomb_row][bomb_col] = 1\n",
    "                for row in [bomb_row-1, bomb_row, bomb_row+1]:\n",
    "                    for col in [bomb_col-1, bomb_col, bomb_col+1]:\n",
    "                        self.counts[row][col] += 1\n",
    "  \n",
    "    def __str__(self):\n",
    "        line1, line2, line3 = \"    \", \"    \", \"    \"\n",
    "        for c in range(1, self.cols+1):\n",
    "            label = str(c)\n",
    "            while len(label) < 3:\n",
    "                label = \" \" + label\n",
    "            line1 += \" \" + label[0]\n",
    "            line2 += \" \" + label[1]\n",
    "            line3 += \" \" + label[2]\n",
    "        parts = [line1, '\\n', line2, '\\n', line3, '\\n']\n",
    "        parts.append(('   +' + '-' * (2*self.cols+1)) + '+\\n')\n",
    "        for r in range(1, self.rows+1):\n",
    "            label = str(r)\n",
    "            while len(label) < 3:\n",
    "                label = \" \" + label\n",
    "            parts += label + '| '\n",
    "            for c in range(1, self.cols+1):\n",
    "                if self.revealed[r][c]:\n",
    "                    if self.bombs[r][c]:\n",
    "                        parts.append(\"B \")\n",
    "                    elif self.counts[r][c]:\n",
    "                        parts.append(str(self.counts[r][c]) + \" \")\n",
    "                    else:\n",
    "                        parts.append(\"  \")\n",
    "                else:\n",
    "                    parts.append(\". \")\n",
    "            parts += '|\\n'\n",
    "        parts += ['   +' + ('-' * (2*self.cols+1)) + '+\\n']\n",
    "        return \"\".join(parts)\n",
    "  \n",
    "    def mark_clear(self, row, col):\n",
    "        if row < 1 or row > self.rows or col < 1 or col > self.cols:\n",
    "            return\n",
    "        if self.revealed[row][col]:\n",
    "            return\n",
    "        self.revealed[row][col] = True\n",
    "        if self.bombs[row][col]:\n",
    "            self.game_over = True\n",
    "        elif self.counts[row][col] == 0:\n",
    "            for r in range(row - 1, row + 2):\n",
    "                for c in range(col - 1, col + 2):\n",
    "                    self.mark_clear(r, c)\n",
    "\n",
    "    def mark_bomb(self, row, col):\n",
    "        self.revealed[row][col] = True\n",
    "        if not self.bombs[row][col]:\n",
    "            self.game_over = True\n",
    "        else:\n",
    "            self.bombs_found += 1\n",
    "            if self.bombs_found == self.bombs_count:\n",
    "                self.game_won = True\n",
    "                self.game_over = True\n",
    "  \n",
    "prompt = \"Enter row,col to clear and bomb,row,col to label a bomb.\\n> \"\n",
    "\n",
    "def play_game():\n",
    "    rows = int(sys.argv[-2])\n",
    "    cols = int(sys.argv[-1])\n",
    "    minesweeper = Minesweeper(rows, cols)\n",
    "    while not minesweeper.game_over:\n",
    "        line = raw_input(str(minesweeper) + prompt)\n",
    "        try:\n",
    "            coords = line.split(\",\")\n",
    "            if coords[0].strip().lower() == \"bomb\":\n",
    "                row, col = int(coords[1]), int(coords[2])\n",
    "                minesweeper.mark_bomb(row, col)\n",
    "            else:\n",
    "                row, col = int(coords[0]), int(coords[1])\n",
    "                minesweeper.mark_clear(row, col)\n",
    "        except Exception as e:\n",
    "            print(e)\n",
    "    print(str(minesweeper))\n",
    "    if minesweeper.game_won:\n",
    "        print(\"You win!\")\n",
    "    else:\n",
    "        print(\"You lose.\")\n",
    "\n",
    "\n",
    "class MockRandom(object):\n",
    "    def __init__(self):\n",
    "        self.values = [1, 3, 1, 1]\n",
    "\n",
    "    def randint(self, lower, upper):\n",
    "        return self.values.pop(0)\n",
    "\n",
    "    \n",
    "import unittest\n",
    "global random\n",
    "random = MockRandom()\n",
    "    \n",
    "class Test(unittest.TestCase):\n",
    "    def test_minesweeper(self):\n",
    "        m = Minesweeper(4, 4)\n",
    "        self.assertEqual(m.bombs, [[0, 0, 0, 0, 0, 0],\n",
    "                                   [0, 1, 0, 1, 0, 0],\n",
    "                                   [0, 0, 0, 0, 0, 0],\n",
    "                                   [0, 0, 0, 0, 0, 0],\n",
    "                                   [0, 0, 0, 0, 0, 0],\n",
    "                                   [0, 0, 0, 0, 0, 0]])\n",
    "\n",
    "unittest.main(argv=['first-arg-is-ignored'], exit=False)"
   ]
  },
  {
   "cell_type": "markdown",
   "metadata": {},
   "source": [
    "<a id='7.11'></a>\n",
    "### 7.11 File System\n",
    "Explain the data structures and algorithms that you would use to design an in-memory file system. Illustrate with an example in code where possible. "
   ]
  },
  {
   "cell_type": "code",
   "execution_count": 12,
   "metadata": {},
   "outputs": [
    {
     "name": "stderr",
     "output_type": "stream",
     "text": [
      ".\n",
      "----------------------------------------------------------------------\n",
      "Ran 1 test in 0.000s\n",
      "\n",
      "OK\n"
     ]
    },
    {
     "data": {
      "text/plain": [
       "<unittest.main.TestProgram at 0x215426e94e0>"
      ]
     },
     "execution_count": 12,
     "metadata": {},
     "output_type": "execute_result"
    }
   ],
   "source": [
    "class HashTable(object):\n",
    "    def __init__(self, array_size=64):\n",
    "        self.array = [None for _ in range(array_size)]\n",
    "        self.count = 0\n",
    "        self.capacity = 0.75 * array_size\n",
    "  \n",
    "    def add(self, item, value):\n",
    "        if self.count >= self.capacity:\n",
    "            self.expand()\n",
    "        self.count += 1\n",
    "        new_node = Node(item, value)\n",
    "        index = hash(item) % len(self.array)\n",
    "        node = self.array[index]\n",
    "        if node:\n",
    "            while node.next:\n",
    "                node = node.next\n",
    "            node.next = new_node\n",
    "        else:\n",
    "            self.array[index] = new_node\n",
    "  \n",
    "    def lookup(self, item):\n",
    "        node = self.array[hash(item) % len(self.array)]\n",
    "        while node:\n",
    "            if node.item == item:\n",
    "                return node.value\n",
    "            node = node.next\n",
    "        return None\n",
    "  \n",
    "    def delete(self, item):\n",
    "        index = hash(item) % len(self.array)\n",
    "        node = self.array[index]\n",
    "        prev = None\n",
    "        while node:\n",
    "            if node.item == item:\n",
    "                self.count -= 1\n",
    "                if prev:\n",
    "                    prev.next = node.next\n",
    "                else:\n",
    "                    self.array[index] = node.next\n",
    "            prev = node\n",
    "            node = node.next\n",
    "  \n",
    "    def expand(self):\n",
    "        new_array = [None for _ in range(2 * len(self.array))]\n",
    "        self.count = 0\n",
    "        self.capacity *= 2\n",
    "        self.array, prev_array = new_array, self.array\n",
    "        for node in prev_array:\n",
    "            while node:\n",
    "                self.add(node.item, node.value)\n",
    "                node = node.next\n",
    "\n",
    "    def __len__(self):\n",
    "        return self.count\n",
    "\n",
    "class Node(object):\n",
    "    def __init__(self, item, value, next=None):\n",
    "        self.item, self.value, self.next = item, value, next\n",
    "\n",
    "import unittest\n",
    "\n",
    "class Test(unittest.TestCase):\n",
    "    def test_hash_table(self):\n",
    "        ht = HashTable(8)\n",
    "        self.assertEqual(ht.capacity, 6)\n",
    "        self.assertEqual(len(ht), 0)\n",
    "        self.assertEqual(len(ht.array), 8)\n",
    "        ht.add(15, \"fifteen\")\n",
    "        ht.add(7, \"seven\")\n",
    "        self.assertEqual(len(ht), 2)\n",
    "        node_seven = ht.array[7]\n",
    "        self.assertEqual(ht.array, [None,None,None,None,None,None,None,node_seven])\n",
    "        self.assertEqual(node_seven.item, 15)\n",
    "        self.assertEqual(node_seven.value, \"fifteen\")\n",
    "        self.assertEqual(node_seven.next.item, 7)\n",
    "        self.assertEqual(node_seven.next.value, \"seven\")\n",
    "        self.assertEqual(node_seven.next.next, None)\n",
    "        self.assertEqual(ht.lookup(15), \"fifteen\")\n",
    "        self.assertEqual(ht.lookup(7), \"seven\")\n",
    "        self.assertEqual(ht.lookup(24), None)\n",
    "        ht.delete(24)\n",
    "        ht.add(23, \"twenty three\")\n",
    "        ht.delete(7)\n",
    "        self.assertEqual(ht.lookup(7), None)\n",
    "        ht.delete(15)\n",
    "        self.assertEqual(ht.lookup(23), \"twenty three\")\n",
    "        self.assertEqual(ht.lookup(15), None)\n",
    "        self.assertEqual(len(ht), 1)\n",
    "        ht.add(31, \"thirty one\")\n",
    "        ht.add(15, \"FIFTEEN\")\n",
    "        for i in range(70, 90):\n",
    "            ht.add(i, \"number \" + str(i))\n",
    "        self.assertEqual(len(ht), 23)\n",
    "        self.assertEqual(len(ht.array), 32)\n",
    "        self.assertEqual(ht.capacity, 24)\n",
    "        node_fifteen = ht.array[15]\n",
    "        self.assertEqual(node_fifteen.value, \"FIFTEEN\")\n",
    "        self.assertEqual(node_fifteen.next.value, \"number 79\")\n",
    "        self.assertEqual(ht.lookup(81), \"number 81\")\n",
    "    \n",
    "unittest.main(argv=['first-arg-is-ignored'], exit=False)"
   ]
  },
  {
   "cell_type": "markdown",
   "metadata": {},
   "source": [
    "<a id='7.12'></a>\n",
    "### 7.12 Hash Table\n",
    "Design and implement a hash table which uses chaining (linked lists) to handle collisions."
   ]
  },
  {
   "cell_type": "code",
   "execution_count": 13,
   "metadata": {},
   "outputs": [
    {
     "name": "stderr",
     "output_type": "stream",
     "text": [
      ".\n",
      "----------------------------------------------------------------------\n",
      "Ran 1 test in 0.006s\n",
      "\n",
      "OK\n"
     ]
    },
    {
     "data": {
      "text/plain": [
       "<unittest.main.TestProgram at 0x215427000f0>"
      ]
     },
     "execution_count": 13,
     "metadata": {},
     "output_type": "execute_result"
    }
   ],
   "source": [
    "# Implement a hash table.\n",
    "\n",
    "class HashTable(object):\n",
    "    def __init__(self, array_size=64):\n",
    "        self.array = [None for _ in range(array_size)]\n",
    "        self.count = 0\n",
    "        self.capacity = 0.75 * array_size\n",
    "\n",
    "    def add(self, item, value):\n",
    "        if self.count >= self.capacity:\n",
    "            self.expand()\n",
    "        self.count += 1\n",
    "        new_node = Node(item, value)\n",
    "        index = hash(item) % len(self.array)\n",
    "        node = self.array[index]\n",
    "        if node:\n",
    "            while node.next:\n",
    "                node = node.next\n",
    "            node.next = new_node\n",
    "        else:\n",
    "            self.array[index] = new_node\n",
    "  \n",
    "    def lookup(self, item):\n",
    "        node = self.array[hash(item) % len(self.array)]\n",
    "        while node:\n",
    "            if node.item == item:\n",
    "                return node.value\n",
    "            node = node.next\n",
    "        return None\n",
    "  \n",
    "    def delete(self, item):\n",
    "        index = hash(item) % len(self.array)\n",
    "        node = self.array[index]\n",
    "        prev = None\n",
    "        while node:\n",
    "            if node.item == item:\n",
    "                self.count -= 1\n",
    "                if prev:\n",
    "                    prev.next = node.next\n",
    "                else:\n",
    "                    self.array[index] = node.next\n",
    "            prev = node\n",
    "            node = node.next\n",
    "  \n",
    "    def expand(self):\n",
    "        new_array = [None for _ in range(2 * len(self.array))]\n",
    "        self.count = 0\n",
    "        self.capacity *= 2\n",
    "        self.array, prev_array = new_array, self.array\n",
    "        for node in prev_array:\n",
    "            while node:\n",
    "                self.add(node.item, node.value)\n",
    "                node = node.next\n",
    "\n",
    "    def __len__(self):\n",
    "        return self.count\n",
    "\n",
    "class Node(object):\n",
    "    def __init__(self, item, value, next=None):\n",
    "        self.item, self.value, self.next = item, value, next\n",
    "\n",
    "class Test(unittest.TestCase):\n",
    "    def test_hash_table(self):\n",
    "        ht = HashTable(8)\n",
    "        self.assertEqual(ht.capacity, 6)\n",
    "        self.assertEqual(len(ht), 0)\n",
    "        self.assertEqual(len(ht.array), 8)\n",
    "        ht.add(15, \"fifteen\")\n",
    "        ht.add(7, \"seven\")\n",
    "        self.assertEqual(len(ht), 2)\n",
    "        node_seven = ht.array[7]\n",
    "        self.assertEqual(ht.array, [None,None,None,None,None,None,None,node_seven])\n",
    "        self.assertEqual(node_seven.item, 15)\n",
    "        self.assertEqual(node_seven.value, \"fifteen\")\n",
    "        self.assertEqual(node_seven.next.item, 7)\n",
    "        self.assertEqual(node_seven.next.value, \"seven\")\n",
    "        self.assertEqual(node_seven.next.next, None)\n",
    "        self.assertEqual(ht.lookup(15), \"fifteen\")\n",
    "        self.assertEqual(ht.lookup(7), \"seven\")\n",
    "        self.assertEqual(ht.lookup(24), None)\n",
    "        ht.delete(24)\n",
    "        ht.add(23, \"twenty three\")\n",
    "        ht.delete(7)\n",
    "        self.assertEqual(ht.lookup(7), None)\n",
    "        ht.delete(15)\n",
    "        self.assertEqual(ht.lookup(23), \"twenty three\")\n",
    "        self.assertEqual(ht.lookup(15), None)\n",
    "        self.assertEqual(len(ht), 1)\n",
    "        ht.add(31, \"thirty one\")\n",
    "        ht.add(15, \"FIFTEEN\")\n",
    "        for i in range(70, 90):\n",
    "            ht.add(i, \"number \" + str(i))\n",
    "        self.assertEqual(len(ht), 23)\n",
    "        self.assertEqual(len(ht.array), 32)\n",
    "        self.assertEqual(ht.capacity, 24)\n",
    "        node_fifteen = ht.array[15]\n",
    "        self.assertEqual(node_fifteen.value, \"FIFTEEN\")\n",
    "        self.assertEqual(node_fifteen.next.value, \"number 79\")\n",
    "        self.assertEqual(ht.lookup(81), \"number 81\")\n",
    "\n",
    "unittest.main(argv=['first-arg-is-ignored'], exit=False)"
   ]
  },
  {
   "cell_type": "markdown",
   "metadata": {},
   "source": [
    "<a id='8'></a>\n",
    "## 8. Recursion and Dynamic Programming\n",
    "\n",
    "<a id='8.1'></a>\n",
    "### 8.1 Triple Step\n",
    "A child is running up a staircase with n steps and can hop either 1 step, 2 steps, or 3 steps at a time. Implement a method to count how many possible ways the child can run up the stairs."
   ]
  },
  {
   "cell_type": "code",
   "execution_count": 14,
   "metadata": {},
   "outputs": [
    {
     "name": "stderr",
     "output_type": "stream",
     "text": [
      "..\n",
      "----------------------------------------------------------------------\n",
      "Ran 2 tests in 0.000s\n",
      "\n",
      "OK\n"
     ]
    },
    {
     "data": {
      "text/plain": [
       "<unittest.main.TestProgram at 0x2154273f8d0>"
      ]
     },
     "execution_count": 14,
     "metadata": {},
     "output_type": "execute_result"
    }
   ],
   "source": [
    "# recursive\n",
    "def triple_step_recursive(n):\n",
    "    if n == 1 or n == 0:\n",
    "        return 1\n",
    "    elif n == 2:\n",
    "        return 2\n",
    "    return triple_step(n-3) + triple_step(n-2) + triple_step(n-1)\n",
    "\n",
    "# dynamic\n",
    "def triple_step(n):\n",
    "    if n == 1 or n == 0:\n",
    "        return 1\n",
    "    elif n == 2:\n",
    "        return 2\n",
    "    counts = [0] * (n + 1)\n",
    "    counts[0] = 1\n",
    "    counts[1] = 1\n",
    "    counts[2] = 2\n",
    "    for i in range(3, n+1):\n",
    "        counts[i] = counts[i-1] + counts[i-2] + counts[i-3]\n",
    "    return counts[n]\n",
    "\n",
    "class Test(unittest.TestCase):\n",
    "    def test_triple_step_recursive(self):\n",
    "        self.assertEqual(triple_step_recursive(3), 4)\n",
    "        self.assertEqual(triple_step_recursive(7), 44)\n",
    "    def test_triple_step_dynamic(self):\n",
    "        self.assertEqual(triple_step(3), 4)\n",
    "        self.assertEqual(triple_step(7), 44)\n",
    "        \n",
    "unittest.main(argv=['first-arg-is-ignored'], exit=False)"
   ]
  },
  {
   "cell_type": "markdown",
   "metadata": {},
   "source": [
    "<a id='8.2'></a>\n",
    "### 8.2 Robot in a Grid\n",
    "Imagine a robot sitting on the upper left corner of grid with r rows and c columns. The robot can only move in two directions, right and down, but certain cells are \"off limits\" such that the robot cannot step on them. Design an algorithm to find a path for the robot from the top left to the bottom right."
   ]
  },
  {
   "cell_type": "code",
   "execution_count": 15,
   "metadata": {},
   "outputs": [
    {
     "name": "stderr",
     "output_type": "stream",
     "text": [
      ".\n",
      "----------------------------------------------------------------------\n",
      "Ran 1 test in 0.000s\n",
      "\n",
      "OK\n"
     ]
    },
    {
     "data": {
      "text/plain": [
       "<unittest.main.TestProgram at 0x215426cdb38>"
      ]
     },
     "execution_count": 15,
     "metadata": {},
     "output_type": "execute_result"
    }
   ],
   "source": [
    "def path_through_grid(grid):\n",
    "    if len(grid) == 0:\n",
    "        return []\n",
    "    search = []\n",
    "    for r, row in enumerate(grid):\n",
    "        search.append([])\n",
    "        for c, blocked in enumerate(row):\n",
    "            if r == 0 and c == 0:\n",
    "                search[r].append(\"start\")\n",
    "            elif blocked:\n",
    "                search[r].append(None)\n",
    "            elif r > 0 and search[r-1][c]:\n",
    "                search[r].append(\"down\")\n",
    "            elif c > 0 and search[r][c-1]:\n",
    "                search[r].append(\"right\")\n",
    "            else:\n",
    "                search[r].append(None)\n",
    "    path = [\"end\"]\n",
    "    r, c = len(grid) - 1, len(grid[0]) - 1\n",
    "    if not search[r][c]:\n",
    "        return None\n",
    "    while c > 0 or r > 0:\n",
    "        path.append(search[r][c])\n",
    "        if search[r][c] == \"down\":\n",
    "            r -= 1\n",
    "        else:\n",
    "            c -= 1\n",
    "    path.append(\"start\")\n",
    "    path.reverse()\n",
    "    return path\n",
    "        \n",
    "class Test(unittest.TestCase):\n",
    "    def test_path_through_grid(self):\n",
    "        grid = [[0, 0, 0, 0, 0, 0, 1],\n",
    "                [0, 1, 1, 0, 1, 1, 0],\n",
    "                [0, 0, 1, 0, 0, 0, 0],\n",
    "                [1, 1, 0, 0, 0, 1, 0]]\n",
    "        self.assertEqual(path_through_grid(grid), [\"start\", \"right\", \"right\",\n",
    "                \"right\", \"down\", \"down\", \"right\", \"right\", \"right\", \"down\", \"end\"])\n",
    "        grid = [[0, 0, 0, 0, 0, 0, 1],\n",
    "                [0, 1, 0, 1, 1, 1, 0],\n",
    "                [0, 0, 0, 1, 0, 0, 0],\n",
    "                [1, 1, 0, 0, 0, 1, 0]]\n",
    "        self.assertEqual(path_through_grid(grid), None)\n",
    "        \n",
    "unittest.main(argv=['first-arg-is-ignored'], exit=False)"
   ]
  },
  {
   "cell_type": "markdown",
   "metadata": {},
   "source": [
    "<a id='8.3'></a>\n",
    "### 8.3 Magic Index\n",
    "A magic index in an array `A [ 0... n -1]` is defined to be an index such that `A[ i]  = i`. Given a sorted array of distinct integers, write a method to find a magic index, if one exists, inarray `A`.\n",
    "\n",
    "FOLLOW UP\n",
    "\n",
    "What if the values are not distinct?"
   ]
  },
  {
   "cell_type": "code",
   "execution_count": 16,
   "metadata": {},
   "outputs": [
    {
     "name": "stderr",
     "output_type": "stream",
     "text": [
      "..\n",
      "----------------------------------------------------------------------\n",
      "Ran 2 tests in 0.000s\n",
      "\n",
      "OK\n"
     ]
    },
    {
     "data": {
      "text/plain": [
       "<unittest.main.TestProgram at 0x21542703198>"
      ]
     },
     "execution_count": 16,
     "metadata": {},
     "output_type": "execute_result"
    }
   ],
   "source": [
    "def magic_index_distinct(array):\n",
    "    if len(array) == 0 or array[0] > 0 or array[-1] < len(array) - 1:\n",
    "        return None\n",
    "    def magic_index_distinct_bounds(array, l, r):\n",
    "        if l == r:\n",
    "            return None\n",
    "        m = (l + r) // 2\n",
    "        if array[m] == m:\n",
    "            return m\n",
    "        elif array[m] > m:\n",
    "            return magic_index_distinct_bounds(array, l, m)\n",
    "        else:\n",
    "            return magic_index_distinct_bounds(array, m+1, r)\n",
    "    return magic_index_distinct_bounds(array, 0, len(array))\n",
    "\n",
    "def magic_index(array):\n",
    "    i = 0\n",
    "    while i < len(array):\n",
    "        if i == array[i]:\n",
    "            return i\n",
    "        i = max(array[i], i + 1)\n",
    "    return None\n",
    "\n",
    "\n",
    "class Test(unittest.TestCase):\n",
    "    def test_magic_index_distinct(self):\n",
    "        self.assertEqual(magic_index_distinct([3,4,5]), None)\n",
    "        self.assertEqual(magic_index_distinct([-2,-1,0,2]), None)\n",
    "        self.assertEqual(magic_index_distinct([-20,0,1,2,3,4,5,6,20]), None)\n",
    "        self.assertEqual(magic_index_distinct([-20,0,1,2,3,4,5,7,20]), 7)\n",
    "        self.assertEqual(magic_index_distinct([-20,1,2,3,4,5,6,20]), 4)\n",
    "\n",
    "    def test_magic_index(self):\n",
    "        self.assertEqual(magic_index([3,4,5]), None)\n",
    "        self.assertEqual(magic_index([-2,-1,0,2]), None)\n",
    "        self.assertEqual(magic_index([-20,0,1,2,3,4,5,6,20]), None)\n",
    "        self.assertEqual(magic_index([-20,0,1,2,3,4,5,7,20]), 7)\n",
    "        self.assertEqual(magic_index([-20,1,2,3,4,5,6,20]), 1)\n",
    "        self.assertEqual(magic_index([-20,5,5,5,5,5,6,20]), 5)\n",
    "\n",
    "unittest.main(argv=['first-arg-is-ignored'], exit=False)"
   ]
  },
  {
   "cell_type": "markdown",
   "metadata": {},
   "source": [
    "<a id='8.4'></a>\n",
    "### 8.4 Power Set\n",
    "Write a method to return all subsets of a set"
   ]
  },
  {
   "cell_type": "code",
   "execution_count": 17,
   "metadata": {},
   "outputs": [
    {
     "name": "stderr",
     "output_type": "stream",
     "text": [
      "..\n",
      "----------------------------------------------------------------------\n",
      "Ran 2 tests in 0.000s\n",
      "\n",
      "OK\n"
     ]
    },
    {
     "data": {
      "text/plain": [
       "<unittest.main.TestProgram at 0x215427038d0>"
      ]
     },
     "execution_count": 17,
     "metadata": {},
     "output_type": "execute_result"
    }
   ],
   "source": [
    "# recursive\n",
    "def power_set_recursive(nums):\n",
    "    if not nums:\n",
    "        return [[]]\n",
    "    prefix = power_set_recursive(nums[:-1])\n",
    "    return prefix + [pre + [nums[-1]] for pre in prefix]\n",
    "\n",
    "# iterative\n",
    "def power_set(nums):\n",
    "    subsets = [[]]\n",
    "    for n in nums:\n",
    "        subsets += [[n] + l for l in subsets]\n",
    "    return subsets\n",
    "\n",
    "class Test(unittest.TestCase):\n",
    "    def test_power_set_recursive(self):\n",
    "        s = ['a', 'b', 'c', 'd']\n",
    "        ps = power_set_recursive(s)\n",
    "        self.assertEqual(len(ps), 16)\n",
    "        subsets = [[], ['a'], ['b'], ['c'], ['d'],\n",
    "            ['a', 'b'], ['a', 'c'], ['a', 'd'], ['b', 'c'], ['b', 'd'], ['c', 'd'],\n",
    "            ['a', 'b', 'c'], ['a', 'b', 'd'], ['a', 'c', 'd'], ['b', 'c', 'd'], ['a', 'b', 'c', 'd']]\n",
    "        self.assertCountEqual([set(s) for s in ps], [set(s) for s in subsets])\n",
    "    def test_power_set_iterative(self):\n",
    "        s = ['a', 'b', 'c', 'd']\n",
    "        ps = power_set(s)\n",
    "        self.assertEqual(len(ps), 16)\n",
    "        subsets = [[], ['a'], ['b'], ['c'], ['d'],\n",
    "            ['a', 'b'], ['a', 'c'], ['a', 'd'], ['b', 'c'], ['b', 'd'], ['c', 'd'],\n",
    "            ['a', 'b', 'c'], ['a', 'b', 'd'], ['a', 'c', 'd'], ['b', 'c', 'd'], ['a', 'b', 'c', 'd']]\n",
    "        self.assertCountEqual([set(s) for s in ps], [set(s) for s in subsets])\n",
    "\n",
    "unittest.main(argv=['first-arg-is-ignored'], exit=False)"
   ]
  },
  {
   "cell_type": "markdown",
   "metadata": {},
   "source": [
    "<a id='8.5'></a>\n",
    "### 8.5 Recursive Multiply\n",
    "Write a recursive function to multiply two positive integers without using the `*` operator.You can use addition, subtraction, and bit shifting, but you should minimize the number of those operations."
   ]
  },
  {
   "cell_type": "code",
   "execution_count": 18,
   "metadata": {},
   "outputs": [
    {
     "name": "stderr",
     "output_type": "stream",
     "text": [
      "..\n",
      "----------------------------------------------------------------------\n",
      "Ran 2 tests in 0.005s\n",
      "\n",
      "OK\n"
     ]
    },
    {
     "data": {
      "text/plain": [
       "<unittest.main.TestProgram at 0x2154273f0f0>"
      ]
     },
     "execution_count": 18,
     "metadata": {},
     "output_type": "execute_result"
    }
   ],
   "source": [
    "# iterative\n",
    "def multiply(a, b):\n",
    "    if a < b:\n",
    "        n, m = a, b\n",
    "    else:\n",
    "        n, m = b, a\n",
    "    product = 0\n",
    "    for _ in range(n):\n",
    "        product += m\n",
    "    return product\n",
    "\n",
    "# O(log(min(a, b))) solution use bit shifting\n",
    "def multiply_bit(a, b):\n",
    "    if a > b:\n",
    "        n, m = a, b\n",
    "    else:\n",
    "        n, m = b, a\n",
    "    product = 0\n",
    "    while m:\n",
    "        bit = m & -m\n",
    "        m ^= bit\n",
    "        exponent = bit.bit_length() - 1\n",
    "        product += n << exponent\n",
    "    return product\n",
    "\n",
    "class Test(unittest.TestCase):\n",
    "    def test_multiply(self):\n",
    "        self.assertEqual(multiply(2, 2), 4)\n",
    "        self.assertEqual(multiply(1, 125), 125)\n",
    "        self.assertEqual(multiply(7, 11), 77)\n",
    "        self.assertEqual(multiply(10000000010, 21), 210000000210)\n",
    "    def test_multiply_bit(self):\n",
    "        self.assertEqual(multiply_bit(2, 2), 4)\n",
    "        self.assertEqual(multiply_bit(1, 125), 125)\n",
    "        self.assertEqual(multiply_bit(7, 11), 77)\n",
    "        self.assertEqual(multiply_bit(10000000010, 21), 210000000210)\n",
    "        \n",
    "unittest.main(argv=['first-arg-is-ignored'], exit=False)"
   ]
  },
  {
   "cell_type": "markdown",
   "metadata": {},
   "source": [
    "<a id='8.6'></a>\n",
    "### 8.6 Towers of Hanoi\n",
    "In the classic problem of the Towers of Hanoi, you have 3 towers and N disks of different sizes which can slide onto any tower. The puzzle starts with disks sorted in ascending order of size from top to bottom (i.e., each disk sits on top of an even larger one). You have the following constraints: (1) Only one disk can be moved at a time.(2) A disk is slid off the top of one tower onto another tower.(3) A disk cannot be placed on top of a smaller disk. Write a program to move the disks from the first tower to the last using stacks."
   ]
  },
  {
   "cell_type": "code",
   "execution_count": 19,
   "metadata": {},
   "outputs": [
    {
     "name": "stderr",
     "output_type": "stream",
     "text": [
      ".\n",
      "----------------------------------------------------------------------\n",
      "Ran 1 test in 0.000s\n",
      "\n",
      "OK\n"
     ]
    },
    {
     "data": {
      "text/plain": [
       "<unittest.main.TestProgram at 0x2154272a208>"
      ]
     },
     "execution_count": 19,
     "metadata": {},
     "output_type": "execute_result"
    }
   ],
   "source": [
    "class Tower(object):\n",
    "    def __init__(self, name, disks=None):\n",
    "        self.name = name\n",
    "        if disks:\n",
    "            self.disks = disks\n",
    "        else:\n",
    "            self.disks = []\n",
    "    def __str__(self):\n",
    "        return self.name\n",
    "    \n",
    "def towers_of_hanoi(t1, t2, t3, n=None): # move from t1, move to t2, n left to move\n",
    "    if n is None:\n",
    "        n = len(t1.disks) # moving from t1\n",
    "    if n == 0:\n",
    "        return\n",
    "    towers_of_hanoi(t1, t3, t2, n-1) # move from t1, move to t2, n-1 left to move\n",
    "    disk = t1.disks.pop()\n",
    "    t3.disks.append(disk)\n",
    "    towers_of_hanoi(t2, t1, t3, n-1) # move from t2, move to t3, n-1 left to move\n",
    "    \n",
    "\n",
    "class Test(unittest.TestCase):\n",
    "    def test_towers_of_hanoi(self):\n",
    "        tower1 = Tower(\"Tower1\", [\"6\", \"5\", \"4\", \"3\", \"2\", \"1\"])\n",
    "        tower2 = Tower(\"Tower2\")\n",
    "        tower3 = Tower(\"Tower3\")\n",
    "        towers_of_hanoi(tower1, tower2, tower3)\n",
    "        self.assertEqual(tower1.disks, [])\n",
    "        self.assertEqual(tower2.disks, [])\n",
    "        self.assertEqual(tower3.disks, [\"6\", \"5\", \"4\", \"3\", \"2\", \"1\"])\n",
    "\n",
    "unittest.main(argv=['first-arg-is-ignored'], exit=False)"
   ]
  },
  {
   "cell_type": "markdown",
   "metadata": {},
   "source": [
    "<a id='8.7'></a>\n",
    "### 8.7 Permutations without Dups\n",
    "Write a method to compute all permutations of a string of unique characters."
   ]
  },
  {
   "cell_type": "code",
   "execution_count": 20,
   "metadata": {},
   "outputs": [
    {
     "name": "stderr",
     "output_type": "stream",
     "text": [
      ".\n",
      "----------------------------------------------------------------------\n",
      "Ran 1 test in 0.000s\n",
      "\n",
      "OK\n"
     ]
    },
    {
     "data": {
      "text/plain": [
       "<unittest.main.TestProgram at 0x2154271e860>"
      ]
     },
     "execution_count": 20,
     "metadata": {},
     "output_type": "execute_result"
    }
   ],
   "source": [
    "def permutations(string):\n",
    "    def partial_permutations(partial, letters):\n",
    "        if len(letters) == 0:\n",
    "            return [partial]\n",
    "        permutations = []\n",
    "        for i, l in enumerate(letters):\n",
    "            next_letters = letters[:i] + letters[i+1:]\n",
    "            permutations += partial_permutations(partial + l, next_letters)\n",
    "        return permutations\n",
    "    return partial_permutations(\"\", string)\n",
    "\n",
    "class Test(unittest.TestCase):\n",
    "    def test_permutations(self):\n",
    "        self.assertEqual(permutations(\"ABCD\"), [\"ABCD\", \"ABDC\", \"ACBD\", \"ACDB\",\n",
    "            \"ADBC\", \"ADCB\", \"BACD\", \"BADC\", \"BCAD\", \"BCDA\", \"BDAC\", \"BDCA\",\n",
    "            \"CABD\", \"CADB\", \"CBAD\", \"CBDA\", \"CDAB\", \"CDBA\", \"DABC\", \"DACB\",\n",
    "            \"DBAC\", \"DBCA\", \"DCAB\", \"DCBA\"])\n",
    "\n",
    "unittest.main(argv=['first-arg-is-ignored'], exit=False)"
   ]
  },
  {
   "cell_type": "markdown",
   "metadata": {},
   "source": [
    "<a id='8.8'></a>\n",
    "### 8.8 Permutations with Dups\n",
    "Write a method to compute all permutations of a string whose charac­ters are not necessarily unique. The list of permutations should not have duplicates. "
   ]
  },
  {
   "cell_type": "code",
   "execution_count": 21,
   "metadata": {},
   "outputs": [
    {
     "name": "stderr",
     "output_type": "stream",
     "text": [
      ".\n",
      "----------------------------------------------------------------------\n",
      "Ran 1 test in 0.000s\n",
      "\n",
      "OK\n"
     ]
    },
    {
     "data": {
      "text/plain": [
       "<unittest.main.TestProgram at 0x2154271e668>"
      ]
     },
     "execution_count": 21,
     "metadata": {},
     "output_type": "execute_result"
    }
   ],
   "source": [
    "def permutations(string):\n",
    "    def partial_permutations(partial, letters):\n",
    "        if len(letters) == 0:\n",
    "            return [partial]\n",
    "        permutations = []\n",
    "        prev = None\n",
    "        for i, l in enumerate(letters):\n",
    "            if l == prev:\n",
    "                continue\n",
    "            next_partial = partial + l\n",
    "            next_letters = letters[:i] + letters[i+1:]\n",
    "            permutations += partial_permutations(next_partial, next_letters)\n",
    "            prev = l\n",
    "        return permutations\n",
    "    return partial_permutations(\"\", sorted(string))\n",
    "\n",
    "class Test(unittest.TestCase):\n",
    "    def test_permutations(self):\n",
    "        self.assertEqual(permutations(\"abca\"), [\"aabc\", \"aacb\", \"abac\", \"abca\",\n",
    "            \"acab\", \"acba\", \"baac\", \"baca\", \"bcaa\", \"caab\", \"caba\", \"cbaa\"])\n",
    "        self.assertEqual(permutations(\"ABCD\"), [\"ABCD\", \"ABDC\", \"ACBD\", \"ACDB\",\n",
    "            \"ADBC\", \"ADCB\", \"BACD\", \"BADC\", \"BCAD\", \"BCDA\", \"BDAC\", \"BDCA\",\n",
    "            \"CABD\", \"CADB\", \"CBAD\", \"CBDA\", \"CDAB\", \"CDBA\", \"DABC\", \"DACB\",\n",
    "            \"DBAC\", \"DBCA\", \"DCAB\", \"DCBA\"])\n",
    "\n",
    "unittest.main(argv=['first-arg-is-ignored'], exit=False)"
   ]
  },
  {
   "cell_type": "markdown",
   "metadata": {},
   "source": [
    "<a id='8.9'></a>\n",
    "### 8.9 Parens\n",
    "Implement an algorithm to print all valid (e.g., properly opened and closed) combinations of n pairs of parentheses.\n",
    " EXAMPLE\n",
    "```\n",
    "Input: 3\n",
    "Output: ( (   () ) ) ,  ( () () ) ,  ( () ) () ,  () ( () ) ,   () () () \n",
    "```"
   ]
  },
  {
   "cell_type": "code",
   "execution_count": 22,
   "metadata": {},
   "outputs": [
    {
     "name": "stderr",
     "output_type": "stream",
     "text": [
      ".\n",
      "----------------------------------------------------------------------\n",
      "Ran 1 test in 0.000s\n",
      "\n",
      "OK\n"
     ]
    },
    {
     "data": {
      "text/plain": [
       "<unittest.main.TestProgram at 0x21542700cc0>"
      ]
     },
     "execution_count": 22,
     "metadata": {},
     "output_type": "execute_result"
    }
   ],
   "source": [
    "# iterative\n",
    "def parens(n):\n",
    "    paren = [[\"\"]] # each entry is the solution for n pairs, 0 pairs is \"\"\n",
    "    if n == 0:\n",
    "        return paren\n",
    "    for length in range(1, n+1):\n",
    "        paren.append([]) # initialize entry for n pairs\n",
    "        for i in range(length):\n",
    "            for inside in paren[i]: # each entry for n pairs is possible inside for n+1 pairs\n",
    "                for outside in paren[length - 1 - i]:\n",
    "                    paren[length].append(\"(\" + inside + \")\")\n",
    "    return paren[n]\n",
    "\n",
    "\n",
    "class Test(unittest.TestCase):\n",
    "    def test_parens(self):\n",
    "        self.assertEqual([set(p) for p in parens(1)], [set(p) for p in [\"()\"]])\n",
    "        self.assertEqual([set(p) for p in parens(2)], [set(p) for p in [\"()()\", \"(())\"]])\n",
    "        self.assertEqual([set(p) for p in parens(3)], [set(p) for p in [\"()()()\", \"()(())\", \"(())()\", \"(()())\",\n",
    "            \"((()))\"]])\n",
    "\n",
    "unittest.main(argv=['first-arg-is-ignored'], exit=False)"
   ]
  },
  {
   "cell_type": "markdown",
   "metadata": {},
   "source": [
    "<a id='8.10'></a>\n",
    "### 8.10 Paint Fill\n",
    "Implement the \"paint fill\" function that one might see on many image editing programs. That is, given a screen (represented by a two-dimensional array of colors), a point, and a new color, fill in the surrounding area until the color changes from the original color. "
   ]
  },
  {
   "cell_type": "code",
   "execution_count": 23,
   "metadata": {},
   "outputs": [
    {
     "name": "stderr",
     "output_type": "stream",
     "text": [
      ".\n",
      "----------------------------------------------------------------------\n",
      "Ran 1 test in 0.001s\n",
      "\n",
      "OK\n"
     ]
    },
    {
     "data": {
      "text/plain": [
       "<unittest.main.TestProgram at 0x21542745748>"
      ]
     },
     "execution_count": 23,
     "metadata": {},
     "output_type": "execute_result"
    }
   ],
   "source": [
    "def paint_fill(image, x, y, color):\n",
    "    if x < 0 or y < 0 or len(image) <= y or len(image[y]) <= x:\n",
    "        return\n",
    "    old_color = image[y][x]\n",
    "    if old_color == color:\n",
    "        return\n",
    "    def paint_fill_color(image, x, y, new_color, old_color):\n",
    "        if image[y][x] != old_color:\n",
    "            return\n",
    "        image[y][x] = new_color\n",
    "        if y > 0:\n",
    "            paint_fill_color(image, x, y-1, new_color, old_color)\n",
    "        if y < len(image)-1:\n",
    "            paint_fill_color(image, x, y+1, new_color, old_color)\n",
    "        if x > 0:\n",
    "            paint_fill_color(image, x-1, y, new_color, old_color)\n",
    "        if x < len(image[y])-1:\n",
    "            paint_fill_color(image, x+1, y, new_color, old_color)\n",
    "    paint_fill_color(image, x, y, color, old_color)\n",
    "\n",
    "class Test(unittest.TestCase):\n",
    "    def test_paint_fill(self):\n",
    "        image1 = [[10, 10, 10, 10, 10, 10, 10, 40],\n",
    "                  [30, 20, 20, 10, 10, 40, 40, 40],\n",
    "                  [10, 10, 20, 20, 10, 10, 10, 10],\n",
    "                  [10, 10, 30, 20, 20, 20, 20, 10],\n",
    "                  [40, 40, 10, 10, 10, 10, 10, 10]]\n",
    "        image2 = [[30, 30, 30, 30, 30, 30, 30, 40],\n",
    "                  [30, 20, 20, 30, 30, 40, 40, 40],\n",
    "                  [10, 10, 20, 20, 30, 30, 30, 30],\n",
    "                  [10, 10, 30, 20, 20, 20, 20, 30],\n",
    "                  [40, 40, 30, 30, 30, 30, 30, 30]]\n",
    "        image3 = [[30, 30, 30, 30, 30, 30, 30, 40],\n",
    "                  [30, 20, 20, 30, 30, 40, 40, 40],\n",
    "                  [30, 30, 20, 20, 30, 30, 30, 30],\n",
    "                  [30, 30, 30, 20, 20, 20, 20, 30],\n",
    "                  [40, 40, 30, 30, 30, 30, 30, 30]]\n",
    "        paint_fill(image1, 3, 1, 30)\n",
    "        self.assertEqual(image1, image2)\n",
    "        paint_fill(image1, 3, 1, 10)\n",
    "        paint_fill(image1, 3, 1, 30)\n",
    "        self.assertEqual(image1, image3)\n",
    "\n",
    "unittest.main(argv=['first-arg-is-ignored'], exit=False)"
   ]
  },
  {
   "cell_type": "markdown",
   "metadata": {},
   "source": [
    "<a id='8.11'></a>\n",
    "### 8.11 Coins\n",
    "Given an infinite number of quarters (25 cents), dimes (10 cents), nickels (5 cents), and pennies (1 cent), write code to calculate the number of ways of representing n cents."
   ]
  },
  {
   "cell_type": "code",
   "execution_count": 24,
   "metadata": {},
   "outputs": [
    {
     "name": "stderr",
     "output_type": "stream",
     "text": [
      "..\n",
      "----------------------------------------------------------------------\n",
      "Ran 2 tests in 0.100s\n",
      "\n",
      "OK\n"
     ]
    },
    {
     "data": {
      "text/plain": [
       "<unittest.main.TestProgram at 0x2154269a208>"
      ]
     },
     "execution_count": 24,
     "metadata": {},
     "output_type": "execute_result"
    }
   ],
   "source": [
    "# recursive\n",
    "def coins(cents):\n",
    "    def coins_pnd(cents):\n",
    "        count = 0\n",
    "        for c in range(cents, -1, -10):\n",
    "            count += (c // 5) + 1\n",
    "        return count\n",
    "    count = 0\n",
    "    for c in range(cents, -1, -25):\n",
    "        count += coins_pnd(c)\n",
    "    return count\n",
    "\n",
    "# math equation\n",
    "def coins2(cents):\n",
    "    n = cents // 5\n",
    "    return int(n*n*n/60 + n*n*9/40 + n*53/60 + 301/240)\n",
    "\n",
    "class Test(unittest.TestCase):\n",
    "    def test_coins(self):\n",
    "        self.assertEqual(coins(0), 1)\n",
    "        self.assertEqual(coins(1), 1)\n",
    "        self.assertEqual(coins(4), 1)\n",
    "        self.assertEqual(coins(5), 2)\n",
    "        self.assertEqual(coins(15), 6)\n",
    "        self.assertEqual(coins(17), 6)\n",
    "        self.assertEqual(coins(20), 9)\n",
    "        self.assertEqual(coins(25), 13)\n",
    "        self.assertEqual(coins(52), 49)\n",
    "        \n",
    "    def test_coins2(self):\n",
    "        for c in range(1000):\n",
    "            self.assertEqual(coins(c), coins2(c))\n",
    "        self.assertEqual(coins2(1000000), 133342333510001)\n",
    "\n",
    "unittest.main(argv=['first-arg-is-ignored'], exit=False)"
   ]
  },
  {
   "cell_type": "markdown",
   "metadata": {},
   "source": [
    "<a id='8.12'></a>\n",
    "### 8.12 Eight Queens\n",
    "Write an algorithm to print all ways of arranging eight queens on an 8x8 chess board so that none of them share the same row, column, or diagonal. In this case, \"diagonal\" means all diagonals, not just the two that bisect the board."
   ]
  },
  {
   "cell_type": "code",
   "execution_count": 25,
   "metadata": {},
   "outputs": [
    {
     "name": "stderr",
     "output_type": "stream",
     "text": [
      ".\n",
      "----------------------------------------------------------------------\n",
      "Ran 1 test in 0.017s\n",
      "\n",
      "OK\n"
     ]
    },
    {
     "data": {
      "text/plain": [
       "<unittest.main.TestProgram at 0x215427458d0>"
      ]
     },
     "execution_count": 25,
     "metadata": {},
     "output_type": "execute_result"
    }
   ],
   "source": [
    "STEPS = [\n",
    "  lambda b: (b << 1) & 0xFEFEFEFEFEFEFEFE,\n",
    "  lambda b: (b << 7) & 0x7F7F7F7F7F7F7F7F,\n",
    "  lambda b: (b << 9) & 0xFEFEFEFEFEFEFEFE,\n",
    "  lambda b: (b << 8) & 0xFFFFFFFFFFFFFFFF,\n",
    "  lambda b: (b >> 1) & 0x7F7F7F7F7F7F7F7F,\n",
    "  lambda b: (b >> 7) & 0xFEFEFEFEFEFEFEFE,\n",
    "  lambda b: (b >> 9) & 0x7F7F7F7F7F7F7F7F,\n",
    "  lambda b: (b >> 8)]\n",
    "\n",
    "def eight_queens():\n",
    "    return eight_queens_partial(0, -1, 0xFF00000000000000)\n",
    "\n",
    "def eight_queens_partial(queens, available, row):\n",
    "    if row == 0:\n",
    "        return [queens]\n",
    "    placements = []\n",
    "    possibility = available & row\n",
    "    next_row = row >> 8\n",
    "    while possibility:\n",
    "        queen = possibility & -possibility\n",
    "        possibility ^= queen\n",
    "        next_queens = queens | queen\n",
    "        next_available = available & ~queen_reach(queen)\n",
    "        placements += eight_queens_partial(next_queens, next_available, next_row)\n",
    "    return placements\n",
    "\n",
    "def queen_reach(bit):\n",
    "    reach = bit\n",
    "    for step in STEPS:\n",
    "        move = bit\n",
    "        while move:\n",
    "            reach |= move\n",
    "            move = step(move)\n",
    "    return reach\n",
    "\n",
    "def show(placement):\n",
    "    parts = [\"\\n+-----------------+\\n\"]\n",
    "    for row in range(8):\n",
    "        parts.append('| ')\n",
    "        for col in range(8):\n",
    "            bit = 1 << (row * 8 + col)\n",
    "            if bit & placement:\n",
    "                parts.append('Q ')\n",
    "            else:\n",
    "                parts.append('  ')\n",
    "        parts.append('|\\n')\n",
    "    parts.append(\"+-----------------+\\n\")\n",
    "    return \"\".join(parts)\n",
    "\n",
    "class Test(unittest.TestCase):\n",
    "    def test_eight_queens(self):\n",
    "        placements = eight_queens()\n",
    "        self.assertEqual(len(placements), 92)\n",
    "        self.assertEqual(show(placements[0]), \"\"\"\n",
    "+-----------------+\n",
    "|       Q         |\n",
    "|   Q             |\n",
    "|             Q   |\n",
    "|     Q           |\n",
    "|           Q     |\n",
    "|               Q |\n",
    "|         Q       |\n",
    "| Q               |\n",
    "+-----------------+\n",
    "\"\"\")\n",
    "\n",
    "unittest.main(argv=['first-arg-is-ignored'], exit=False)"
   ]
  },
  {
   "cell_type": "markdown",
   "metadata": {},
   "source": [
    "<a id='8.13'></a>\n",
    "### 8.13 Stack of Boxes\n",
    "You have a stack of n boxes, with widths wi, heights hi, and depths di. The boxes cannot be rotated and can only be stacked on top of one another if each box in the stack is strictly larger than the box above it in width, height, and depth. Implement a method to compute the height of the tallest possible stack. The height of a stack is the sum of the heights of each box. "
   ]
  },
  {
   "cell_type": "code",
   "execution_count": 26,
   "metadata": {},
   "outputs": [
    {
     "name": "stderr",
     "output_type": "stream",
     "text": [
      ".\n",
      "----------------------------------------------------------------------\n",
      "Ran 1 test in 0.000s\n",
      "\n",
      "OK\n"
     ]
    },
    {
     "data": {
      "text/plain": [
       "<unittest.main.TestProgram at 0x215426d7d68>"
      ]
     },
     "execution_count": 26,
     "metadata": {},
     "output_type": "execute_result"
    }
   ],
   "source": [
    "class Box(object):\n",
    "    def __init__(self, height, width, depth):\n",
    "        self.height, self.width, self.depth = height, width, depth\n",
    "    def fits_on(self, base):\n",
    "        return base.height > self.height and base.width > self.width and base.depth > self.depth\n",
    "\n",
    "def stack_boxes(boxes):\n",
    "    def stack_more_boxes(boxes, base, index):\n",
    "        if index >= len(boxes):\n",
    "            return 0\n",
    "        without_box_height = stack_more_boxes(boxes, base, index + 1)\n",
    "        box = boxes[index]\n",
    "        if not base or box.fits_on(base):\n",
    "            with_box_height = box.height + stack_more_boxes(boxes, box, index + 1)\n",
    "            if with_box_height > without_box_height:\n",
    "                return with_box_height\n",
    "        return without_box_height\n",
    "    sorted_boxes = sorted(boxes, key=lambda x: x.height, reverse=True)\n",
    "    return stack_more_boxes(sorted_boxes, None, 0)\n",
    "\n",
    "class Test(unittest.TestCase):\n",
    "    def test_stack_boxes(self):\n",
    "        boxes = [Box(100, 100, 100)]\n",
    "        self.assertEqual(stack_boxes(boxes), 100)\n",
    "        boxes.append(Box(25, 25, 25))\n",
    "        self.assertEqual(stack_boxes(boxes), 125)\n",
    "        boxes.append(Box(20, 5, 30))\n",
    "        boxes.append(Box(17, 4, 28))\n",
    "        self.assertEqual(stack_boxes(boxes), 137)\n",
    "        \n",
    "unittest.main(argv=['first-arg-is-ignored'], exit=False)"
   ]
  },
  {
   "cell_type": "markdown",
   "metadata": {},
   "source": [
    "<a id='8.14'></a>\n",
    "### 8.14 Boolean Evaluation\n",
    "Given a boolean expression consisting of the symbols 0 (false), 1 (true), & (AND), I  (OR), and /\\ (XOR), and a desired boolean result value result, implement a function to count the number of ways of parenthesizing the expression such that it evaluates to result.\n",
    "```\n",
    "EXAMPLE\n",
    "countEval(\"l/\\01011\", false) ->  2\n",
    "countEval(\"0&0&0&1/\\ll0\", true) ->  10\n",
    "```"
   ]
  },
  {
   "cell_type": "code",
   "execution_count": 27,
   "metadata": {},
   "outputs": [
    {
     "name": "stderr",
     "output_type": "stream",
     "text": [
      "..\n",
      "----------------------------------------------------------------------\n",
      "Ran 2 tests in 0.000s\n",
      "\n",
      "OK\n"
     ]
    },
    {
     "data": {
      "text/plain": [
       "<unittest.main.TestProgram at 0x215427825c0>"
      ]
     },
     "execution_count": 27,
     "metadata": {},
     "output_type": "execute_result"
    }
   ],
   "source": [
    "def count_eval(expr, value, memo=None):\n",
    "    if len(expr) % 2 == 0:\n",
    "        return Exception(\"Malformed expression.\")\n",
    "    if len(expr) == 1:\n",
    "        return int((expr == \"0\") ^ value)\n",
    "    if memo is None:\n",
    "        memo = {}\n",
    "    elif expr in memo:\n",
    "        counts = memo[expr]\n",
    "        return counts[int(value)]\n",
    "    true_count = 0\n",
    "    for opix in range(1, len(expr) - 1, 2):\n",
    "        left, op, right = expr[:opix], expr[opix], expr[(opix+1):]\n",
    "        if op == '&':\n",
    "            true_count += count_eval(left,True, memo) * count_eval(right,True, memo)\n",
    "        elif op == '|':\n",
    "            true_count += count_eval(left,True, memo) * count_eval(right,True, memo)\n",
    "            true_count += count_eval(left,False,memo) * count_eval(right,True, memo)\n",
    "            true_count += count_eval(left,True, memo) * count_eval(right,False,memo)\n",
    "        elif op == '^':\n",
    "            true_count += count_eval(left,True, memo) * count_eval(right,False,memo)\n",
    "            true_count += count_eval(left,False,memo) * count_eval(right,True, memo)\n",
    "        else:\n",
    "            return Exception('Unknown operation.')\n",
    "    total_count = catalan_number((len(expr) - 1) // 2)\n",
    "    false_count = total_count - true_count\n",
    "    counts = (false_count, true_count)\n",
    "    memo[expr] = counts\n",
    "    return counts[int(value)]\n",
    "\n",
    "def catalan_number(n):\n",
    "    number = 1\n",
    "    for i in range(n + 1, 2*n + 1):\n",
    "        number *= i\n",
    "    for i in range(1, n + 2):\n",
    "        number //= i\n",
    "    return number\n",
    "\n",
    "class Test(unittest.TestCase):\n",
    "    def test_count_eval(self):\n",
    "        self.assertEqual(count_eval(\"1\", True), 1)\n",
    "        self.assertEqual(count_eval(\"0\", True), 0)\n",
    "        self.assertEqual(count_eval(\"0\", False), 1)\n",
    "        self.assertEqual(count_eval(\"1&1\", True), 1)\n",
    "        self.assertEqual(count_eval(\"1|0\", False), 0)\n",
    "        self.assertEqual(count_eval(\"1^0\", True), 1)\n",
    "        self.assertEqual(count_eval(\"1&0&1\", True), 0)\n",
    "        self.assertEqual(count_eval(\"1|1^0\", True), 2)\n",
    "        self.assertEqual(count_eval(\"1^0|0|1\", False), 2)\n",
    "        self.assertEqual(count_eval(\"1^0|0|1\", True), 3)\n",
    "        self.assertEqual(count_eval(\"0&0&0&1^1|0\", True), 10)\n",
    "\n",
    "    def test_catalan_number(self):\n",
    "        self.assertEqual(catalan_number(0), 1)\n",
    "        self.assertEqual(catalan_number(1), 1)\n",
    "        self.assertEqual(catalan_number(2), 2)\n",
    "        self.assertEqual(catalan_number(3), 5)\n",
    "        self.assertEqual(catalan_number(4), 14)\n",
    "        self.assertEqual(catalan_number(5), 42)\n",
    "\n",
    "unittest.main(argv=['first-arg-is-ignored'], exit=False)"
   ]
  },
  {
   "cell_type": "markdown",
   "metadata": {},
   "source": [
    "<a id='9'></a>\n",
    "## 9. System Design and Scalability\n",
    "\n",
    "Design\n",
    "1. Scope the Problem\n",
    "2. Make Reasonable Assumptions\n",
    "3. Draw the Major Components\n",
    "4. Identify the Key Issues\n",
    "5. Redesign for the Key Issues\n",
    "Scaling\n",
    "1. Ask Questions\n",
    "2. Make Believe - solve with no limitations\n",
    "3. Get Real - consider limitations\n",
    "4. Solve Problems\n",
    "\n",
    "Key Concepts\n",
    "- Horizontal vs Vertical Scaling\n",
    "    - Vertical: increasing resources of a specific node\n",
    "        - Example: add additional memory to a server to better handle load\n",
    "    - Horizontal: increasing number of nodes\n",
    "        - Example: add additional servers to decrease load on any one server\n",
    "- Load Balancer\n",
    "    - Distribute the load evenly so one server doesn't crash and take down the whole system\n",
    "- Database Denormalization and NoSQL\n",
    "    - Joins in relational SQL can get very slow as system grows\n",
    "    - Denormalization: add redundant information to database to speed up reads\n",
    "    - NoSQL does not support joins and structures data to scale better\n",
    "- Database Partitioning\n",
    "    - Sharding: splitting data across multiple machiens with way to figure out why data is on which machine\n",
    "        - Vertical partitioning: partition by feature, drawback is that repartitioning might be required if tables get very large\n",
    "        - Key-based/Hash-based Partioning: partition by id, drawback is that adding additional servers means reallocating all data\n",
    "        - Directory-based Partioning: maintain a lookup table of where data is found, good for adding additional servers, drawback is 1) lookup is single point of failure and 2) constantly accessing lookup impacts performance\n",
    "- Caching\n",
    "    - In memory cache to deliver rapid results\n",
    "- Asynchronous Processing & Queues\n",
    "    - Slow operations should be asynchronous so user is not stuck waiting for process to complete\n",
    "- Networking Metrics\n",
    "    - Bandwidth: maximum amount of data that can be transferred in a unit of time\n",
    "    - Throughput: actual amount of data that is transferred\n",
    "    - Latency: how long it takes data to go from one end to the other\n",
    "- MapReduce\n",
    "    - Map takes in data and emits a key, value pair\n",
    "    - Reduce takes key and associated values and reduces, emitting a new key and value\n",
    "    - Allows doing a lot of processing in parallel, making data processing more scalable\n",
    "\n",
    "Considerations\n",
    "- Failures\n",
    "- Availability and Reliability\n",
    "    - Availability: percentage of time the system is operational\n",
    "    - Reliability: probability that the system is operational for certain unit of time\n",
    "- Read-heavy vs Write-heavy\n",
    "    - Read-heavy: might want to cache\n",
    "    - Write-heavy: consider queuing up the writes but think of failures\n",
    "- Security\n",
    "\n",
    "### Example\n",
    "Given a list of millions of documents, how would you find all documents that contain a list of words? The words can appear in any order, but they must be complete words (\"book\" does not match \"bookkeeper\").\n",
    "\n",
    "0. Assumptions\n",
    "    - Is findWords procedure a one time operation or will it be called repeatedly?\n",
    "    - Assume it will be used many times for same set (meaning it can accept pre-processing)\n",
    "\n",
    "1. Consider problem for small number of documents\n",
    "    - Pre-process each document and create a hash table index\n",
    "    - \"books\" -> {doc2, doc3, doc6, doc8}\n",
    "    - \"many\" -> {doc1, doc3, doc7, doc8, doc9}\n",
    "    - To search for \"many books\" simply do intersection on values for \"books\" and \"many\"\n",
    "\n",
    "2. What problems are introduced with millions of documents?"
   ]
  },
  {
   "cell_type": "markdown",
   "metadata": {},
   "source": [
    "<a id='9.1'></a>\n",
    "### 9.1 Stock Data\n",
    "Imagine you are building some sort of service that will be called by up to 1,000 client applications to get simple end-of-day stock price information (open, close, high, low). You may assume that you already have the data, and you can store it in any format you wish. How would you design the client-facing service that provides the information to client applications?You are responsible for the development, rollout, and ongoing monitoring and maintenance of the feed. Describe the different methods you considered and why you would recommend your approach. Your service can use any technologies you wish, and can distribute the information to the client applications in any mechanism you choose."
   ]
  },
  {
   "cell_type": "code",
   "execution_count": null,
   "metadata": {},
   "outputs": [],
   "source": []
  },
  {
   "cell_type": "markdown",
   "metadata": {},
   "source": [
    "<a id='9.2'></a>\n",
    "### 9.2 Social Network\n",
    "How would you design the data structures for a very large social network like Facebook or Linked In? Describe how you would design an algorithm to show the shortest path between two people (e.g., Me-> Bob-> Susan-> Jason-> You). \n",
    "\n",
    "<a id='9.3'></a>\n",
    "### 9.3 Web Crawler\n",
    " If you were designing a web crawler, how would you avoid getting into infinite loops? \n",
    " \n",
    "<a id='9.4'></a>\n",
    "### 9.4 Duplicate URLs\n",
    " You have 10 billion URLs. How do you detect the duplicate documents? In this case, assume \"duplicate\" means that the URLs are identical. \n",
    " \n",
    "<a id='9.5'></a>\n",
    "### 9.5 Cache\n",
    " Imagine a web server for a simplified search engine. This system has 100 machines to respond to search queries, which may then call out using processSearch ( string query) to another cluster of machines to actually get the result. The machine which responds to a given query is chosen at random, so you cannot guarantee that the same machine will always respond to the same request. The method processSearch is very expensive. Design a caching mechanism for the most recent queries. Be sure to explain how you would update the cache when data changes. \n",
    " \n",
    "<a id='9.6'></a>\n",
    "### 9.6 Sales Rank\n",
    " A large eCommerce company wishes to list the best-selling products, overall and by category. For example, one product might be the #1056th best-selling product overall but the #13th best-selling product under \"Sports Equipment\" and the #24th best-selling product under \"Safety.\" Describe how you would design this system. \n",
    " \n",
    "<a id='9.7'></a>\n",
    "### 9.7 Personal Financial Manager\n",
    " Explain how you would design a personal financial manager (like Mint.com). This system would connect to your bank accounts, analyze your spending habits, and make recommendations.\n",
    " \n",
    "<a id='9.8'></a>\n",
    "### 9.8 Pastebin\n",
    "Design a system like Pastebin, where a user can enter a piece of text and get a randomly generated URL to access it."
   ]
  },
  {
   "cell_type": "code",
   "execution_count": null,
   "metadata": {},
   "outputs": [],
   "source": []
  },
  {
   "cell_type": "markdown",
   "metadata": {},
   "source": [
    "<a id='10'></a>\n",
    "## 10. Sorting and Searching\n",
    "\n",
    "<a id='10.1'></a>\n",
    "### 10.1 Sorted Merge\n",
    "You are given two sorted arrays A and B, where A has a large enough buffer at the end to hold B. Write a method to merge B into A in sorted order."
   ]
  },
  {
   "cell_type": "code",
   "execution_count": 28,
   "metadata": {},
   "outputs": [
    {
     "name": "stderr",
     "output_type": "stream",
     "text": [
      ".\n",
      "----------------------------------------------------------------------\n",
      "Ran 1 test in 0.000s\n",
      "\n",
      "OK\n"
     ]
    },
    {
     "data": {
      "text/plain": [
       "<unittest.main.TestProgram at 0x21542745438>"
      ]
     },
     "execution_count": 28,
     "metadata": {},
     "output_type": "execute_result"
    }
   ],
   "source": [
    "def sorted_merge(a, b):\n",
    "    bi = len(b) - 1\n",
    "    ai = len(a) - len(b) - 1\n",
    "    while ai >= 0 and bi >= 0:\n",
    "        if a[ai] > b[bi]:\n",
    "            a[ai + bi + 1] = a[ai]\n",
    "            ai -= 1\n",
    "        else:\n",
    "            a[ai + bi + 1] = b[bi]\n",
    "            bi -= 1\n",
    "    while bi >= 0:\n",
    "        a[bi] = b[bi]\n",
    "        bi -= 1\n",
    "\n",
    "class Test(unittest.TestCase):\n",
    "    def test_sorted_merge(self):\n",
    "        a = [33, 44, 55, 66, 88, 99, None, None, None]\n",
    "        b = [11, 22, 77]\n",
    "        sorted_merge(a, b)\n",
    "        self.assertEqual(a, [11, 22, 33, 44, 55, 66, 77, 88, 99])\n",
    "        a = [11, 22, 55, 66, 88, None, None, None]\n",
    "        b = [33, 44, 99]\n",
    "        sorted_merge(a, b)\n",
    "        self.assertEqual(a, [11, 22, 33, 44, 55, 66, 88, 99])\n",
    "    \n",
    "unittest.main(argv=['first-arg-is-ignored'], exit=False)"
   ]
  },
  {
   "cell_type": "markdown",
   "metadata": {},
   "source": [
    "<a id='10.2'></a>\n",
    "### 10.2 Group Anagrams\n",
    "Write a method to sort an array of strings so that all the anagrams are next to each other."
   ]
  },
  {
   "cell_type": "code",
   "execution_count": 29,
   "metadata": {},
   "outputs": [
    {
     "name": "stderr",
     "output_type": "stream",
     "text": [
      ".\n",
      "----------------------------------------------------------------------\n",
      "Ran 1 test in 0.000s\n",
      "\n",
      "OK\n"
     ]
    },
    {
     "data": {
      "text/plain": [
       "<unittest.main.TestProgram at 0x2154274b630>"
      ]
     },
     "execution_count": 29,
     "metadata": {},
     "output_type": "execute_result"
    }
   ],
   "source": [
    "def group_anagrams(strings):\n",
    "    pairs = [(s, sorted(s)) for s in strings]\n",
    "    pairs.sort(key=lambda p: p[1])\n",
    "    return [p[0] for p in pairs]\n",
    "\n",
    "class Test(unittest.TestCase):\n",
    "    def test_group_anagrams(self):\n",
    "        strings = [\"cat\", \"bat\", \"rat\", \"arts\", \"tab\", \"tar\", \"car\", \"star\"]\n",
    "        self.assertEqual(group_anagrams(strings),\n",
    "                  [\"bat\", \"tab\", \"car\", \"cat\", \"arts\", \"star\", \"rat\", \"tar\"])\n",
    "    \n",
    "unittest.main(argv=['first-arg-is-ignored'], exit=False)"
   ]
  },
  {
   "cell_type": "markdown",
   "metadata": {},
   "source": [
    "<a id='10.3'></a>\n",
    "### 10.3 Search in Rotated Array\n",
    "Given a sorted array of n integers that has been rotated an unknown number of times, write code to find an element in the array. You may assume that the array was originally sorted in increasing order.\n",
    "```EXAMPLE\n",
    "lnput:findSin{15, 16, 19, 20, 25, 1, 3,  4, 5, 7, 10, 14}\n",
    "Output: 8 (the index of 5 in the array)\n",
    "```"
   ]
  },
  {
   "cell_type": "code",
   "execution_count": 30,
   "metadata": {},
   "outputs": [
    {
     "name": "stderr",
     "output_type": "stream",
     "text": [
      ".\n",
      "----------------------------------------------------------------------\n",
      "Ran 1 test in 0.000s\n",
      "\n",
      "OK\n"
     ]
    },
    {
     "data": {
      "text/plain": [
       "<unittest.main.TestProgram at 0x2154276dc50>"
      ]
     },
     "execution_count": 30,
     "metadata": {},
     "output_type": "execute_result"
    }
   ],
   "source": [
    "def rotated_search(array, item, l=0, r=None):\n",
    "    if r is None:\n",
    "        r = len(array)\n",
    "    if r <= l:\n",
    "        return None\n",
    "    m = (l + r)//2\n",
    "    left, middle = array[l], array[m]\n",
    "    if item == middle:\n",
    "        return m\n",
    "    if item == left:\n",
    "        return l\n",
    "    if left > middle:\n",
    "        if middle < item and item < left:\n",
    "            return rotated_search(array, item, m+1, r)\n",
    "        else:\n",
    "            return rotated_search(array, item, l+1, m)\n",
    "    elif left < item and item < middle:\n",
    "        return rotated_search(array, item, l+1, m)\n",
    "    else:\n",
    "        return rotated_search(array, item, m+1, r)\n",
    "    \n",
    "\n",
    "class Test(unittest.TestCase):\n",
    "    def test_rotated_search(self):\n",
    "        array = [55, 60, 65, 70, 75, 80, 85, 90, 95, 15, 20, 25, 30, 35, 40, 45]\n",
    "        self.assertEqual(rotated_search(array, 55), 0)\n",
    "        self.assertEqual(rotated_search(array, 60), 1)\n",
    "        self.assertEqual(rotated_search(array, 90), 7)\n",
    "        self.assertEqual(rotated_search(array, 95), 8)\n",
    "        self.assertEqual(rotated_search(array, 15), 9)\n",
    "        self.assertEqual(rotated_search(array, 30), 12)\n",
    "        self.assertEqual(rotated_search(array, 45), 15)\n",
    "\n",
    "unittest.main(argv=['first-arg-is-ignored'], exit=False)"
   ]
  },
  {
   "cell_type": "markdown",
   "metadata": {},
   "source": [
    "<a id='10.4'></a>\n",
    "### 10.4 Sorted Search, No Size\n",
    "You are  given an array-like data structure Listy which lacks a sizemethod. It does, however, have an elementAt ( i) method that returns the element at index i in 0( 1) time. If i is beyond the bounds of the data structure, it returns -1. (For this reason, the data structure only supports positive integers.) Given a Listy which contains sorted, positive integers, find the index at which an element x occurs. If x   occurs multiple times, you may return any index. "
   ]
  },
  {
   "cell_type": "code",
   "execution_count": 31,
   "metadata": {},
   "outputs": [
    {
     "name": "stderr",
     "output_type": "stream",
     "text": [
      ".\n",
      "----------------------------------------------------------------------\n",
      "Ran 1 test in 0.000s\n",
      "\n",
      "OK\n"
     ]
    },
    {
     "data": {
      "text/plain": [
       "<unittest.main.TestProgram at 0x2154269ab00>"
      ]
     },
     "execution_count": 31,
     "metadata": {},
     "output_type": "execute_result"
    }
   ],
   "source": [
    "class Listy(object):\n",
    "    def __init__(self, array):\n",
    "        self.array = array\n",
    "        \n",
    "    def __getitem__(self, i):\n",
    "        if i < len(self.array):\n",
    "            return self.array[i]\n",
    "        else:\n",
    "            return -1\n",
    "        \n",
    "def search_listy(listy, item, leftix=0, rightix=None):\n",
    "    if rightix is None:\n",
    "        rightix = 4\n",
    "        right = listy[rightix]\n",
    "        while right < item and right != -1:\n",
    "            rightix *= 2\n",
    "            right = listy[rightix]\n",
    "        if right == item:\n",
    "            return rightix\n",
    "    if leftix == rightix:\n",
    "        return None\n",
    "    middleix = (leftix + rightix) // 2\n",
    "    middle = listy[middleix]\n",
    "    if middle == item:\n",
    "        return middleix\n",
    "    if middle == -1 or middle > item:\n",
    "        return search_listy(listy, item, leftix, middleix)\n",
    "    else:\n",
    "        return search_listy(listy, item, middleix+1, rightix)\n",
    "    \n",
    "class Test(unittest.TestCase):\n",
    "    def test_search_listy(self):\n",
    "        listy = Listy([-22, -11, 11, 22, 33, 44, 55, 66, 77, 88, 99])\n",
    "        self.assertEqual(search_listy(listy, 25), None)\n",
    "        self.assertEqual(search_listy(listy, -22), 0)\n",
    "        self.assertEqual(search_listy(listy, 22), 3)\n",
    "        self.assertEqual(search_listy(listy, 66), 7)\n",
    "        self.assertEqual(search_listy(listy, 77), 8)\n",
    "        self.assertEqual(search_listy(listy, 99), 10)\n",
    "        self.assertEqual(search_listy(listy, 100), None)\n",
    "\n",
    "unittest.main(argv=['first-arg-is-ignored'], exit=False)"
   ]
  },
  {
   "cell_type": "markdown",
   "metadata": {},
   "source": [
    "<a id='10.5'></a>\n",
    "### 10.5 Sparse Search\n",
    "Given a  sorted array of strings that is  interspersed with empty strings, write a method to find the location of a given string.\n",
    "```\n",
    "EXAMPLE\n",
    "Input: ball,{\"at\", \"\" , '\"' , \"\" , \"ball\", \"\" , \"\" , \"car\",\"\" , '\"' , \"dad\", \"\"}\n",
    "Output: 4\n",
    "```"
   ]
  },
  {
   "cell_type": "code",
   "execution_count": 32,
   "metadata": {},
   "outputs": [
    {
     "name": "stderr",
     "output_type": "stream",
     "text": [
      ".\n",
      "----------------------------------------------------------------------\n",
      "Ran 1 test in 0.000s\n",
      "\n",
      "OK\n"
     ]
    },
    {
     "data": {
      "text/plain": [
       "<unittest.main.TestProgram at 0x215427837b8>"
      ]
     },
     "execution_count": 32,
     "metadata": {},
     "output_type": "execute_result"
    }
   ],
   "source": [
    "def sparse_search(array, item):\n",
    "    if item < 1:\n",
    "        return None\n",
    "    def sparse_search_bounds(array, item, left_ix, right_ix):\n",
    "        if left_ix == right_ix:\n",
    "            return None\n",
    "        middle_ix = (left_ix + right_ix) // 2\n",
    "        next_ix = middle_ix\n",
    "        next = array[next_ix]\n",
    "        while not next:\n",
    "            next_ix += 1\n",
    "            if next_ix == len(array):\n",
    "                return sparse_search_bounds(array, item, left_ix, middle_ix)\n",
    "            next = array[next_ix]\n",
    "        if next == item:\n",
    "            return next_ix\n",
    "        if next > item:\n",
    "            return sparse_search_bounds(array, item, left_ix, middle_ix)\n",
    "        else:\n",
    "            return sparse_search_bounds(array, item, next_ix+1, right_ix)\n",
    "    return sparse_search_bounds(array, item, 0, len(array))\n",
    "\n",
    "class Test(unittest.TestCase):\n",
    "    def test_sparse_search(self):\n",
    "        array = [0, 0, 7, 0, 0, 0, 0, 0, 19, 0, 0, 0, 0, 37, 40, 0, 0, 0]\n",
    "        self.assertEqual(sparse_search(array, 0), None)\n",
    "        self.assertEqual(sparse_search(array, 7), 2)\n",
    "        self.assertEqual(sparse_search(array, 19), 8)\n",
    "        self.assertEqual(sparse_search(array, 37), 13)\n",
    "        self.assertEqual(sparse_search(array, 40), 14)\n",
    "        array = [0, 12, 0, 18, 0, 0, 0, 0, 0, 0, 0, 0, 0, 0, 0, 0, 0, 0, 0]\n",
    "        self.assertEqual(sparse_search(array, 12), 1)\n",
    "        self.assertEqual(sparse_search(array, 18), 3)\n",
    "\n",
    "unittest.main(argv=['first-arg-is-ignored'], exit=False)"
   ]
  },
  {
   "cell_type": "markdown",
   "metadata": {},
   "source": [
    "<a id='10.6'></a>\n",
    "### 10.6 Sort Big File\n",
    "Imagine you have a 20 GB file with one string per line.  Explain how you would sort the file."
   ]
  },
  {
   "cell_type": "code",
   "execution_count": null,
   "metadata": {},
   "outputs": [],
   "source": []
  },
  {
   "cell_type": "markdown",
   "metadata": {},
   "source": [
    "<a id='10.7'></a>\n",
    "### 10.7 Missing Int\n",
    "Given an  input file with four billion non-negative integers, provide an algorithm to generate an integer that is not contained in the file. Assume you have 1  GB of memory available for this task.\n",
    "\n",
    "FOLLOW UP\n",
    "\n",
    "What if you have only 10 MB of memory? Assume that all the values are distinct and we now have no more than one billion non-negative integers. "
   ]
  },
  {
   "cell_type": "code",
   "execution_count": 33,
   "metadata": {},
   "outputs": [
    {
     "name": "stderr",
     "output_type": "stream",
     "text": [
      ".\n",
      "----------------------------------------------------------------------\n",
      "Ran 1 test in 0.005s\n",
      "\n",
      "OK\n"
     ]
    },
    {
     "data": {
      "text/plain": [
       "<unittest.main.TestProgram at 0x215427319e8>"
      ]
     },
     "execution_count": 33,
     "metadata": {},
     "output_type": "execute_result"
    }
   ],
   "source": [
    "import random\n",
    "\n",
    "def missing_int(integer_list):\n",
    "    guess = random.randint(0, (1 << 64) - 1)\n",
    "    for integer in integer_list:\n",
    "        if integer == guess:\n",
    "            return missing_int(integer_list)\n",
    "    return guess\n",
    "\n",
    "class Test(unittest.TestCase):\n",
    "    def test_missing_int(self):\n",
    "        integer_list = [400, 438, 998098093, 171, 10003]\n",
    "        integer = missing_int(integer_list)\n",
    "        self.assertFalse( integer in integer_list)\n",
    "\n",
    "unittest.main(argv=['first-arg-is-ignored'], exit=False)"
   ]
  },
  {
   "cell_type": "markdown",
   "metadata": {},
   "source": [
    "<a id='10.8'></a>\n",
    "### 10.8 Find Duplicates\n",
    "You have an array with all the numbers from 1 to N, where N is at most 32,000. The array may have duplicate entries and you do not know what N is. With only 4 kilobytes of memory available, how would you print all duplicate elements in the array? "
   ]
  },
  {
   "cell_type": "code",
   "execution_count": 34,
   "metadata": {},
   "outputs": [
    {
     "name": "stderr",
     "output_type": "stream",
     "text": [
      ".\n",
      "----------------------------------------------------------------------\n",
      "Ran 1 test in 0.000s\n",
      "\n",
      "OK\n"
     ]
    },
    {
     "data": {
      "text/plain": [
       "<unittest.main.TestProgram at 0x215427766a0>"
      ]
     },
     "execution_count": 34,
     "metadata": {},
     "output_type": "execute_result"
    }
   ],
   "source": [
    "def find_duplicates(array):\n",
    "    bv = [0] * 512\n",
    "    duplicates = []\n",
    "    for n in array:\n",
    "        bit = 1 << (n % 64)\n",
    "        if bv[n // 64] & bit:\n",
    "            duplicates.append(n)\n",
    "        else:\n",
    "            bv[n // 64] |= bit\n",
    "    return duplicates\n",
    "\n",
    "class Test(unittest.TestCase):\n",
    "    def test_find_duplicates(self):\n",
    "        array = [1, 2, 3, 4, 55, 20000, 20001, 20002, 20003, 17, 18, 19, 20, 22, 23,\n",
    "                 7, 2, 3, 3, 55, 20002, 20004, 20005, 20006, 16, 18, 22, 24, 25, 26]\n",
    "        self.assertEqual(find_duplicates(array), [2, 3, 3, 55, 20002, 18, 22])\n",
    "\n",
    "unittest.main(argv=['first-arg-is-ignored'], exit=False)"
   ]
  },
  {
   "cell_type": "markdown",
   "metadata": {},
   "source": [
    "<a id='10.9'></a>\n",
    "### 10.9 Sorted Matrix Search\n",
    "Given an M x N matrix in which each row and each column is sorted in ascending order, write a method to find an element"
   ]
  },
  {
   "cell_type": "code",
   "execution_count": 35,
   "metadata": {},
   "outputs": [
    {
     "name": "stderr",
     "output_type": "stream",
     "text": [
      ".\n",
      "----------------------------------------------------------------------\n",
      "Ran 1 test in 0.000s\n",
      "\n",
      "OK\n"
     ]
    },
    {
     "data": {
      "text/plain": [
       "<unittest.main.TestProgram at 0x21542775ba8>"
      ]
     },
     "execution_count": 35,
     "metadata": {},
     "output_type": "execute_result"
    }
   ],
   "source": [
    "def sorted_matrix_search(mat, item):\n",
    "    if len(mat) == 0:\n",
    "        return None\n",
    "    return sorted_matrix_search_bounds(mat, item, 0, len(mat[0]), 0, len(mat))\n",
    "\n",
    "def sorted_matrix_search_bounds(mat, item, x1, x2, y1, y2):\n",
    "    if x1 == x2 or y1 == y2:\n",
    "        return None\n",
    "    row, col = (y1 + y2)//2, (x1 + x2)//2\n",
    "    middle = mat[row][col]\n",
    "    if middle == item:\n",
    "        return (row, col)\n",
    "    if middle > item:\n",
    "        found = sorted_matrix_search_bounds(mat, item, x1, col, y1, row) or \\\n",
    "                sorted_matrix_search_bounds(mat, item, col, col+1, y1, row) or \\\n",
    "                sorted_matrix_search_bounds(mat, item, x1, col, row, row+1)\n",
    "        if found:\n",
    "            return found\n",
    "    else:\n",
    "        found = sorted_matrix_search_bounds(mat, item, col+1, x2, row+1, y2) or \\\n",
    "                sorted_matrix_search_bounds(mat, item, col, col+1, row+1, y2) or \\\n",
    "                sorted_matrix_search_bounds(mat, item, col+1, x2, row, row+1)\n",
    "        if found:\n",
    "            return found\n",
    "    return sorted_matrix_search_bounds(mat, item, x1, col, row+1, y2) or \\\n",
    "             sorted_matrix_search_bounds(mat, item, col+1, x2, y1, row)\n",
    "\n",
    "class Test(unittest.TestCase):\n",
    "    def test_sorted_matrix_search(self):\n",
    "        mat = [[1,   2,  3,  4,  5,  6,  7,  8,  9],\n",
    "               [5,  10, 15, 20, 25, 30, 35, 40, 45],\n",
    "               [10, 20, 30, 40, 50, 60, 70, 80, 90],\n",
    "               [13, 23, 33, 43, 53, 63, 73, 83, 93],\n",
    "               [14, 24, 34, 44, 54, 64, 74, 84, 94],\n",
    "               [15, 25, 35, 45, 55, 65, 75, 85, 95],\n",
    "               [16, 26, 36, 46, 56, 66, 77, 88, 99]]\n",
    "        self.assertEqual(sorted_matrix_search(mat, 10), (1,1))\n",
    "        self.assertEqual(sorted_matrix_search(mat, 13), (3,0))\n",
    "        self.assertEqual(sorted_matrix_search(mat, 14), (4,0))\n",
    "        self.assertEqual(sorted_matrix_search(mat, 16), (6,0))\n",
    "        self.assertEqual(sorted_matrix_search(mat, 56), (6,4))\n",
    "        self.assertEqual(sorted_matrix_search(mat, 65), (5,5))\n",
    "        self.assertEqual(sorted_matrix_search(mat, 74), (4,6))\n",
    "        self.assertEqual(sorted_matrix_search(mat, 99), (6,8))\n",
    "\n",
    "unittest.main(argv=['first-arg-is-ignored'], exit=False)"
   ]
  },
  {
   "cell_type": "markdown",
   "metadata": {},
   "source": [
    "<a id='10.10'></a>\n",
    "### 10.10 Rank from Stream\n",
    "Imagine you are reading in a stream of integers. Periodically, you wish to be able to lookup the rank of a numberx (the number of values less than or equal to x). lmplementthe data structures and algorithms to support these operations. That is, implement the method track ( int x), which is called when each number is generated, and the method getRankOfNumber(int x), which returns the number of values less than or equal to x (not including x itself).\n",
    "```EXAMPLE\n",
    "Stream (in order of appearance): 5,  1,  4,  4, 5,  9,  7,  13, 3\n",
    "getRankOfNumber(l) = 0\n",
    "getRankOfNumber(3) = 1\n",
    "getRankOfNumber(4) = 3\n",
    "```"
   ]
  },
  {
   "cell_type": "code",
   "execution_count": 36,
   "metadata": {},
   "outputs": [
    {
     "name": "stderr",
     "output_type": "stream",
     "text": [
      ".\n",
      "----------------------------------------------------------------------\n",
      "Ran 1 test in 0.000s\n",
      "\n",
      "OK\n"
     ]
    },
    {
     "data": {
      "text/plain": [
       "<unittest.main.TestProgram at 0x21542775518>"
      ]
     },
     "execution_count": 36,
     "metadata": {},
     "output_type": "execute_result"
    }
   ],
   "source": [
    "class RankNode(object):\n",
    "    def __init__(self, data=None):\n",
    "        self.data = data\n",
    "        self.left, self.right = None, None\n",
    "        if self.data is None:\n",
    "            self.count = 0\n",
    "        else:\n",
    "            self.count = 1\n",
    "        self.left_count = 0\n",
    "\n",
    "    def track(self, item):\n",
    "        if self.data is None:\n",
    "            self.data = item\n",
    "            self.count = 1\n",
    "        elif self.data == item:\n",
    "            self.count += 1\n",
    "        elif self.data > item:\n",
    "            if self.left:\n",
    "                self.left.track(item)\n",
    "            else:\n",
    "                self.left = RankNode(item)\n",
    "            self.left_count += 1\n",
    "        else:\n",
    "            if self.right:\n",
    "                self.right.track(item)\n",
    "            else:\n",
    "                self.right = RankNode(item)\n",
    "\n",
    "    def get_rank(self, item):\n",
    "        if self.data is None:\n",
    "            return 0\n",
    "        elif self.data < item:\n",
    "            if self.right:\n",
    "                return self.count + self.left_count + self.right.get_rank(item)\n",
    "            else:\n",
    "                return self.count + self.left_count\n",
    "        elif self.data > item:\n",
    "            if self.left:\n",
    "                return self.left.get_rank(item)\n",
    "            else:\n",
    "                return 0\n",
    "        else:\n",
    "            return self.left_count\n",
    "\n",
    "class Test(unittest.TestCase):\n",
    "    def test_rank_tree(self):\n",
    "        rt = RankNode()\n",
    "        self.assertEqual(rt.get_rank(20), 0)\n",
    "        rt.track(11)\n",
    "        self.assertEqual(rt.get_rank(20), 1)\n",
    "        self.assertEqual(rt.get_rank(10), 0)\n",
    "        rt.track(30)\n",
    "        rt.track(7)\n",
    "        rt.track(7)\n",
    "        rt.track(10)\n",
    "        rt.track(15)\n",
    "        rt.track(7)\n",
    "        rt.track(3)\n",
    "        rt.track(22)\n",
    "        self.assertEqual(rt.get_rank(20), 7)\n",
    "        self.assertEqual(rt.get_rank(7), 1)\n",
    "        self.assertEqual(rt.get_rank(8), 4)\n",
    "        self.assertEqual(rt.get_rank(14), 6)\n",
    "\n",
    "unittest.main(argv=['first-arg-is-ignored'], exit=False)"
   ]
  },
  {
   "cell_type": "markdown",
   "metadata": {},
   "source": [
    "<a id='10.11'></a>\n",
    "### 10.11 Peaks and Valleys\n",
    "\n",
    "In an array of integers, a \"peak\" is an element which is greater than or equal to the adjacent integers and a \"valley\" is an element which is less than or equal to the adjacent inte­gers. For example, in the array {5, 8, 6, 2, 3, 4, 6}, {8, 6} are peaks and {5, 2} are valleys. Given an array of integers, sort the array into an alternating sequence of peaks and valleys. \n",
    "```\n",
    "EXAMPLE\n",
    "Input: {5, 3, 1, 2, 3}\n",
    "Output: {5, 1, 3, 2, 3}\n",
    "```"
   ]
  },
  {
   "cell_type": "code",
   "execution_count": 37,
   "metadata": {},
   "outputs": [
    {
     "name": "stderr",
     "output_type": "stream",
     "text": [
      ".\n",
      "----------------------------------------------------------------------\n",
      "Ran 1 test in 0.000s\n",
      "\n",
      "OK\n"
     ]
    },
    {
     "data": {
      "text/plain": [
       "<unittest.main.TestProgram at 0x2154275f780>"
      ]
     },
     "execution_count": 37,
     "metadata": {},
     "output_type": "execute_result"
    }
   ],
   "source": [
    "def peaks_and_valleys(array):\n",
    "    if len(array) < 3:\n",
    "        return\n",
    "    for i in range(len(array) - 1):\n",
    "        if i % 2: # if peak\n",
    "            if array[i] < array[i + 1]:\n",
    "                array[i], array[i + 1] = array[i + 1], array[i]\n",
    "        else: # if valley\n",
    "            if array[i] > array[i + 1]:\n",
    "                array[i], array[i + 1] = array[i + 1], array[i]\n",
    "                \n",
    "class Test(unittest.TestCase):\n",
    "    def test_peaks_and_valleys(self):\n",
    "        a = [12, 6, 3, 1, 0, 14, 13, 20, 22, 10]\n",
    "        peaks_and_valleys(a)\n",
    "        self.assertEqual(a, [6, 12, 1, 3, 0, 14, 13, 22, 10, 20])\n",
    "        b = [34, 55, 60, 65, 70, 75, 85, 10, 5, 16]\n",
    "        peaks_and_valleys(b)\n",
    "        self.assertEqual(b, [34, 60, 55, 70, 65, 85, 10, 75, 5, 16])\n",
    "\n",
    "unittest.main(argv=['first-arg-is-ignored'], exit=False)"
   ]
  },
  {
   "cell_type": "code",
   "execution_count": null,
   "metadata": {},
   "outputs": [],
   "source": []
  }
 ],
 "metadata": {
  "kernelspec": {
   "display_name": "Python 3",
   "language": "python",
   "name": "python3"
  },
  "language_info": {
   "codemirror_mode": {
    "name": "ipython",
    "version": 3
   },
   "file_extension": ".py",
   "mimetype": "text/x-python",
   "name": "python",
   "nbconvert_exporter": "python",
   "pygments_lexer": "ipython3",
   "version": "3.6.4"
  }
 },
 "nbformat": 4,
 "nbformat_minor": 2
}
